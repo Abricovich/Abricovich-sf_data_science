{
 "cells": [
  {
   "cell_type": "markdown",
   "metadata": {},
   "source": [
    "# Подбор гиперпараметров модели на примере [Kaggle: Predicting a Biological Response](https://www.kaggle.com/c/bioresponse)"
   ]
  },
  {
   "cell_type": "markdown",
   "metadata": {},
   "source": [
    "## 1. **Вводные данные**"
   ]
  },
  {
   "cell_type": "markdown",
   "metadata": {},
   "source": [
    "Наша практика будет основана на соревновании [Kaggle: Predicting a Biological Response](https://www.kaggle.com/c/bioresponse) (Прогнозирование биологического ответа). Необходимо предсказать биологический ответ молекул (столбец 'Activity') по их химическому составу (столбцы D1-D1776). \n",
    "\n",
    "[Данные](https://lms.skillfactory.ru/assets/courseware/v1/9f2add5bca59f8c4df927432d605fff3/asset-v1:SkillFactory+DSPR-2.0+14JULY2021+type@asset+block/_train_sem09__1_.zip) представлены в формате CSV.  Каждая строка представляет молекулу. \n",
    "\n",
    "- Первый столбец **Activity** содержит экспериментальные данные, описывающие фактический биологический ответ [0, 1]; \n",
    "- Остальные столбцы D1-D1776 представляют собой молекулярные **дескрипторы** — это вычисляемые свойства, которые могут фиксировать некоторые характеристики молекулы, например размер, форму или состав элементов.\n",
    "\n",
    "Предварительная обработка не требуется, данные уже закодированы и нормализованы.\n",
    "\n",
    "В качестве метрики будем использовать **F1-score**.\n",
    "\n",
    "Необходимо обучить две модели: логистическую регрессию и случайный лес. Далее нужно сделать подбор гиперпараметров с помощью базовых и продвинутых методов оптимизации. Важно использовать все четыре метода (**GridSeachCV**, **RandomizedSearchCV**, **Hyperopt**, **Optuna**) хотя бы по разу, максимальное количество итераций не должно превышать 50."
   ]
  },
  {
   "cell_type": "code",
   "execution_count": 1,
   "metadata": {},
   "outputs": [],
   "source": [
    "# импорт библиотек\n",
    "import numpy as np # для матричных вычислений\n",
    "import pandas as pd # для анализа и предобработки данных\n",
    "import matplotlib.pyplot as plt # для визуализации\n",
    "import seaborn as sns # для визуализации\n",
    "\n",
    "from sklearn import linear_model # линейные модели\n",
    "from sklearn import tree # деревья решений\n",
    "from sklearn import ensemble # ансамбли\n",
    "from sklearn import metrics # метрики\n",
    "from sklearn import preprocessing # предобработка\n",
    "from sklearn.model_selection import cross_val_score # кросс валидации\n",
    "\n",
    "%matplotlib inline\n",
    "plt.style.use('seaborn')"
   ]
  },
  {
   "cell_type": "markdown",
   "metadata": {},
   "source": [
    "Загрузим даннные и выведем пять строк датасета:\n",
    "\n",
    "**Примечание.** Для загрузки в локальный репозиторий воспользуйтесь командой: gdown 'https://drive.google.com/uc?id=1TlCdFMDFofyN7EIrIzXwwjcMBo4yHb1a'"
   ]
  },
  {
   "cell_type": "code",
   "execution_count": 2,
   "metadata": {},
   "outputs": [
    {
     "data": {
      "text/html": [
       "<div>\n",
       "<style scoped>\n",
       "    .dataframe tbody tr th:only-of-type {\n",
       "        vertical-align: middle;\n",
       "    }\n",
       "\n",
       "    .dataframe tbody tr th {\n",
       "        vertical-align: top;\n",
       "    }\n",
       "\n",
       "    .dataframe thead th {\n",
       "        text-align: right;\n",
       "    }\n",
       "</style>\n",
       "<table border=\"1\" class=\"dataframe\">\n",
       "  <thead>\n",
       "    <tr style=\"text-align: right;\">\n",
       "      <th></th>\n",
       "      <th>Activity</th>\n",
       "      <th>D1</th>\n",
       "      <th>D2</th>\n",
       "      <th>D3</th>\n",
       "      <th>D4</th>\n",
       "      <th>D5</th>\n",
       "      <th>D6</th>\n",
       "      <th>D7</th>\n",
       "      <th>D8</th>\n",
       "      <th>D9</th>\n",
       "      <th>...</th>\n",
       "      <th>D1767</th>\n",
       "      <th>D1768</th>\n",
       "      <th>D1769</th>\n",
       "      <th>D1770</th>\n",
       "      <th>D1771</th>\n",
       "      <th>D1772</th>\n",
       "      <th>D1773</th>\n",
       "      <th>D1774</th>\n",
       "      <th>D1775</th>\n",
       "      <th>D1776</th>\n",
       "    </tr>\n",
       "  </thead>\n",
       "  <tbody>\n",
       "    <tr>\n",
       "      <th>0</th>\n",
       "      <td>1</td>\n",
       "      <td>0.000000</td>\n",
       "      <td>0.497009</td>\n",
       "      <td>0.10</td>\n",
       "      <td>0.0</td>\n",
       "      <td>0.132956</td>\n",
       "      <td>0.678031</td>\n",
       "      <td>0.273166</td>\n",
       "      <td>0.585445</td>\n",
       "      <td>0.743663</td>\n",
       "      <td>...</td>\n",
       "      <td>0</td>\n",
       "      <td>0</td>\n",
       "      <td>0</td>\n",
       "      <td>0</td>\n",
       "      <td>0</td>\n",
       "      <td>0</td>\n",
       "      <td>0</td>\n",
       "      <td>0</td>\n",
       "      <td>0</td>\n",
       "      <td>0</td>\n",
       "    </tr>\n",
       "    <tr>\n",
       "      <th>1</th>\n",
       "      <td>1</td>\n",
       "      <td>0.366667</td>\n",
       "      <td>0.606291</td>\n",
       "      <td>0.05</td>\n",
       "      <td>0.0</td>\n",
       "      <td>0.111209</td>\n",
       "      <td>0.803455</td>\n",
       "      <td>0.106105</td>\n",
       "      <td>0.411754</td>\n",
       "      <td>0.836582</td>\n",
       "      <td>...</td>\n",
       "      <td>1</td>\n",
       "      <td>1</td>\n",
       "      <td>1</td>\n",
       "      <td>1</td>\n",
       "      <td>0</td>\n",
       "      <td>1</td>\n",
       "      <td>0</td>\n",
       "      <td>0</td>\n",
       "      <td>1</td>\n",
       "      <td>0</td>\n",
       "    </tr>\n",
       "    <tr>\n",
       "      <th>2</th>\n",
       "      <td>1</td>\n",
       "      <td>0.033300</td>\n",
       "      <td>0.480124</td>\n",
       "      <td>0.00</td>\n",
       "      <td>0.0</td>\n",
       "      <td>0.209791</td>\n",
       "      <td>0.610350</td>\n",
       "      <td>0.356453</td>\n",
       "      <td>0.517720</td>\n",
       "      <td>0.679051</td>\n",
       "      <td>...</td>\n",
       "      <td>0</td>\n",
       "      <td>0</td>\n",
       "      <td>0</td>\n",
       "      <td>0</td>\n",
       "      <td>0</td>\n",
       "      <td>0</td>\n",
       "      <td>0</td>\n",
       "      <td>0</td>\n",
       "      <td>0</td>\n",
       "      <td>0</td>\n",
       "    </tr>\n",
       "    <tr>\n",
       "      <th>3</th>\n",
       "      <td>1</td>\n",
       "      <td>0.000000</td>\n",
       "      <td>0.538825</td>\n",
       "      <td>0.00</td>\n",
       "      <td>0.5</td>\n",
       "      <td>0.196344</td>\n",
       "      <td>0.724230</td>\n",
       "      <td>0.235606</td>\n",
       "      <td>0.288764</td>\n",
       "      <td>0.805110</td>\n",
       "      <td>...</td>\n",
       "      <td>0</td>\n",
       "      <td>0</td>\n",
       "      <td>0</td>\n",
       "      <td>0</td>\n",
       "      <td>0</td>\n",
       "      <td>0</td>\n",
       "      <td>0</td>\n",
       "      <td>0</td>\n",
       "      <td>0</td>\n",
       "      <td>0</td>\n",
       "    </tr>\n",
       "    <tr>\n",
       "      <th>4</th>\n",
       "      <td>0</td>\n",
       "      <td>0.100000</td>\n",
       "      <td>0.517794</td>\n",
       "      <td>0.00</td>\n",
       "      <td>0.0</td>\n",
       "      <td>0.494734</td>\n",
       "      <td>0.781422</td>\n",
       "      <td>0.154361</td>\n",
       "      <td>0.303809</td>\n",
       "      <td>0.812646</td>\n",
       "      <td>...</td>\n",
       "      <td>0</td>\n",
       "      <td>0</td>\n",
       "      <td>0</td>\n",
       "      <td>0</td>\n",
       "      <td>0</td>\n",
       "      <td>0</td>\n",
       "      <td>0</td>\n",
       "      <td>0</td>\n",
       "      <td>0</td>\n",
       "      <td>0</td>\n",
       "    </tr>\n",
       "  </tbody>\n",
       "</table>\n",
       "<p>5 rows × 1777 columns</p>\n",
       "</div>"
      ],
      "text/plain": [
       "   Activity        D1        D2    D3   D4        D5        D6        D7  \\\n",
       "0         1  0.000000  0.497009  0.10  0.0  0.132956  0.678031  0.273166   \n",
       "1         1  0.366667  0.606291  0.05  0.0  0.111209  0.803455  0.106105   \n",
       "2         1  0.033300  0.480124  0.00  0.0  0.209791  0.610350  0.356453   \n",
       "3         1  0.000000  0.538825  0.00  0.5  0.196344  0.724230  0.235606   \n",
       "4         0  0.100000  0.517794  0.00  0.0  0.494734  0.781422  0.154361   \n",
       "\n",
       "         D8        D9  ...  D1767  D1768  D1769  D1770  D1771  D1772  D1773  \\\n",
       "0  0.585445  0.743663  ...      0      0      0      0      0      0      0   \n",
       "1  0.411754  0.836582  ...      1      1      1      1      0      1      0   \n",
       "2  0.517720  0.679051  ...      0      0      0      0      0      0      0   \n",
       "3  0.288764  0.805110  ...      0      0      0      0      0      0      0   \n",
       "4  0.303809  0.812646  ...      0      0      0      0      0      0      0   \n",
       "\n",
       "   D1774  D1775  D1776  \n",
       "0      0      0      0  \n",
       "1      0      1      0  \n",
       "2      0      0      0  \n",
       "3      0      0      0  \n",
       "4      0      0      0  \n",
       "\n",
       "[5 rows x 1777 columns]"
      ]
     },
     "execution_count": 2,
     "metadata": {},
     "output_type": "execute_result"
    }
   ],
   "source": [
    "train_dnk_zip = pd.read_csv('_train_sem09__1_.zip')\n",
    "train_dnk = train_dnk_zip.copy()\n",
    "train_dnk.head()"
   ]
  },
  {
   "cell_type": "markdown",
   "metadata": {},
   "source": [
    "Смотрим на сбалансированность классов:"
   ]
  },
  {
   "cell_type": "code",
   "execution_count": 84,
   "metadata": {},
   "outputs": [
    {
     "data": {
      "image/png": "[encoded data removed]",
      "text/plain": [
       "<Figure size 576x396 with 1 Axes>"
      ]
     },
     "metadata": {},
     "output_type": "display_data"
    }
   ],
   "source": [
    "sns.countplot(data=train_dnk, x='Activity'); "
   ]
  },
  {
   "cell_type": "markdown",
   "metadata": {},
   "source": [
    "Классы относительно сбалансированы. Сразу выделим из датасета целевой признак **Activity**. Будем использовать кросс-валидацию (cross validation) на пяти холдах."
   ]
  },
  {
   "cell_type": "code",
   "execution_count": 3,
   "metadata": {},
   "outputs": [],
   "source": [
    "X = train_dnk.drop('Activity', axis=1)\n",
    "y = train_dnk['Activity']"
   ]
  },
  {
   "cell_type": "markdown",
   "metadata": {},
   "source": [
    "## 2. **Логистическая регрессия(LogisticRegression) Baseline**"
   ]
  },
  {
   "cell_type": "markdown",
   "metadata": {},
   "source": [
    "Для начала применим модель логистической регрессии. Целевой признак является бинарным. Все параметры оставим по умолчанию."
   ]
  },
  {
   "cell_type": "code",
   "execution_count": 86,
   "metadata": {},
   "outputs": [
    {
     "name": "stdout",
     "output_type": "stream",
     "text": [
      "F1 for test data=0.776\n",
      "CPU times: total: 62.5 ms\n",
      "Wall time: 14.9 s\n"
     ]
    }
   ],
   "source": [
    "%%time\n",
    "# создаем объект класса логистическая регрессия\n",
    "log_reg = linear_model.LogisticRegression(max_iter=1000 ,random_state=42)\n",
    "# сбучаем модель, минимизируя logloss\n",
    "score_log = cross_val_score(log_reg, X, y, cv=5, scoring=\"f1\", n_jobs=-1).mean()\n",
    "print(f'F1 for test data={score_log:.3f}')"
   ]
  },
  {
   "cell_type": "markdown",
   "metadata": {},
   "source": [
    "Итак базовая модель логистической регрессии дала метрику F1 на тестовых данных 0,776. Попробуем использовать модель случайный лес."
   ]
  },
  {
   "cell_type": "markdown",
   "metadata": {},
   "source": [
    "## 3. **Случайный лес(Random Forest) BaseLine**"
   ]
  },
  {
   "cell_type": "markdown",
   "metadata": {},
   "source": [
    "Случайный лес (Random Forest) — это самая распространённая реализация бэггинга, основанная на использовании в качестве базовой модели дерева решений. "
   ]
  },
  {
   "cell_type": "code",
   "execution_count": 87,
   "metadata": {},
   "outputs": [
    {
     "name": "stdout",
     "output_type": "stream",
     "text": [
      "F1 for test data=0.813\n",
      "CPU times: total: 46.9 ms\n",
      "Wall time: 4.5 s\n"
     ]
    }
   ],
   "source": [
    "%%time\n",
    "# создаем объект класса Random Forest\n",
    "random_reg = ensemble.RandomForestClassifier(random_state=42)\n",
    "# обучаем модель\n",
    "score_reg = cross_val_score(random_reg, X, y, cv=5, scoring=\"f1\", n_jobs=-1).mean()\n",
    "# выводим метрики\n",
    "print(f'F1 for test data={score_reg:.3f}')"
   ]
  },
  {
   "cell_type": "markdown",
   "metadata": {},
   "source": [
    "Базовая модель Random Forest дала результат метрики на тестовых данных F1=0.813, что значительно лучше, чем модель логистической регрессии. \n",
    "\n",
    "Далее будем подбирать поочерёдно гиперпараметры моделей разными методами: **GridSearchCV**, **RandomizedSearchCV**, **Hyperopt**, **Optuna**."
   ]
  },
  {
   "cell_type": "markdown",
   "metadata": {},
   "source": [
    "## 4. **GridSearchCV**"
   ]
  },
  {
   "cell_type": "markdown",
   "metadata": {},
   "source": [
    "Наиболее часто используемый метод — это поиск по сетке (grid search), который по сути является попыткой перебрать все возможные комбинации заданных гиперпараметров. Мы указываем список значений для различных гиперпараметров, и, ориентируясь на нашу метрику, оцениваем эффективность модели для каждого их сочетания, чтобы получить оптимальную комбинацию значений.\n",
    "\n",
    "Основные параметры [**GridSearchCV**](https://scikit-learn.org/stable/modules/generated/sklearn.model_selection.GridSearchCV.html):\n",
    "\n",
    "- **estimator** — алгоритм, который будем оптимизировать;\n",
    "- **param_grid** — словарь или список словарей. Словарь с именами гиперпараметров (в формате строки (str), например, 'max_depth') в качестве ключей и списками параметров (например, [5, 8, 10]) в качестве значений. Итого: {'max_depth': [5, 8, 10] }.\n",
    "\n",
    "*Важно помнить, что выбор алгоритма оптимизации зависит от выбранного типа штрафа:*\n",
    "- 'newton-cg' - ['l2', 'none']\n",
    "- 'lbfgs' - ['l2', 'none']\n",
    "- 'liblinear' - ['l1', 'l2']\n",
    "- 'sag' - ['l2', 'none']\n",
    "- 'saga' - [elasticnet', 'l1', 'l2', 'none']\n",
    "\n",
    "- **scoring** — по умолчанию используется score-функция заданного алгоритма:\n",
    "- для классификации — sklearn.metrics.accuracy_score;\n",
    "- для регрессии — sklearn.metrics.r2_score;\n",
    "\n",
    "- **cv** — количество фолдов в кросс-валидации, по умолчанию используется 5.\n",
    "- **n_jobs** — количество ядер для распараллеливания расчёта. -1 использует все существующие ядра."
   ]
  },
  {
   "cell_type": "markdown",
   "metadata": {},
   "source": [
    "### 4.1 Логистическая регрессия(LogisticRegression) c подборкой гиперпараметров методом GridSearchCV"
   ]
  },
  {
   "cell_type": "code",
   "execution_count": 4,
   "metadata": {},
   "outputs": [
    {
     "name": "stdout",
     "output_type": "stream",
     "text": [
      "Best Hyperparameter Values: {'C': 0.05, 'l1_ratio': 0.1, 'penalty': 'elasticnet', 'solver': 'saga'}\n",
      "Best Models:LogisticRegression(C=0.05, l1_ratio=0.1, max_iter=1000, penalty='elasticnet',\n",
      "                   random_state=42, solver='saga')\n",
      "Best score Cross validation: 0.792\n",
      "CPU times: total: 33.6 s\n",
      "Wall time: 5h 46min 5s\n"
     ]
    }
   ],
   "source": [
    "%%time\n",
    "from sklearn.model_selection import GridSearchCV\n",
    "# задаём сетку параметров\n",
    "param_grid = [\n",
    "              {'penalty': ['l2', 'none'] , # тип регуляризации\n",
    "              'solver': ['lbfgs', 'sag', 'newton-cg'], # алгоритм оптимизации\n",
    "               'C': [0.01, 0.05, 0.1, 0.2, 0.3, 0.4, 0.5, 0.6, 0.7, 0.8, 0.9, 1]}, # уровень силы регурялизации\n",
    "              \n",
    "              {'penalty': ['l1', 'l2'] ,\n",
    "              'solver': ['liblinear', 'saga'],\n",
    "               'C': [0.01, 0.05, 0.1, 0.2, 0.3, 0.4, 0.5, 0.6, 0.7, 0.8, 0.9, 1]},\n",
    "              \n",
    "              {'penalty': ['elasticnet', 'none'],\n",
    "              'solver': ['saga'],\n",
    "              'C': [0.01, 0.05, 0.1, 0.2, 0.3, 0.4, 0.5, 0.6, 0.7, 0.8, 0.9, 1],\n",
    "              'l1_ratio': np.arange(0, 1, 0.1, dtype=float).tolist()} # параметр смешивания Elastic-Net 0 <= l1_ratio <= 1, обязателен, если penalty='elasticnet'\n",
    "]\n",
    "\n",
    "grid_search = GridSearchCV(\n",
    "    estimator=linear_model.LogisticRegression(\n",
    "        \n",
    "        random_state=42, #генератор случайных чисел\n",
    "        max_iter=1000 #количество итераций на сходимость по условию\n",
    "    ), \n",
    "    param_grid=param_grid, \n",
    "    cv=5, \n",
    "    n_jobs = -1,\n",
    "    scoring='f1'\n",
    ")  \n",
    "\n",
    "grid_search.fit(X, y) \n",
    "print(f'Best Hyperparameter Values: {grid_search.best_params_}')\n",
    "print(f'Best Models:{grid_search.best_estimator_}')\n",
    "print(f'Best score Cross validation: {grid_search.best_score_:.3f}')"
   ]
  },
  {
   "cell_type": "markdown",
   "metadata": {},
   "source": [
    "- Best Hyperparameter Values: {'C': 0.05, 'l1_ratio': 0.1, 'penalty': 'elasticnet', 'solver': 'saga'}\n",
    "- Best Models:LogisticRegression(C=0.05, l1_ratio=0.1, max_iter=1000, penalty='elasticnet',\n",
    "                   random_state=42, solver='saga')\n",
    "- Best score Cross validation: 0.792\n",
    "\n",
    "CPU times: total: 33.6 s\n",
    "\n",
    "Wall time: 5h 46min 5s"
   ]
  },
  {
   "cell_type": "markdown",
   "metadata": {},
   "source": [
    "По сравнению с базовой моделью Логистической регрессии(LogisticRegression) метрику F1 удалось поднять до 0,792(с 0,776) благодаря подбору гиперпараметров методом **GridSearchCV**.\n",
    "\n",
    "**Модель выдала следующие лучшие параметры: Best Hyperparameter Values: {'C': 0.05, 'l1_ratio': 0.1, 'penalty': 'elasticnet', 'solver': 'saga'}**"
   ]
  },
  {
   "cell_type": "markdown",
   "metadata": {},
   "source": [
    "### 4.2 Случайный лес(Random Forest) c подборкой гиперпараметров методом GridSearchCV"
   ]
  },
  {
   "cell_type": "code",
   "execution_count": 89,
   "metadata": {},
   "outputs": [
    {
     "name": "stdout",
     "output_type": "stream",
     "text": [
      "Best Hyperparameter Values: {'criterion': 'gini', 'max_depth': 17, 'min_samples_leaf': 2, 'n_estimators': 110}\n",
      "Best Models:RandomForestClassifier(max_depth=17, min_samples_leaf=2, n_estimators=110,\n",
      "                       random_state=42)\n",
      "Best score Cross validation: 0.816\n",
      "CPU times: total: 5.22 s\n",
      "Wall time: 10min 25s\n"
     ]
    }
   ],
   "source": [
    "%%time\n",
    "# задаём сетку параметров\n",
    "param_grid_for = {'n_estimators': list(range(50, 200, 30)), # количество деревьев в лесу\n",
    "              'min_samples_leaf': list(range(1, 6, 1)),\n",
    "              'max_depth': list(np.linspace(10, 40, 5, dtype=int)), # максимальная глубина одного дерева\n",
    "              'criterion': ['gini', 'entropy'] # критерий информативности разбиения для каждого из деревьев\n",
    "              }\n",
    "            \n",
    "grid_search_forest = GridSearchCV(\n",
    "    estimator=ensemble.RandomForestClassifier(random_state=42), \n",
    "    param_grid=param_grid_for, \n",
    "    cv=5, \n",
    "    n_jobs = -1,\n",
    "    scoring='f1'\n",
    ")  \n",
    " \n",
    "grid_search_forest.fit(X, y)\n",
    "\n",
    "print(f'Best Hyperparameter Values: {grid_search_forest.best_params_}')\n",
    "print(f'Best Models:{grid_search_forest.best_estimator_}')\n",
    "print(f'Best score Cross validation: {grid_search_forest.best_score_:.3f}')"
   ]
  },
  {
   "cell_type": "markdown",
   "metadata": {},
   "source": [
    "- **Best Hyperparameter Values**: {'criterion': 'gini', 'max_depth': 17, 'min_samples_leaf': 2, 'n_estimators': 110}\n",
    "- **Best Models**:RandomForestClassifier(max_depth=17, min_samples_leaf=2, n_estimators=110,\n",
    "                       random_state=42)\n",
    "- **Best score Cross validation**: 0.816\n",
    "\n",
    "CPU times: total: 5.22 s\n",
    "Wall time: 10min 25s"
   ]
  },
  {
   "cell_type": "markdown",
   "metadata": {},
   "source": [
    "По сравнению с базовой моделью Случайный лес(Random Forest) метрика F1 практически осталось на том же уровне 0,816( в базовой - 0,813) при лучших подобранных гиперпараметров методом **GridSearchCV**.\n",
    "\n",
    "**Модель выдала следующие лучшие параметры: Best Hyperparameter Values: {'criterion': 'entropy', 'max_depth': 25, 'min_samples_leaf': 1, 'n_estimators': 170}**"
   ]
  },
  {
   "cell_type": "markdown",
   "metadata": {},
   "source": [
    "## 5. **RandomizedSearchCV**"
   ]
  },
  {
   "cell_type": "markdown",
   "metadata": {},
   "source": [
    "В отличие от **GridSearchCV**, не все комбинации гиперпараметров проверяются, а только заданное количество комбинаций выбирается из указанных распределений. Количество комбинаций гиперпараметров задается **n_iter**.\n",
    "\n",
    "[**RandomizedSearchCV**](https://scikit-learn.org/stable/modules/generated/sklearn.model_selection.RandomizedSearchCV.html) выбирает n (количество задаем сами) случайных точек/комбинаций из заданных нами последовательностей. Как следствие, скорость сходимости к минимуму функции становится выше.\n",
    "Основные параметры RandomizedSearchCV аналогичны GridSearchCV, за исключением **n_iter** -  количество комбинаций на расчёт. От этого параметра напрямую зависит время оптимизации и качество модели.\n",
    "\n",
    "С использованием класса **RandomizedSearchCV** из библиотеки scikit learn мы осуществим оптимизацию гиперпараметров для алгоритмов логистической регрессии и случайного лес."
   ]
  },
  {
   "cell_type": "markdown",
   "metadata": {},
   "source": [
    "### 5.1 Логистическая регрессия(LogisticRegression) c подборкой гиперпараметров методом RandomizedSearchCV"
   ]
  },
  {
   "cell_type": "code",
   "execution_count": 90,
   "metadata": {},
   "outputs": [
    {
     "name": "stdout",
     "output_type": "stream",
     "text": [
      "Best Hyperparameter Values: {'solver': 'saga', 'penalty': 'elasticnet', 'l1_ratio': 0.30000000000000004, 'C': 0.05}\n",
      "Best Models:LogisticRegression(C=0.05, l1_ratio=0.30000000000000004, max_iter=1000,\n",
      "                   penalty='elasticnet', random_state=42, solver='saga')\n",
      "Best score Cross validation: 0.787\n",
      "CPU times: total: 18.3 s\n",
      "Wall time: 47min 29s\n"
     ]
    }
   ],
   "source": [
    "%%time\n",
    "from sklearn.model_selection import RandomizedSearchCV\n",
    "#np.linspace(start(от), stop(до), num=50(количество),dtype- тип данных)\n",
    "\"\"\" param_random = {'penalty': ['l2', 'none'] ,\n",
    "              'solver': ['lbfgs', 'sag'],\n",
    "               'C': list(np.linspace(0.01, 1, 10, dtype=float))} \"\"\"\n",
    "\n",
    "param_random = [\n",
    "              {'penalty': ['l2', 'none'] , # тип регуляризации\n",
    "              'solver': ['lbfgs', 'sag', 'newton-cg'], # алгоритм оптимизации\n",
    "               'C': [0.01, 0.05, 0.1, 0.2, 0.3, 0.4, 0.5, 0.6, 0.7, 0.8, 0.9, 1]}, # уровень силы регурялизации\n",
    "              \n",
    "              {'penalty': ['l1', 'l2'] ,\n",
    "              'solver': ['liblinear', 'saga'],\n",
    "               'C': [0.01, 0.05, 0.1, 0.2, 0.3, 0.4, 0.5, 0.6, 0.7, 0.8, 0.9, 1]},\n",
    "              \n",
    "              {'penalty': ['elasticnet', 'none'],\n",
    "              'solver': ['saga'],\n",
    "              'C': [0.01, 0.05, 0.1, 0.2, 0.3, 0.4, 0.5, 0.6, 0.7, 0.8, 0.9, 1],\n",
    "              'l1_ratio': np.arange(0, 1, 0.1, dtype=float).tolist()} # параметр смешивания Elastic-Net 0 <= l1_ratio <= 1, обязателен, если penalty='elasticnet'\n",
    "]\n",
    "            \n",
    "random_search = RandomizedSearchCV(\n",
    "    estimator=linear_model.LogisticRegression(random_state=42, max_iter=1000), \n",
    "    param_distributions=param_random, \n",
    "    cv=5, \n",
    "    n_iter = 50, \n",
    "    n_jobs = -1,\n",
    "    scoring='f1'   \n",
    ")  \n",
    "random_search.fit(X, y) \n",
    "print(f'Best Hyperparameter Values: {random_search.best_params_}')\n",
    "print(f'Best Models:{random_search.best_estimator_}')\n",
    "print(f'Best score Cross validation: {random_search.best_score_:.3f}')"
   ]
  },
  {
   "cell_type": "markdown",
   "metadata": {},
   "source": [
    "- **Best Hyperparameter Values**: {'solver': 'saga', 'penalty': 'elasticnet', 'l1_ratio': 0.30000000000000004, 'C': 0.05}\n",
    "- **Best Models**:LogisticRegression(C=0.05, l1_ratio=0.30000000000000004, max_iter=1000,\n",
    "                   penalty='elasticnet', random_state=42, solver='saga')\n",
    "- **Best score Cross validation**: 0.787\n",
    "\n",
    "CPU times: total: 18.3 s\n",
    "Wall time: 47min 29s"
   ]
  },
  {
   "cell_type": "markdown",
   "metadata": {},
   "source": [
    "Выбирая гиперпараметры методом **RandomizedSearchCV** Логистической регрессии(LogisticRegression) удалось улучшить метрику F1 до 0,787, что улучшило базовый результат(0,776) и практически на одном уровне с подборкой гиперпараметров методом **GridSearchCV**(0,795), но благодаря этому методу мы сэкономили время поиска лучших параметров.\n",
    "\n",
    "**Модель выдала следующие лучшие параметры: Best Hyperparameter Values: {'solver': 'saga', 'penalty': 'elasticnet', 'l1_ratio': 0.30000000000000004, 'C': 0.05}**"
   ]
  },
  {
   "cell_type": "markdown",
   "metadata": {},
   "source": [
    "### 5.2 Случайный лес(Random Forest) c подборкой гиперпараметров методом RandomizedSearchCV"
   ]
  },
  {
   "cell_type": "code",
   "execution_count": 91,
   "metadata": {},
   "outputs": [
    {
     "name": "stdout",
     "output_type": "stream",
     "text": [
      "Best Hyperparameter Values: {'n_estimators': 140, 'min_samples_leaf': 3, 'max_depth': 17, 'criterion': 'entropy'}\n",
      "Best Models:RandomForestClassifier(criterion='entropy', max_depth=17, min_samples_leaf=3,\n",
      "                       n_estimators=140, random_state=42)\n",
      "Best score Cross validation: 0.815\n",
      "CPU times: total: 3.39 s\n",
      "Wall time: 2min 7s\n"
     ]
    }
   ],
   "source": [
    "%%time\n",
    "from sklearn.model_selection import RandomizedSearchCV\n",
    "param_random_for = {'n_estimators': list(range(50, 200, 30)), # количество деревьев в лесу\n",
    "              'min_samples_leaf': list(range(1, 6, 1)),\n",
    "              'max_depth': list(np.linspace(10, 40, 5, dtype=int)), # максимальная глубина одного дерева\n",
    "              'criterion': ['gini', 'entropy'] # критерий информативности разбиения для каждого из деревьев\n",
    "              }\n",
    "            \n",
    "random_search_forest = RandomizedSearchCV(\n",
    "    estimator=ensemble.RandomForestClassifier(random_state=42), \n",
    "    param_distributions=param_random_for, \n",
    "    cv=5,\n",
    "    n_iter = 50, \n",
    "    n_jobs = -1,\n",
    "    scoring='f1'\n",
    ")  \n",
    "random_search_forest.fit(X, y) \n",
    "\n",
    "print(f'Best Hyperparameter Values: {random_search_forest.best_params_}')\n",
    "print(f'Best Models:{random_search_forest.best_estimator_}')\n",
    "print(f'Best score Cross validation: {random_search_forest.best_score_:.3f}')"
   ]
  },
  {
   "cell_type": "markdown",
   "metadata": {},
   "source": [
    "- **Best Hyperparameter Values**: {'n_estimators': 140, 'min_samples_leaf': 3, 'max_depth': 17, 'criterion': 'entropy'}\n",
    "- **Best Models**: RandomForestClassifier(criterion='entropy', max_depth=17, min_samples_leaf=3,\n",
    "                       n_estimators=140, random_state=42)\n",
    "- **Best score Cross validation**: 0.815\n",
    "\n",
    "CPU times: total: 3.39 s\n",
    "\n",
    "Wall time: 2min 7s"
   ]
  },
  {
   "cell_type": "markdown",
   "metadata": {},
   "source": [
    "Метрика F1, полученная при подборе гиперпараметров методом **RandomizedSearchCV** осталось практически на том же уровне - 0,815 как и по **GridSearchCV** и с аналогичным набором параметров, но время поиска параметров уменьшилось до 2min 7s. Метрика по сравнению с базовой моделью(0,813) ненамного улучшилась.\n",
    "\n",
    "**Модель выдала следующие лучшие параметры: Best Hyperparameter Values: {'n_estimators': 140, 'min_samples_leaf': 3, 'max_depth': 17, 'criterion': 'entropy'}**"
   ]
  },
  {
   "cell_type": "markdown",
   "metadata": {},
   "source": [
    "## 6. **Hyperopt**"
   ]
  },
  {
   "cell_type": "markdown",
   "metadata": {},
   "source": [
    "Оценка качества модели для каждой комбинации гиперпараметров является дорогостоящей частью оптимизации, поэтому в идеале мы хотим делать это самым эффективным образом. Один из способов  — это выбор следующей комбинации гиперпараметров на основе прошлых результатов. \n",
    "\n",
    "Байесовская оптимизация отличается от случайного поиска или поиска по сетке тем, что делает именно это: вместо того, чтобы просто выбирать комбинации из сетки, не имеющей информации о прошлых оценках, байесовские методы учитывают предыдущие результаты, чтобы попробовать более многообещающие комбинации значений. Это позволяет во многих случаях найти лучшие значения гиперпараметров модели за меньшее количество времени.\n",
    "Таким образом, мы получаем и более быструю оптимизацию, и более качественный результат. Это два желаемых результата, особенно когда мы работаем с настройкой гиперпараметров моделей машинного обучения.\n",
    "\n",
    "Существует несколько разных алгоритмов для этого типа оптимизации, но особенно используемым является [Tree-Structured Parzen Estimators (TPE)](https://orion.readthedocs.io/en/stable/code/algo/tpe.html).\n",
    "\n",
    "[**Hyperopt**](https://github.com/hyperopt/hyperopt/) — это библиотека Python с открытым исходным кодом на основе байесовской оптимизации, в которой реализован алгоритм Tree-Structured Parzen Estimators (TPE).\n",
    "\n",
    "Три шага для использования Hyperopt:\n",
    "\n",
    "1. Задание пространства поиска гиперпараметров. \n",
    "\n",
    "Объявляем список гиперпараметров, тип распределения и его границы.\n",
    "\n",
    "Основные типы:\n",
    "\n",
    "- **hp.choice(label, options)** #равновероятный выбор из множества\n",
    "\n",
    "- **hp.randint(label, upper)** #случайное целое число; random seed, например \n",
    "\n",
    "- **hp.uniform(label, low, high)** #равномерное непрерывное распределение\n",
    "\n",
    "- **hp.normal(label, mu, sigma)** #нормальное непрерывное распределение\n",
    "\n",
    "- **hp.lognormal(mu, sigma)** #логнормальное непрерывное распределение\n",
    "\n",
    "- категориальных — hp.choice;\n",
    "- целочисленных —  hp.randit, hp.quniform;\n",
    "- непрерывных — аналогично целочисленным и hp.normal, hp.uniform, hp.lognormal, hp.loguniform.\n",
    "\n",
    "Задание целевой функции. \n",
    "\n",
    "Создаём модель МО, передаём ей данные и оцениваем её на основе выбранной метрики. Можем минимизировать/максимизировать значение метрики.\n",
    "\n",
    "3. Задание алгоритма поиска:\n",
    "\n",
    "- Random Search.\n",
    "- Tree of Parzen Estimators (TPE)."
   ]
  },
  {
   "cell_type": "markdown",
   "metadata": {},
   "source": [
    "### 6.1 Логистическая регрессия(LogisticRegression) c подборкой гиперпараметров методом Hyperopt"
   ]
  },
  {
   "cell_type": "code",
   "execution_count": 92,
   "metadata": {},
   "outputs": [],
   "source": [
    "#делаем импорт и выведем версию библиотеки\n",
    "from click import option\n",
    "from requests import options\n",
    "from sklearn.model_selection import cross_val_score\n",
    "import hyperopt\n",
    "from hyperopt import hp, fmin, tpe, Trials, space_eval\n",
    "# fmin - основная функция, она будет минимизировать наш функционал\n",
    "# tpe - алгоритм оптимизации\n",
    "# hp - включает набор методов для объявления пространства поиска гиперпараметров\n",
    "# trails - используется для логирования результатов"
   ]
  },
  {
   "cell_type": "markdown",
   "metadata": {},
   "source": [
    "Интерфейс Hyperopt отличается от Grid или RandomizedSearch, поэтому нам нужно создать функцию для минимизации. Она должна принимать словарь значений гиперпараметров и возвращать значение целевой функции."
   ]
  },
  {
   "cell_type": "code",
   "execution_count": 93,
   "metadata": {},
   "outputs": [],
   "source": [
    "# зададим пространство поиска гиперпараметров - получится 3 набора, так как для каждого типа регуляции подходят только определённые алгоритмы оптимизации\n",
    "space_1 = {'penalty': hp.choice(label='penalty', options=['l2', 'none']) , # тип регуляризации\n",
    "              'solver': hp.choice(label='solver', options=['lbfgs', 'sag', 'newton-cg']), # алгоритм оптимизации\n",
    "              'C': hp.uniform('C', 0.01, 1)\n",
    "              } # алгоритм оптимизации\n",
    "             \n",
    "              \n",
    "space_2 = {'penalty': hp.choice('penalty', ['l1', 'l2']) ,\n",
    "              'solver': hp.choice('solver', ['liblinear', 'saga']),\n",
    "              'C': hp.uniform('C', 0.01, 1)\n",
    "              }\n",
    "    \n",
    "space_3 = {'penalty': hp.choice('penalty', ['elasticnet', 'none']),\n",
    "              'solver': hp.choice('solver', ['saga']),\n",
    "              'C': hp.uniform('C', 0.01, 1),\n",
    "              'l1_ratio': hp.uniform('l1_ratio', 0, 1)} # параметр смешивания Elastic-Net 0 <= l1_ratio <= 1, обязателен, если penalty='elasticnet'  \n",
    "\n",
    "# зафиксируем random_state\n",
    "random_state = 42\n",
    "\n",
    "def hyperopt(space, cv=5, X=X, y=y, random_state=random_state):\n",
    "    \"\"\" Функция, обучающая модель LogisticRegression\n",
    "    по переданным гиперпараметрам\n",
    "\n",
    "    Args:\n",
    "        space (dict): набор гиперпараметров\n",
    "        cv (int, optional=5): Количество холдов кросс-валидации. Defaults to 5.\n",
    "        X (DataFrame): DataFrame с признаками. Defaults to X_train.\n",
    "        y (Series): Series с целевым признаком. Defaults to y_train.\n",
    "        random_state (int): Рандомное число для воспроизводимости результата. Defaults to random_state.\n",
    "\n",
    "    Returns:\n",
    "        score(float): метрика F1\n",
    "    \"\"\"\n",
    "    try:\n",
    "        model=linear_model.LogisticRegression(\n",
    "        penalty = space['penalty'],\n",
    "        solver = space['solver'],\n",
    "        C=np.abs(float(space['C'])),\n",
    "        l1_ratio=float(space['l1_ratio']),\n",
    "        random_state=random_state,\n",
    "        max_iter=50        \n",
    "    )        \n",
    "    except KeyError:\n",
    "          \n",
    "        model=linear_model.LogisticRegression(\n",
    "        penalty = space['penalty'],\n",
    "        solver = space['solver'],\n",
    "        C=np.abs(float(space['C'])),\n",
    "        random_state=random_state,\n",
    "        max_iter=50\n",
    "           )\n",
    "        \n",
    "     \n",
    "    # применим  cross validation \n",
    "    score = cross_val_score(model, X, y, cv=cv, scoring=\"f1\", n_jobs=-1).mean()\n",
    "    # метрику необходимо минимизировать, поэтому ставим знак минус\n",
    "    return -score"
   ]
  },
  {
   "cell_type": "markdown",
   "metadata": {},
   "source": [
    "Подбираем лучшие гиперпараметры для первого набора:"
   ]
  },
  {
   "cell_type": "code",
   "execution_count": 94,
   "metadata": {},
   "outputs": [
    {
     "name": "stdout",
     "output_type": "stream",
     "text": [
      "100%|██████████| 50/50 [07:07<00:00,  8.55s/trial, best loss: -0.7916411179230474]\n",
      "Наилучшие значения гиперпараметров {'C': 0.028670415126948956, 'penalty': 0, 'solver': 0}\n",
      "Наилучшие значения гиперпараметров {'C': 0.028670415126948956, 'penalty': 'l2', 'solver': 'lbfgs'}\n",
      "CPU times: total: 2.55 s\n",
      "Wall time: 7min 7s\n"
     ]
    }
   ],
   "source": [
    "%%time\n",
    "              \n",
    "trials = Trials() # используется для логирования результатов  \n",
    "\n",
    "best_1=fmin(hyperopt, # наша функция \n",
    "          space=space_1, # пространство гиперпараметров\n",
    "          algo=tpe.suggest, # алгоритм оптимизации, установлен по умолчанию, задавать необязательно\n",
    "          max_evals=50, # максимальное количество итераций\n",
    "          trials=trials, # логирование результатов\n",
    "          rstate=np.random.default_rng(random_state)# фиксируем для повторяемости результата\n",
    "         )\n",
    "print(f'Наилучшие значения гиперпараметров {best_1}')\n",
    "print(f'Наилучшие значения гиперпараметров {space_eval(space_1, best_1)}')"
   ]
  },
  {
   "cell_type": "markdown",
   "metadata": {},
   "source": [
    "Лучшие значения для первого набора:\n",
    "\n",
    "- Наилучшие значения гиперпараметров {'C': 0.028670415126948956, 'penalty': 0, 'solver': 0}\n",
    "- Наилучшие значения гиперпараметров {'C': 0.028670415126948956, 'penalty': 'l2', 'solver': 'lbfgs'}\n",
    "\n",
    "CPU times: total: 2.55 s\n",
    "\n",
    "Wall time: 7min 7s"
   ]
  },
  {
   "cell_type": "markdown",
   "metadata": {},
   "source": [
    "Подбираем лучшие гиперпараметры для второго набора:"
   ]
  },
  {
   "cell_type": "code",
   "execution_count": 95,
   "metadata": {},
   "outputs": [
    {
     "name": "stdout",
     "output_type": "stream",
     "text": [
      "100%|██████████| 50/50 [05:06<00:00,  6.13s/trial, best loss: -0.7891514597312479]\n",
      "Наилучшие значения гиперпараметров {'C': 0.21891904268225607, 'penalty': 0, 'solver': 1}\n",
      "Наилучшие значения гиперпараметров {'C': 0.21891904268225607, 'penalty': 'l1', 'solver': 'saga'}\n",
      "CPU times: total: 2.61 s\n",
      "Wall time: 5min 6s\n"
     ]
    }
   ],
   "source": [
    "%%time\n",
    "              \n",
    "trials = Trials() # используется для логирования результатов\n",
    "  \n",
    "\n",
    "best_2=fmin(hyperopt, # наша функция \n",
    "          space=space_2, # пространство гиперпараметров\n",
    "          algo=tpe.suggest, # алгоритм оптимизации, установлен по умолчанию, задавать необязательно\n",
    "          max_evals=50, # максимальное количество итераций\n",
    "          trials=trials, # логирование результатов\n",
    "          rstate=np.random.default_rng(random_state)# фиксируем для повторяемости результата\n",
    "         )\n",
    "print(f'Наилучшие значения гиперпараметров {best_2}')\n",
    "print(f'Наилучшие значения гиперпараметров {space_eval(space_2, best_2)}')"
   ]
  },
  {
   "cell_type": "markdown",
   "metadata": {},
   "source": [
    "Лучшие значения для второго набора:\n",
    "\n",
    "- Наилучшие значения гиперпараметров {'C': 0.21891904268225607, 'penalty': 0, 'solver': 1}\n",
    "- Наилучшие значения гиперпараметров {'C': 0.21891904268225607, 'penalty': 'l1', 'solver': 'saga'}\n",
    "\n",
    "CPU times: total: 2.61 s\n",
    "Wall time: 5min 6s"
   ]
  },
  {
   "cell_type": "markdown",
   "metadata": {},
   "source": [
    "Подбираем лучшие гиперпараметры для третьего набора:"
   ]
  },
  {
   "cell_type": "code",
   "execution_count": 96,
   "metadata": {},
   "outputs": [
    {
     "name": "stdout",
     "output_type": "stream",
     "text": [
      "100%|██████████| 50/50 [07:07<00:00,  8.55s/trial, best loss: -0.7891514597312479]\n",
      "Наилучшие значения гиперпараметров {'C': 0.21621913437384038, 'l1_ratio': 0.9950762402547877, 'penalty': 0, 'solver': 0}\n",
      "Наилучшие значения гиперпараметров {'C': 0.21621913437384038, 'l1_ratio': 0.9950762402547877, 'penalty': 'elasticnet', 'solver': 'saga'}\n",
      "CPU times: total: 2.55 s\n",
      "Wall time: 7min 7s\n"
     ]
    }
   ],
   "source": [
    "%%time\n",
    "              \n",
    "trials = Trials() # используется для логирования результатов\n",
    "  \n",
    "\n",
    "best_3=fmin(hyperopt, # наша функция \n",
    "          space=space_3, # пространство гиперпараметров\n",
    "          algo=tpe.suggest, # алгоритм оптимизации, установлен по умолчанию, задавать необязательно\n",
    "          max_evals=50, # максимальное количество итераций\n",
    "          trials=trials, # логирование результатов\n",
    "          rstate=np.random.default_rng(random_state)# фиксируем для повторяемости результата\n",
    "         )\n",
    "print(f'Наилучшие значения гиперпараметров {best_3}')\n",
    "print(f'Наилучшие значения гиперпараметров {space_eval(space_3, best_3)}')"
   ]
  },
  {
   "cell_type": "markdown",
   "metadata": {},
   "source": [
    "Лучшие значения для третьего набора:\n",
    "\n",
    "- Наилучшие значения гиперпараметров {'C': 0.21621913437384038, 'l1_ratio': 0.9950762402547877, 'penalty': 0, 'solver': 0}\n",
    "- Наилучшие значения гиперпараметров {'C': 0.21621913437384038, 'l1_ratio': 0.9950762402547877, 'penalty': 'elasticnet', 'solver': 'saga'}\n",
    "\n",
    "CPU times: total: 2.55 s\n",
    "\n",
    "Wall time: 7min 7s"
   ]
  },
  {
   "cell_type": "markdown",
   "metadata": {},
   "source": [
    "Далее сформируем три модели, построенных на лучших гиперпараметрах."
   ]
  },
  {
   "cell_type": "code",
   "execution_count": 98,
   "metadata": {},
   "outputs": [
    {
     "name": "stdout",
     "output_type": "stream",
     "text": [
      "Model 1\n",
      "F1 for test cross validation=0.792\n",
      "Best Hyperparameter Values: {'C': 0.028670415126948956, 'penalty': 'l2', 'solver': 'lbfgs'}\n"
     ]
    }
   ],
   "source": [
    "model_1 = linear_model.LogisticRegression(\n",
    "        penalty=space_eval(space_1, best_1)['penalty'],\n",
    "        solver=space_eval(space_1, best_1)['solver'],\n",
    "        C=float(best_1['C']),\n",
    "        random_state=random_state,\n",
    "        max_iter=50)\n",
    "        \n",
    "# применим  cross validation \n",
    "score_1 = cross_val_score(model_1, X, y, cv=5, scoring=\"f1\", n_jobs=-1).mean()\n",
    "\n",
    "print('Model 1')\n",
    "print(f'F1 for test cross validation={score_1:.3f}')\n",
    "print(f'Best Hyperparameter Values: {space_eval(space_1, best_1)}')"
   ]
  },
  {
   "cell_type": "markdown",
   "metadata": {},
   "source": [
    "**Model 1**\n",
    "\n",
    "- F1 for test cross validation=0.792\n",
    "- Best Hyperparameter Values: {'C': 0.028670415126948956, 'penalty': 'l2', 'solver': 'lbfgs'}"
   ]
  },
  {
   "cell_type": "code",
   "execution_count": 99,
   "metadata": {},
   "outputs": [
    {
     "name": "stdout",
     "output_type": "stream",
     "text": [
      "Model 2\n",
      "F1 for test cross validation=0.789\n",
      "Best Hyperparameter Values: {'C': 0.21891904268225607, 'penalty': 'l1', 'solver': 'saga'}\n"
     ]
    }
   ],
   "source": [
    "model_2 = linear_model.LogisticRegression(\n",
    "        penalty=space_eval(space_2, best_2)['penalty'],\n",
    "        solver=space_eval(space_2, best_2)['solver'],\n",
    "        C=float(best_2['C']),\n",
    "        random_state=random_state,\n",
    "        max_iter=50)\n",
    "        \n",
    "# применим  cross validation \n",
    "score_2 = cross_val_score(model_2, X, y, cv=5, scoring=\"f1\", n_jobs=-1).mean()\n",
    "\n",
    "print('Model 2')\n",
    "print(f'F1 for test cross validation={score_2:.3f}')\n",
    "print(f'Best Hyperparameter Values: {space_eval(space_2, best_2)}')"
   ]
  },
  {
   "cell_type": "markdown",
   "metadata": {},
   "source": [
    "**Model 2**\n",
    "\n",
    "- F1 for test cross validation=0.789\n",
    "- Best Hyperparameter Values: {'C': 0.21891904268225607, 'penalty': 'l1', 'solver': 'saga'}"
   ]
  },
  {
   "cell_type": "code",
   "execution_count": 101,
   "metadata": {},
   "outputs": [
    {
     "name": "stdout",
     "output_type": "stream",
     "text": [
      "Model 3\n",
      "F1 for test cross validation=0.789\n",
      "Best Hyperparameter Values: {'C': 0.21621913437384038, 'l1_ratio': 0.9950762402547877, 'penalty': 'elasticnet', 'solver': 'saga'}\n"
     ]
    }
   ],
   "source": [
    "model_3 = linear_model.LogisticRegression(\n",
    "        penalty=space_eval(space_3, best_3)['penalty'],\n",
    "        solver=space_eval(space_3, best_3)['solver'],\n",
    "        C=float(best_3['C']),\n",
    "        l1_ratio=float(best_3['l1_ratio']),\n",
    "        random_state=random_state,\n",
    "        max_iter=50)\n",
    "        \n",
    "# применим  cross validation \n",
    "score_3 = cross_val_score(model_3, X, y, cv=5, scoring=\"f1\", n_jobs=-1).mean()\n",
    "\n",
    "print('Model 3')\n",
    "print(f'F1 for test cross validation={score_3:.3f}')\n",
    "print(f'Best Hyperparameter Values: {space_eval(space_3, best_3)}')"
   ]
  },
  {
   "cell_type": "markdown",
   "metadata": {},
   "source": [
    "**Model 3**\n",
    "\n",
    "- F1 for test cross validation=0.789\n",
    "- Best Hyperparameter Values: {'C': 0.21621913437384038, 'l1_ratio': 0.9950762402547877, 'penalty': 'elasticnet', 'solver': 'saga'}"
   ]
  },
  {
   "cell_type": "markdown",
   "metadata": {},
   "source": [
    "С методом Hyperopt удалось улучшить метрику по сравнению с базовой моделью. Лучший результат, который мы добились - 0,792 с параметрами {'C': 0.028670415126948956, 'penalty': 'l2', 'solver': 'lbfgs'}"
   ]
  },
  {
   "cell_type": "markdown",
   "metadata": {},
   "source": [
    "### 6.2 Случайный лес(Random Forest) c подборкой гиперпараметров методом Hyperopt"
   ]
  },
  {
   "cell_type": "code",
   "execution_count": 102,
   "metadata": {},
   "outputs": [],
   "source": [
    "space = {'n_estimators': hp.quniform('n_estimators', 50, 200, 30), # количество деревьев в лесу\n",
    "              'min_samples_leaf': hp.quniform('min_samples_leaf', 1, 6, 1),\n",
    "              'max_depth': hp.quniform('max_depth', 10, 40, 5), # максимальная глубина одного дерева\n",
    "              'criterion': hp.choice(label='criterion', options=['gini', 'entropy']) # критерий информативности разбиения для каждого из деревьев\n",
    "              }\n",
    "\n",
    "# зафиксируем random_state\n",
    "random_state = 42\n",
    "\n",
    "def hyperopt_rf(params, cv=5, X=X, y=y, random_state=random_state):\n",
    "    \"\"\"Функция, обучающая модель Random Forest\n",
    "    по переданным гиперпараметрам\n",
    "\n",
    "    Args:\n",
    "        params (dict): набор гиперпараметров\n",
    "        cv (int, optional=5): Количество холдов кросс-валидации. Defaults to 5.\n",
    "        X (DataFrame): DataFrame с признаками. Defaults to X_train.\n",
    "        y (Series): Series с целевым признаком. Defaults to y_train.\n",
    "        random_state (int): Рандомное число для воспроизводимости результата. Defaults to random_state.\n",
    "\n",
    "    Returns:\n",
    "        score(float): метрика F1\n",
    "    \"\"\"\n",
    "    # функция получает комбинацию гиперпараметров в \"params\"\n",
    "    params = {'n_estimators': int(params['n_estimators']), \n",
    "              'max_depth': int(params['max_depth']), \n",
    "             'min_samples_leaf': int(params['min_samples_leaf']),\n",
    "             'criterion': params['criterion']\n",
    "              }\n",
    "  \n",
    "    # используем эту комбинацию для построения модели\n",
    "    model = ensemble.RandomForestClassifier(**params, random_state=random_state)\n",
    "\n",
    "    # применим  cross validation с тем же количеством фолдов\n",
    "    score = cross_val_score(model, X, y, cv=cv, scoring=\"f1\", n_jobs=-1).mean()\n",
    "\n",
    "    # метрику необходимо минимизировать, поэтому ставим знак минус\n",
    "    return -score"
   ]
  },
  {
   "cell_type": "code",
   "execution_count": 103,
   "metadata": {},
   "outputs": [
    {
     "name": "stdout",
     "output_type": "stream",
     "text": [
      "100%|██████████| 50/50 [04:13<00:00,  5.07s/trial, best loss: -0.8163616323519728]\n",
      "Наилучшие значения гиперпараметров {'criterion': 1, 'max_depth': 40.0, 'min_samples_leaf': 2.0, 'n_estimators': 120.0}\n",
      "Наилучшие значения гиперпараметров {'criterion': 'entropy', 'max_depth': 40.0, 'min_samples_leaf': 2.0, 'n_estimators': 120.0}\n",
      "CPU times: total: 2.97 s\n",
      "Wall time: 4min 13s\n"
     ]
    }
   ],
   "source": [
    "%%time\n",
    "# начинаем подбор гиперпараметров\n",
    "\n",
    "\n",
    "trials = Trials() # используется для логирования результатов\n",
    "\n",
    "best_rf=fmin(hyperopt_rf, # наша функция \n",
    "          space=space, # пространство гиперпараметров\n",
    "          algo=tpe.suggest, # алгоритм оптимизации, установлен по умолчанию, задавать необязательно\n",
    "          max_evals=50, # максимальное количество итераций\n",
    "          trials=trials, # логирование результатов\n",
    "          rstate=np.random.default_rng(random_state)# фиксируем для повторяемости результата\n",
    "         )\n",
    "print(f'Наилучшие значения гиперпараметров {best_rf}')\n",
    "print(f'Наилучшие значения гиперпараметров {space_eval(space, best_rf)}')"
   ]
  },
  {
   "cell_type": "code",
   "execution_count": 104,
   "metadata": {},
   "outputs": [
    {
     "name": "stdout",
     "output_type": "stream",
     "text": [
      "Model RF\n",
      "F1 for test cross validation=0.816\n",
      "Best Hyperparameter Values: {'criterion': 'entropy', 'max_depth': 40.0, 'min_samples_leaf': 2.0, 'n_estimators': 120.0}\n"
     ]
    }
   ],
   "source": [
    "# рассчитаем точность для тестовой выборки\n",
    "model_rf = ensemble.RandomForestClassifier(\n",
    "    random_state=random_state, \n",
    "    n_estimators=int(best_rf['n_estimators']),\n",
    "    max_depth=int(best_rf['max_depth']),\n",
    "    min_samples_leaf=int(best_rf['min_samples_leaf']),\n",
    "    criterion= space_eval(space, best_rf)['criterion']    \n",
    ")\n",
    "\n",
    "score_rf = cross_val_score(model_rf, X, y, cv=5, scoring=\"f1\", n_jobs=-1).mean()\n",
    "\n",
    "print('Model RF')\n",
    "print(f'F1 for test cross validation={score_rf:.3f}')\n",
    "print(f'Best Hyperparameter Values: {space_eval(space, best_rf)}')"
   ]
  },
  {
   "cell_type": "markdown",
   "metadata": {},
   "source": [
    "**Model RF**\n",
    "\n",
    "- F1 for test cross validation=0.816\n",
    "- Best Hyperparameter Values: {'criterion': 'entropy', 'max_depth': 40.0, 'min_samples_leaf': 2.0, 'n_estimators': 120.0}"
   ]
  },
  {
   "cell_type": "markdown",
   "metadata": {},
   "source": [
    "Улучшить метрику модели по сравнению с базовым варинатом не удалось."
   ]
  },
  {
   "cell_type": "markdown",
   "metadata": {},
   "source": [
    "## 7. **Optuna**"
   ]
  },
  {
   "cell_type": "markdown",
   "metadata": {},
   "source": [
    "[**Optuna**](https://optuna.org/) - это достаточно новый фреймворк/библиотека, разработанный специально для оптимизации гиперпараметров. Помимо байесовских алгоритмов, есть возможность удаления плохих комбинаций из рассмотрения. По умолчанию удаляет комбинации, в которых модель дает качество ниже медианы из уже рассмотренных. \n",
    "Optuna помогает  быстрее находить лучшие гиперпараметры и работает с большинством современных известных библиотек ML, таких как scikit-learn, xgboost, PyTorch, TensorFlow, skorch, lightgbm, Keras, fast-ai и др.\n",
    "\n",
    "**Три шага для использования Optuna:** \n",
    "\n",
    "1. Задание пространства поиска гиперпараметров.\n",
    "\n",
    "Основные функции:\n",
    "\n",
    "- **suggest_categorical(name, choices)** — для категориальных гиперпараметров;\n",
    "- **suggest_int(name,low,high,step=1,log=False)** — для целочисленных гиперпараметров;\n",
    "- **suggest_float(name,low,high,step=None,log=False)** — для непрерывных гиперпараметров;\n",
    "- **suggest_uniform(name,low,high)** — для целочисленных и непрерывных гиперпараметров.\n",
    "\n",
    "С помощью необязательных аргументов step и log можно дискретизировать или взять логарифм целочисленных и непрерывных параметров.\n",
    "\n",
    "2. Задание целевой функции. \n",
    "\n",
    "Создаём модель МО, передаём ей данные и оцениваем её на основе выбранной метрики, можем минимизировать/максимизировать значение метрики. На данном этапе будет обучена модель только на одной комбинации гиперпараметров.\n",
    "\n",
    "3. Создание объекта исследования create study. \n",
    "\n",
    "По умолчанию используется алгоритм поиска TPE (есть и другие варианты) и вызов метода optimize(), в который передаётся целевая функция, созданная на первом шаге. Выполняется заданное n_trials раз, подставляются различные комбинации гиперпараметров."
   ]
  },
  {
   "cell_type": "markdown",
   "metadata": {},
   "source": [
    "### 7.1 Логистическая регрессия(LogisticRegression) c подборкой гиперпараметров методом Optuna"
   ]
  },
  {
   "cell_type": "code",
   "execution_count": 105,
   "metadata": {},
   "outputs": [],
   "source": [
    "# Устанавливаем библиотеку\n",
    "# !pip install optuna\n",
    "import optuna"
   ]
  },
  {
   "cell_type": "code",
   "execution_count": 106,
   "metadata": {},
   "outputs": [],
   "source": [
    "random_state = 42\n",
    "\n",
    "def optuna_1(trial):\n",
    "  \"\"\"Функция, обучающая модель LogisticRegression\n",
    "    по переданным гиперпараметрам первого набора\n",
    "\n",
    "  Args:\n",
    "      trial : класс, от которого вызываются гиперпараметры\n",
    "\n",
    "  Returns:\n",
    "      score(float): метрика F1\n",
    "  \"\"\"\n",
    "  # задаем пространства поиска гиперпараметров\n",
    "  penalty = trial.suggest_categorical('penalty', ['l2', 'none'])\n",
    "  solver = trial.suggest_categorical('solver', ['lbfgs', 'sag', 'newton-cg'])\n",
    "  C = trial.suggest_float('C', 0.1, 1)  \n",
    "\n",
    "  # создаем модель\n",
    "  model=linear_model.LogisticRegression(\n",
    "        penalty = penalty,\n",
    "        solver = solver,\n",
    "        C=C, \n",
    "        random_state=random_state,\n",
    "        max_iter=50        \n",
    "    )   \n",
    "  # обучаем модель\n",
    "  score = cross_val_score(model, X, y, cv=5, scoring=\"f1\", n_jobs=-1).mean()\n",
    "\n",
    "  return score\n",
    "\n",
    "def optuna_2(trial):\n",
    "  \"\"\"Функция, обучающая модель LogisticRegression\n",
    "    по переданным гиперпараметрам второго набора\n",
    "\n",
    "  Args:\n",
    "      trial : класс, от которого вызываются гиперпараметры\n",
    "\n",
    "  Returns:\n",
    "      score(float): метрика F1\n",
    "  \"\"\"\n",
    "  # задаем пространства поиска гиперпараметров\n",
    "  penalty = trial.suggest_categorical('penalty', ['l1', 'l2'])\n",
    "  solver = trial.suggest_categorical('solver', ['liblinear', 'saga'])\n",
    "  C = trial.suggest_float('C', 0.1, 1)  \n",
    "\n",
    "  # создаем модель\n",
    "  model=linear_model.LogisticRegression(\n",
    "        penalty = penalty,\n",
    "        solver = solver,\n",
    "        C=C, \n",
    "        random_state=random_state,\n",
    "        max_iter=50        \n",
    "    )   \n",
    "  # обучаем модель\n",
    "  score = cross_val_score(model, X, y, cv=5, scoring=\"f1\", n_jobs=-1).mean()\n",
    "\n",
    "  return score\n",
    "\n",
    "def optuna_3(trial):\n",
    "  \"\"\"Функция, обучающая модель LogisticRegression\n",
    "    по переданным гиперпараметрам третьего набора\n",
    "\n",
    "  Args:\n",
    "      trial : класс, от которого вызываются гиперпараметры\n",
    "\n",
    "  Returns:\n",
    "      score(float): метрика F1\n",
    "  \"\"\"\n",
    "  # задаем пространства поиска гиперпараметров\n",
    "  penalty = trial.suggest_categorical('penalty', ['elasticnet', 'none'])\n",
    "  solver = trial.suggest_categorical('solver', ['saga'])\n",
    "  C = trial.suggest_float('C', 0.1, 1)\n",
    "  l1_ratio = trial.suggest_float('l1_ratio', 0.1, 1)\n",
    "\n",
    "  # создаем модель\n",
    "  model=linear_model.LogisticRegression(\n",
    "        penalty = penalty,\n",
    "        solver = solver,\n",
    "        C=C,\n",
    "        l1_ratio=l1_ratio,\n",
    "        random_state=random_state,\n",
    "        max_iter=50        \n",
    "    )   \n",
    "  # обучаем модель\n",
    "  score = cross_val_score(model, X, y, cv=5, scoring=\"f1\", n_jobs=-1).mean()\n",
    "\n",
    "  return score"
   ]
  },
  {
   "cell_type": "markdown",
   "metadata": {},
   "source": [
    "Для первого набора гиперпараметров:"
   ]
  },
  {
   "cell_type": "code",
   "execution_count": null,
   "metadata": {},
   "outputs": [],
   "source": [
    "%%time\n",
    "# cоздаем объект исследования для первого набора гиперпараметров\n",
    "# можем напрямую указать, что нам необходимо максимизировать метрику direction=\"maximize\"\n",
    "study_1 = optuna.create_study(study_name=\"LogisticRegression\", direction=\"maximize\")\n",
    "# ищем лучшую комбинацию гиперпараметров n_trials раз\n",
    "study_1.optimize(optuna_1, n_trials=50)\n",
    "\n",
    "# рассчитаем точность для тестовой выборки\n",
    "model_1 = linear_model.LogisticRegression(**study_1.best_params,random_state=random_state)\n",
    "\n",
    "# применим  cross validation \n",
    "score_log_opt = cross_val_score(model_1, X, y, cv=5, scoring=\"f1\", n_jobs=-1).mean()\n",
    "print(f'F1 for test cross validation={score_log_opt:.3f}')\n",
    "print(f'Наилучшие значения гиперпараметров {study_1.best_params}')"
   ]
  },
  {
   "cell_type": "markdown",
   "metadata": {},
   "source": [
    "- Наилучшие значения гиперпараметров {'penalty': 'l2', 'solver': 'sag', 'C': 0.11802125942565911}\n",
    "- F1 for test cross validation=0.785\n",
    "\n",
    "CPU times: total: 2.77 s\n",
    "\n",
    "Wall time: 7min 30s"
   ]
  },
  {
   "cell_type": "markdown",
   "metadata": {},
   "source": [
    "Для второго набора гиперпараметров:"
   ]
  },
  {
   "cell_type": "code",
   "execution_count": null,
   "metadata": {},
   "outputs": [],
   "source": [
    "%%time\n",
    "# cоздаем объект исследования для первого набора гиперпараметров\n",
    "# можем напрямую указать, что нам необходимо максимизировать метрику direction=\"maximize\"\n",
    "study_2 = optuna.create_study(study_name=\"LogisticRegression\", direction=\"maximize\")\n",
    "# ищем лучшую комбинацию гиперпараметров n_trials раз\n",
    "study_2.optimize(optuna_2, n_trials=50)\n",
    "\n",
    "# рассчитаем точность для тестовой выборки\n",
    "model_2 = linear_model.LogisticRegression(**study_2.best_params,random_state=random_state)\n",
    "\n",
    "# применим  cross validation \n",
    "score_log_opt_2 = cross_val_score(model_2, X, y, cv=5, scoring=\"f1\", n_jobs=-1).mean()\n",
    "print(f'Наилучшие значения гиперпараметров {study_2.best_params}')\n",
    "print(f'F1 for test cross validation={score_log_opt_2:.3f}')"
   ]
  },
  {
   "cell_type": "markdown",
   "metadata": {},
   "source": [
    "- Наилучшие значения гиперпараметров {'penalty': 'l1', 'solver': 'saga', 'C': 0.21616527580423872}\n",
    "- F1 for test cross validation=0.788\n",
    "\n",
    "CPU times: total: 3.03 s\n",
    "\n",
    "Wall time: 6min 17s"
   ]
  },
  {
   "cell_type": "markdown",
   "metadata": {},
   "source": [
    "Для третьего набора гиперпараметров:"
   ]
  },
  {
   "cell_type": "code",
   "execution_count": null,
   "metadata": {},
   "outputs": [],
   "source": [
    "%%time\n",
    "# cоздаем объект исследования для первого набора гиперпараметров\n",
    "# можем напрямую указать, что нам необходимо максимизировать метрику direction=\"maximize\"\n",
    "study_3 = optuna.create_study(study_name=\"LogisticRegression\", direction=\"maximize\")\n",
    "# ищем лучшую комбинацию гиперпараметров n_trials раз\n",
    "study_3.optimize(optuna_3, n_trials=50)\n",
    "\n",
    "# рассчитаем точность для тестовой выборки\n",
    "model_3 = linear_model.LogisticRegression(**study_3.best_params,random_state=random_state)\n",
    "\n",
    "# применим  cross validation \n",
    "score_log_opt_3 = cross_val_score(model_3, X, y, cv=5, scoring=\"f1\", n_jobs=-1).mean()\n",
    "print(f'Наилучшие значения гиперпараметров {study_3.best_params}')\n",
    "print(f'F1 for test cross validation={score_log_opt_3:.3f}')"
   ]
  },
  {
   "cell_type": "markdown",
   "metadata": {},
   "source": [
    "- Наилучшие значения гиперпараметров {'penalty': 'elasticnet', 'solver': 'saga', 'C': 0.30981939018259047, 'l1_ratio': 0.7627722390406223}\n",
    "- F1 for test cross validation=0.788\n",
    "\n",
    "CPU times: total: 2.69 s\n",
    "\n",
    "Wall time: 7min 11s"
   ]
  },
  {
   "cell_type": "markdown",
   "metadata": {},
   "source": [
    "Рассмотрим различные визуализации, доступные через Optuna, которые помогают принимать лучшие решения, видеть влияние различных гиперпараметров на производительность модели.\n",
    "\n",
    "Сначало необходимо проверить, доступна ли поддержка визуализации: is_available (), т.е. доступны ли правильные версии plotly и matplotlib для создания визуализаций."
   ]
  },
  {
   "cell_type": "code",
   "execution_count": 44,
   "metadata": {},
   "outputs": [
    {
     "data": {
      "text/plain": [
       "True"
      ]
     },
     "execution_count": 44,
     "metadata": {},
     "output_type": "execute_result"
    }
   ],
   "source": [
    "optuna.visualization.is_available()"
   ]
  },
  {
   "cell_type": "markdown",
   "metadata": {},
   "source": [
    "График истории оптимизации - отображает количество испытаний на оси Х и метрику на оси Y.\n",
    "\n",
    "Следует использовать эту диаграмму, чтобы проверить, идет ли оптимизация гиперпараметров в правильном направлении или нет.\n",
    "\n",
    "Выполним построение диаграммы для самой лучшей метрики набора гиперпараметров(третий вариант)"
   ]
  },
  {
   "cell_type": "code",
   "execution_count": 112,
   "metadata": {},
   "outputs": [
    {
     "data": {
      "application/vnd.plotly.v1+json": {
       "config": {
        "plotlyServerURL": "https://plot.ly"
       },
       "data": [
        {
         "mode": "markers",
         "name": "f1_score",
         "type": "scatter",
         "x": [
          0,
          1,
          2,
          3,
          4,
          5,
          6,
          7,
          8,
          9,
          10,
          11,
          12,
          13,
          14,
          15,
          16,
          17,
          18,
          19,
          20,
          21,
          22,
          23,
          24,
          25,
          26,
          27,
          28,
          29,
          30,
          31,
          32,
          33,
          34,
          35,
          36,
          37,
          38,
          39,
          40,
          41,
          42,
          43,
          44,
          45,
          46,
          47,
          48,
          49
         ],
         "y": [
          0.7786806815965137,
          0.7872710254445179,
          0.7895473190710136,
          0.7806656165591122,
          0.7786806815965137,
          0.7786806815965137,
          0.7805683995598169,
          0.7786806815965137,
          0.7831766151556927,
          0.785774571825991,
          0.7877731772438474,
          0.7876578707753068,
          0.7873030736948508,
          0.7884333607788713,
          0.7891788457069147,
          0.7889933447046109,
          0.7889939531349454,
          0.7894307770815314,
          0.7786806815965137,
          0.7889812152633499,
          0.7863270734761798,
          0.7897356097447412,
          0.7895473190710136,
          0.786531287049716,
          0.7887094351925151,
          0.7844240863834763,
          0.7786806815965137,
          0.7864360818690239,
          0.784812883334801,
          0.7786806815965137,
          0.7874520929594426,
          0.7891675922329257,
          0.7873422868927302,
          0.7878564021854917,
          0.7857577775814896,
          0.7885837871442194,
          0.7786806815965137,
          0.7857726535162379,
          0.7814873071343698,
          0.7786806815965137,
          0.7869889995988053,
          0.789377212271589,
          0.7888012871165506,
          0.7891960237382728,
          0.7833467546962656,
          0.7862487575543243,
          0.7818118833457475,
          0.7888674384634649,
          0.7866472595983609,
          0.7786806815965137
         ]
        },
        {
         "name": "Best Value",
         "type": "scatter",
         "x": [
          0,
          1,
          2,
          3,
          4,
          5,
          6,
          7,
          8,
          9,
          10,
          11,
          12,
          13,
          14,
          15,
          16,
          17,
          18,
          19,
          20,
          21,
          22,
          23,
          24,
          25,
          26,
          27,
          28,
          29,
          30,
          31,
          32,
          33,
          34,
          35,
          36,
          37,
          38,
          39,
          40,
          41,
          42,
          43,
          44,
          45,
          46,
          47,
          48,
          49
         ],
         "y": [
          0.7786806815965137,
          0.7872710254445179,
          0.7895473190710136,
          0.7895473190710136,
          0.7895473190710136,
          0.7895473190710136,
          0.7895473190710136,
          0.7895473190710136,
          0.7895473190710136,
          0.7895473190710136,
          0.7895473190710136,
          0.7895473190710136,
          0.7895473190710136,
          0.7895473190710136,
          0.7895473190710136,
          0.7895473190710136,
          0.7895473190710136,
          0.7895473190710136,
          0.7895473190710136,
          0.7895473190710136,
          0.7895473190710136,
          0.7897356097447412,
          0.7897356097447412,
          0.7897356097447412,
          0.7897356097447412,
          0.7897356097447412,
          0.7897356097447412,
          0.7897356097447412,
          0.7897356097447412,
          0.7897356097447412,
          0.7897356097447412,
          0.7897356097447412,
          0.7897356097447412,
          0.7897356097447412,
          0.7897356097447412,
          0.7897356097447412,
          0.7897356097447412,
          0.7897356097447412,
          0.7897356097447412,
          0.7897356097447412,
          0.7897356097447412,
          0.7897356097447412,
          0.7897356097447412,
          0.7897356097447412,
          0.7897356097447412,
          0.7897356097447412,
          0.7897356097447412,
          0.7897356097447412,
          0.7897356097447412,
          0.7897356097447412
         ]
        }
       ],
       "layout": {
        "template": {
         "data": {
          "bar": [
           {
            "error_x": {
             "color": "#2a3f5f"
            },
            "error_y": {
             "color": "#2a3f5f"
            },
            "marker": {
             "line": {
              "color": "#E5ECF6",
              "width": 0.5
             },
             "pattern": {
              "fillmode": "overlay",
              "size": 10,
              "solidity": 0.2
             }
            },
            "type": "bar"
           }
          ],
          "barpolar": [
           {
            "marker": {
             "line": {
              "color": "#E5ECF6",
              "width": 0.5
             },
             "pattern": {
              "fillmode": "overlay",
              "size": 10,
              "solidity": 0.2
             }
            },
            "type": "barpolar"
           }
          ],
          "carpet": [
           {
            "aaxis": {
             "endlinecolor": "#2a3f5f",
             "gridcolor": "white",
             "linecolor": "white",
             "minorgridcolor": "white",
             "startlinecolor": "#2a3f5f"
            },
            "baxis": {
             "endlinecolor": "#2a3f5f",
             "gridcolor": "white",
             "linecolor": "white",
             "minorgridcolor": "white",
             "startlinecolor": "#2a3f5f"
            },
            "type": "carpet"
           }
          ],
          "choropleth": [
           {
            "colorbar": {
             "outlinewidth": 0,
             "ticks": ""
            },
            "type": "choropleth"
           }
          ],
          "contour": [
           {
            "colorbar": {
             "outlinewidth": 0,
             "ticks": ""
            },
            "colorscale": [
             [
              0,
              "#0d0887"
             ],
             [
              0.1111111111111111,
              "#46039f"
             ],
             [
              0.2222222222222222,
              "#7201a8"
             ],
             [
              0.3333333333333333,
              "#9c179e"
             ],
             [
              0.4444444444444444,
              "#bd3786"
             ],
             [
              0.5555555555555556,
              "#d8576b"
             ],
             [
              0.6666666666666666,
              "#ed7953"
             ],
             [
              0.7777777777777778,
              "#fb9f3a"
             ],
             [
              0.8888888888888888,
              "#fdca26"
             ],
             [
              1,
              "#f0f921"
             ]
            ],
            "type": "contour"
           }
          ],
          "contourcarpet": [
           {
            "colorbar": {
             "outlinewidth": 0,
             "ticks": ""
            },
            "type": "contourcarpet"
           }
          ],
          "heatmap": [
           {
            "colorbar": {
             "outlinewidth": 0,
             "ticks": ""
            },
            "colorscale": [
             [
              0,
              "#0d0887"
             ],
             [
              0.1111111111111111,
              "#46039f"
             ],
             [
              0.2222222222222222,
              "#7201a8"
             ],
             [
              0.3333333333333333,
              "#9c179e"
             ],
             [
              0.4444444444444444,
              "#bd3786"
             ],
             [
              0.5555555555555556,
              "#d8576b"
             ],
             [
              0.6666666666666666,
              "#ed7953"
             ],
             [
              0.7777777777777778,
              "#fb9f3a"
             ],
             [
              0.8888888888888888,
              "#fdca26"
             ],
             [
              1,
              "#f0f921"
             ]
            ],
            "type": "heatmap"
           }
          ],
          "heatmapgl": [
           {
            "colorbar": {
             "outlinewidth": 0,
             "ticks": ""
            },
            "colorscale": [
             [
              0,
              "#0d0887"
             ],
             [
              0.1111111111111111,
              "#46039f"
             ],
             [
              0.2222222222222222,
              "#7201a8"
             ],
             [
              0.3333333333333333,
              "#9c179e"
             ],
             [
              0.4444444444444444,
              "#bd3786"
             ],
             [
              0.5555555555555556,
              "#d8576b"
             ],
             [
              0.6666666666666666,
              "#ed7953"
             ],
             [
              0.7777777777777778,
              "#fb9f3a"
             ],
             [
              0.8888888888888888,
              "#fdca26"
             ],
             [
              1,
              "#f0f921"
             ]
            ],
            "type": "heatmapgl"
           }
          ],
          "histogram": [
           {
            "marker": {
             "pattern": {
              "fillmode": "overlay",
              "size": 10,
              "solidity": 0.2
             }
            },
            "type": "histogram"
           }
          ],
          "histogram2d": [
           {
            "colorbar": {
             "outlinewidth": 0,
             "ticks": ""
            },
            "colorscale": [
             [
              0,
              "#0d0887"
             ],
             [
              0.1111111111111111,
              "#46039f"
             ],
             [
              0.2222222222222222,
              "#7201a8"
             ],
             [
              0.3333333333333333,
              "#9c179e"
             ],
             [
              0.4444444444444444,
              "#bd3786"
             ],
             [
              0.5555555555555556,
              "#d8576b"
             ],
             [
              0.6666666666666666,
              "#ed7953"
             ],
             [
              0.7777777777777778,
              "#fb9f3a"
             ],
             [
              0.8888888888888888,
              "#fdca26"
             ],
             [
              1,
              "#f0f921"
             ]
            ],
            "type": "histogram2d"
           }
          ],
          "histogram2dcontour": [
           {
            "colorbar": {
             "outlinewidth": 0,
             "ticks": ""
            },
            "colorscale": [
             [
              0,
              "#0d0887"
             ],
             [
              0.1111111111111111,
              "#46039f"
             ],
             [
              0.2222222222222222,
              "#7201a8"
             ],
             [
              0.3333333333333333,
              "#9c179e"
             ],
             [
              0.4444444444444444,
              "#bd3786"
             ],
             [
              0.5555555555555556,
              "#d8576b"
             ],
             [
              0.6666666666666666,
              "#ed7953"
             ],
             [
              0.7777777777777778,
              "#fb9f3a"
             ],
             [
              0.8888888888888888,
              "#fdca26"
             ],
             [
              1,
              "#f0f921"
             ]
            ],
            "type": "histogram2dcontour"
           }
          ],
          "mesh3d": [
           {
            "colorbar": {
             "outlinewidth": 0,
             "ticks": ""
            },
            "type": "mesh3d"
           }
          ],
          "parcoords": [
           {
            "line": {
             "colorbar": {
              "outlinewidth": 0,
              "ticks": ""
             }
            },
            "type": "parcoords"
           }
          ],
          "pie": [
           {
            "automargin": true,
            "type": "pie"
           }
          ],
          "scatter": [
           {
            "fillpattern": {
             "fillmode": "overlay",
             "size": 10,
             "solidity": 0.2
            },
            "type": "scatter"
           }
          ],
          "scatter3d": [
           {
            "line": {
             "colorbar": {
              "outlinewidth": 0,
              "ticks": ""
             }
            },
            "marker": {
             "colorbar": {
              "outlinewidth": 0,
              "ticks": ""
             }
            },
            "type": "scatter3d"
           }
          ],
          "scattercarpet": [
           {
            "marker": {
             "colorbar": {
              "outlinewidth": 0,
              "ticks": ""
             }
            },
            "type": "scattercarpet"
           }
          ],
          "scattergeo": [
           {
            "marker": {
             "colorbar": {
              "outlinewidth": 0,
              "ticks": ""
             }
            },
            "type": "scattergeo"
           }
          ],
          "scattergl": [
           {
            "marker": {
             "colorbar": {
              "outlinewidth": 0,
              "ticks": ""
             }
            },
            "type": "scattergl"
           }
          ],
          "scattermapbox": [
           {
            "marker": {
             "colorbar": {
              "outlinewidth": 0,
              "ticks": ""
             }
            },
            "type": "scattermapbox"
           }
          ],
          "scatterpolar": [
           {
            "marker": {
             "colorbar": {
              "outlinewidth": 0,
              "ticks": ""
             }
            },
            "type": "scatterpolar"
           }
          ],
          "scatterpolargl": [
           {
            "marker": {
             "colorbar": {
              "outlinewidth": 0,
              "ticks": ""
             }
            },
            "type": "scatterpolargl"
           }
          ],
          "scatterternary": [
           {
            "marker": {
             "colorbar": {
              "outlinewidth": 0,
              "ticks": ""
             }
            },
            "type": "scatterternary"
           }
          ],
          "surface": [
           {
            "colorbar": {
             "outlinewidth": 0,
             "ticks": ""
            },
            "colorscale": [
             [
              0,
              "#0d0887"
             ],
             [
              0.1111111111111111,
              "#46039f"
             ],
             [
              0.2222222222222222,
              "#7201a8"
             ],
             [
              0.3333333333333333,
              "#9c179e"
             ],
             [
              0.4444444444444444,
              "#bd3786"
             ],
             [
              0.5555555555555556,
              "#d8576b"
             ],
             [
              0.6666666666666666,
              "#ed7953"
             ],
             [
              0.7777777777777778,
              "#fb9f3a"
             ],
             [
              0.8888888888888888,
              "#fdca26"
             ],
             [
              1,
              "#f0f921"
             ]
            ],
            "type": "surface"
           }
          ],
          "table": [
           {
            "cells": {
             "fill": {
              "color": "#EBF0F8"
             },
             "line": {
              "color": "white"
             }
            },
            "header": {
             "fill": {
              "color": "#C8D4E3"
             },
             "line": {
              "color": "white"
             }
            },
            "type": "table"
           }
          ]
         },
         "layout": {
          "annotationdefaults": {
           "arrowcolor": "#2a3f5f",
           "arrowhead": 0,
           "arrowwidth": 1
          },
          "autotypenumbers": "strict",
          "coloraxis": {
           "colorbar": {
            "outlinewidth": 0,
            "ticks": ""
           }
          },
          "colorscale": {
           "diverging": [
            [
             0,
             "#8e0152"
            ],
            [
             0.1,
             "#c51b7d"
            ],
            [
             0.2,
             "#de77ae"
            ],
            [
             0.3,
             "#f1b6da"
            ],
            [
             0.4,
             "#fde0ef"
            ],
            [
             0.5,
             "#f7f7f7"
            ],
            [
             0.6,
             "#e6f5d0"
            ],
            [
             0.7,
             "#b8e186"
            ],
            [
             0.8,
             "#7fbc41"
            ],
            [
             0.9,
             "#4d9221"
            ],
            [
             1,
             "#276419"
            ]
           ],
           "sequential": [
            [
             0,
             "#0d0887"
            ],
            [
             0.1111111111111111,
             "#46039f"
            ],
            [
             0.2222222222222222,
             "#7201a8"
            ],
            [
             0.3333333333333333,
             "#9c179e"
            ],
            [
             0.4444444444444444,
             "#bd3786"
            ],
            [
             0.5555555555555556,
             "#d8576b"
            ],
            [
             0.6666666666666666,
             "#ed7953"
            ],
            [
             0.7777777777777778,
             "#fb9f3a"
            ],
            [
             0.8888888888888888,
             "#fdca26"
            ],
            [
             1,
             "#f0f921"
            ]
           ],
           "sequentialminus": [
            [
             0,
             "#0d0887"
            ],
            [
             0.1111111111111111,
             "#46039f"
            ],
            [
             0.2222222222222222,
             "#7201a8"
            ],
            [
             0.3333333333333333,
             "#9c179e"
            ],
            [
             0.4444444444444444,
             "#bd3786"
            ],
            [
             0.5555555555555556,
             "#d8576b"
            ],
            [
             0.6666666666666666,
             "#ed7953"
            ],
            [
             0.7777777777777778,
             "#fb9f3a"
            ],
            [
             0.8888888888888888,
             "#fdca26"
            ],
            [
             1,
             "#f0f921"
            ]
           ]
          },
          "colorway": [
           "#636efa",
           "#EF553B",
           "#00cc96",
           "#ab63fa",
           "#FFA15A",
           "#19d3f3",
           "#FF6692",
           "#B6E880",
           "#FF97FF",
           "#FECB52"
          ],
          "font": {
           "color": "#2a3f5f"
          },
          "geo": {
           "bgcolor": "white",
           "lakecolor": "white",
           "landcolor": "#E5ECF6",
           "showlakes": true,
           "showland": true,
           "subunitcolor": "white"
          },
          "hoverlabel": {
           "align": "left"
          },
          "hovermode": "closest",
          "mapbox": {
           "style": "light"
          },
          "paper_bgcolor": "white",
          "plot_bgcolor": "#E5ECF6",
          "polar": {
           "angularaxis": {
            "gridcolor": "white",
            "linecolor": "white",
            "ticks": ""
           },
           "bgcolor": "#E5ECF6",
           "radialaxis": {
            "gridcolor": "white",
            "linecolor": "white",
            "ticks": ""
           }
          },
          "scene": {
           "xaxis": {
            "backgroundcolor": "#E5ECF6",
            "gridcolor": "white",
            "gridwidth": 2,
            "linecolor": "white",
            "showbackground": true,
            "ticks": "",
            "zerolinecolor": "white"
           },
           "yaxis": {
            "backgroundcolor": "#E5ECF6",
            "gridcolor": "white",
            "gridwidth": 2,
            "linecolor": "white",
            "showbackground": true,
            "ticks": "",
            "zerolinecolor": "white"
           },
           "zaxis": {
            "backgroundcolor": "#E5ECF6",
            "gridcolor": "white",
            "gridwidth": 2,
            "linecolor": "white",
            "showbackground": true,
            "ticks": "",
            "zerolinecolor": "white"
           }
          },
          "shapedefaults": {
           "line": {
            "color": "#2a3f5f"
           }
          },
          "ternary": {
           "aaxis": {
            "gridcolor": "white",
            "linecolor": "white",
            "ticks": ""
           },
           "baxis": {
            "gridcolor": "white",
            "linecolor": "white",
            "ticks": ""
           },
           "bgcolor": "#E5ECF6",
           "caxis": {
            "gridcolor": "white",
            "linecolor": "white",
            "ticks": ""
           }
          },
          "title": {
           "x": 0.05
          },
          "xaxis": {
           "automargin": true,
           "gridcolor": "white",
           "linecolor": "white",
           "ticks": "",
           "title": {
            "standoff": 15
           },
           "zerolinecolor": "white",
           "zerolinewidth": 2
          },
          "yaxis": {
           "automargin": true,
           "gridcolor": "white",
           "linecolor": "white",
           "ticks": "",
           "title": {
            "standoff": 15
           },
           "zerolinecolor": "white",
           "zerolinewidth": 2
          }
         }
        },
        "title": {
         "text": "Optimization History Plot"
        },
        "xaxis": {
         "title": {
          "text": "#Trials"
         }
        },
        "yaxis": {
         "title": {
          "text": "f1_score"
         }
        }
       }
      }
     },
     "metadata": {},
     "output_type": "display_data"
    }
   ],
   "source": [
    "optuna.visualization.plot_optimization_history(study_3, target_name=\"f1_score\")"
   ]
  },
  {
   "cell_type": "markdown",
   "metadata": {},
   "source": [
    "В нашем случае, все идет верно, метрика максимизируется."
   ]
  },
  {
   "cell_type": "markdown",
   "metadata": {},
   "source": [
    "График важности гиперпараметров - помогает понять, какие гиперпараметры вносят больший вклад в минимизацию/максимизацию метрики."
   ]
  },
  {
   "cell_type": "code",
   "execution_count": 113,
   "metadata": {},
   "outputs": [
    {
     "data": {
      "application/vnd.plotly.v1+json": {
       "config": {
        "plotlyServerURL": "https://plot.ly"
       },
       "data": [
        {
         "cliponaxis": false,
         "hovertemplate": [
          "solver (CategoricalDistribution): 0.0<extra></extra>",
          "l1_ratio (UniformDistribution): 0.05681249358840656<extra></extra>",
          "C (UniformDistribution): 0.14479935275154834<extra></extra>",
          "penalty (CategoricalDistribution): 0.7983881536600452<extra></extra>"
         ],
         "marker": {
          "color": "rgb(66,146,198)"
         },
         "orientation": "h",
         "text": [
          "0.0",
          "0.05681249358840656",
          "0.14479935275154834",
          "0.7983881536600452"
         ],
         "textposition": "outside",
         "texttemplate": "%{text:.2f}",
         "type": "bar",
         "x": [
          0,
          0.05681249358840656,
          0.14479935275154834,
          0.7983881536600452
         ],
         "y": [
          "solver",
          "l1_ratio",
          "C",
          "penalty"
         ]
        }
       ],
       "layout": {
        "showlegend": false,
        "template": {
         "data": {
          "bar": [
           {
            "error_x": {
             "color": "#2a3f5f"
            },
            "error_y": {
             "color": "#2a3f5f"
            },
            "marker": {
             "line": {
              "color": "#E5ECF6",
              "width": 0.5
             },
             "pattern": {
              "fillmode": "overlay",
              "size": 10,
              "solidity": 0.2
             }
            },
            "type": "bar"
           }
          ],
          "barpolar": [
           {
            "marker": {
             "line": {
              "color": "#E5ECF6",
              "width": 0.5
             },
             "pattern": {
              "fillmode": "overlay",
              "size": 10,
              "solidity": 0.2
             }
            },
            "type": "barpolar"
           }
          ],
          "carpet": [
           {
            "aaxis": {
             "endlinecolor": "#2a3f5f",
             "gridcolor": "white",
             "linecolor": "white",
             "minorgridcolor": "white",
             "startlinecolor": "#2a3f5f"
            },
            "baxis": {
             "endlinecolor": "#2a3f5f",
             "gridcolor": "white",
             "linecolor": "white",
             "minorgridcolor": "white",
             "startlinecolor": "#2a3f5f"
            },
            "type": "carpet"
           }
          ],
          "choropleth": [
           {
            "colorbar": {
             "outlinewidth": 0,
             "ticks": ""
            },
            "type": "choropleth"
           }
          ],
          "contour": [
           {
            "colorbar": {
             "outlinewidth": 0,
             "ticks": ""
            },
            "colorscale": [
             [
              0,
              "#0d0887"
             ],
             [
              0.1111111111111111,
              "#46039f"
             ],
             [
              0.2222222222222222,
              "#7201a8"
             ],
             [
              0.3333333333333333,
              "#9c179e"
             ],
             [
              0.4444444444444444,
              "#bd3786"
             ],
             [
              0.5555555555555556,
              "#d8576b"
             ],
             [
              0.6666666666666666,
              "#ed7953"
             ],
             [
              0.7777777777777778,
              "#fb9f3a"
             ],
             [
              0.8888888888888888,
              "#fdca26"
             ],
             [
              1,
              "#f0f921"
             ]
            ],
            "type": "contour"
           }
          ],
          "contourcarpet": [
           {
            "colorbar": {
             "outlinewidth": 0,
             "ticks": ""
            },
            "type": "contourcarpet"
           }
          ],
          "heatmap": [
           {
            "colorbar": {
             "outlinewidth": 0,
             "ticks": ""
            },
            "colorscale": [
             [
              0,
              "#0d0887"
             ],
             [
              0.1111111111111111,
              "#46039f"
             ],
             [
              0.2222222222222222,
              "#7201a8"
             ],
             [
              0.3333333333333333,
              "#9c179e"
             ],
             [
              0.4444444444444444,
              "#bd3786"
             ],
             [
              0.5555555555555556,
              "#d8576b"
             ],
             [
              0.6666666666666666,
              "#ed7953"
             ],
             [
              0.7777777777777778,
              "#fb9f3a"
             ],
             [
              0.8888888888888888,
              "#fdca26"
             ],
             [
              1,
              "#f0f921"
             ]
            ],
            "type": "heatmap"
           }
          ],
          "heatmapgl": [
           {
            "colorbar": {
             "outlinewidth": 0,
             "ticks": ""
            },
            "colorscale": [
             [
              0,
              "#0d0887"
             ],
             [
              0.1111111111111111,
              "#46039f"
             ],
             [
              0.2222222222222222,
              "#7201a8"
             ],
             [
              0.3333333333333333,
              "#9c179e"
             ],
             [
              0.4444444444444444,
              "#bd3786"
             ],
             [
              0.5555555555555556,
              "#d8576b"
             ],
             [
              0.6666666666666666,
              "#ed7953"
             ],
             [
              0.7777777777777778,
              "#fb9f3a"
             ],
             [
              0.8888888888888888,
              "#fdca26"
             ],
             [
              1,
              "#f0f921"
             ]
            ],
            "type": "heatmapgl"
           }
          ],
          "histogram": [
           {
            "marker": {
             "pattern": {
              "fillmode": "overlay",
              "size": 10,
              "solidity": 0.2
             }
            },
            "type": "histogram"
           }
          ],
          "histogram2d": [
           {
            "colorbar": {
             "outlinewidth": 0,
             "ticks": ""
            },
            "colorscale": [
             [
              0,
              "#0d0887"
             ],
             [
              0.1111111111111111,
              "#46039f"
             ],
             [
              0.2222222222222222,
              "#7201a8"
             ],
             [
              0.3333333333333333,
              "#9c179e"
             ],
             [
              0.4444444444444444,
              "#bd3786"
             ],
             [
              0.5555555555555556,
              "#d8576b"
             ],
             [
              0.6666666666666666,
              "#ed7953"
             ],
             [
              0.7777777777777778,
              "#fb9f3a"
             ],
             [
              0.8888888888888888,
              "#fdca26"
             ],
             [
              1,
              "#f0f921"
             ]
            ],
            "type": "histogram2d"
           }
          ],
          "histogram2dcontour": [
           {
            "colorbar": {
             "outlinewidth": 0,
             "ticks": ""
            },
            "colorscale": [
             [
              0,
              "#0d0887"
             ],
             [
              0.1111111111111111,
              "#46039f"
             ],
             [
              0.2222222222222222,
              "#7201a8"
             ],
             [
              0.3333333333333333,
              "#9c179e"
             ],
             [
              0.4444444444444444,
              "#bd3786"
             ],
             [
              0.5555555555555556,
              "#d8576b"
             ],
             [
              0.6666666666666666,
              "#ed7953"
             ],
             [
              0.7777777777777778,
              "#fb9f3a"
             ],
             [
              0.8888888888888888,
              "#fdca26"
             ],
             [
              1,
              "#f0f921"
             ]
            ],
            "type": "histogram2dcontour"
           }
          ],
          "mesh3d": [
           {
            "colorbar": {
             "outlinewidth": 0,
             "ticks": ""
            },
            "type": "mesh3d"
           }
          ],
          "parcoords": [
           {
            "line": {
             "colorbar": {
              "outlinewidth": 0,
              "ticks": ""
             }
            },
            "type": "parcoords"
           }
          ],
          "pie": [
           {
            "automargin": true,
            "type": "pie"
           }
          ],
          "scatter": [
           {
            "fillpattern": {
             "fillmode": "overlay",
             "size": 10,
             "solidity": 0.2
            },
            "type": "scatter"
           }
          ],
          "scatter3d": [
           {
            "line": {
             "colorbar": {
              "outlinewidth": 0,
              "ticks": ""
             }
            },
            "marker": {
             "colorbar": {
              "outlinewidth": 0,
              "ticks": ""
             }
            },
            "type": "scatter3d"
           }
          ],
          "scattercarpet": [
           {
            "marker": {
             "colorbar": {
              "outlinewidth": 0,
              "ticks": ""
             }
            },
            "type": "scattercarpet"
           }
          ],
          "scattergeo": [
           {
            "marker": {
             "colorbar": {
              "outlinewidth": 0,
              "ticks": ""
             }
            },
            "type": "scattergeo"
           }
          ],
          "scattergl": [
           {
            "marker": {
             "colorbar": {
              "outlinewidth": 0,
              "ticks": ""
             }
            },
            "type": "scattergl"
           }
          ],
          "scattermapbox": [
           {
            "marker": {
             "colorbar": {
              "outlinewidth": 0,
              "ticks": ""
             }
            },
            "type": "scattermapbox"
           }
          ],
          "scatterpolar": [
           {
            "marker": {
             "colorbar": {
              "outlinewidth": 0,
              "ticks": ""
             }
            },
            "type": "scatterpolar"
           }
          ],
          "scatterpolargl": [
           {
            "marker": {
             "colorbar": {
              "outlinewidth": 0,
              "ticks": ""
             }
            },
            "type": "scatterpolargl"
           }
          ],
          "scatterternary": [
           {
            "marker": {
             "colorbar": {
              "outlinewidth": 0,
              "ticks": ""
             }
            },
            "type": "scatterternary"
           }
          ],
          "surface": [
           {
            "colorbar": {
             "outlinewidth": 0,
             "ticks": ""
            },
            "colorscale": [
             [
              0,
              "#0d0887"
             ],
             [
              0.1111111111111111,
              "#46039f"
             ],
             [
              0.2222222222222222,
              "#7201a8"
             ],
             [
              0.3333333333333333,
              "#9c179e"
             ],
             [
              0.4444444444444444,
              "#bd3786"
             ],
             [
              0.5555555555555556,
              "#d8576b"
             ],
             [
              0.6666666666666666,
              "#ed7953"
             ],
             [
              0.7777777777777778,
              "#fb9f3a"
             ],
             [
              0.8888888888888888,
              "#fdca26"
             ],
             [
              1,
              "#f0f921"
             ]
            ],
            "type": "surface"
           }
          ],
          "table": [
           {
            "cells": {
             "fill": {
              "color": "#EBF0F8"
             },
             "line": {
              "color": "white"
             }
            },
            "header": {
             "fill": {
              "color": "#C8D4E3"
             },
             "line": {
              "color": "white"
             }
            },
            "type": "table"
           }
          ]
         },
         "layout": {
          "annotationdefaults": {
           "arrowcolor": "#2a3f5f",
           "arrowhead": 0,
           "arrowwidth": 1
          },
          "autotypenumbers": "strict",
          "coloraxis": {
           "colorbar": {
            "outlinewidth": 0,
            "ticks": ""
           }
          },
          "colorscale": {
           "diverging": [
            [
             0,
             "#8e0152"
            ],
            [
             0.1,
             "#c51b7d"
            ],
            [
             0.2,
             "#de77ae"
            ],
            [
             0.3,
             "#f1b6da"
            ],
            [
             0.4,
             "#fde0ef"
            ],
            [
             0.5,
             "#f7f7f7"
            ],
            [
             0.6,
             "#e6f5d0"
            ],
            [
             0.7,
             "#b8e186"
            ],
            [
             0.8,
             "#7fbc41"
            ],
            [
             0.9,
             "#4d9221"
            ],
            [
             1,
             "#276419"
            ]
           ],
           "sequential": [
            [
             0,
             "#0d0887"
            ],
            [
             0.1111111111111111,
             "#46039f"
            ],
            [
             0.2222222222222222,
             "#7201a8"
            ],
            [
             0.3333333333333333,
             "#9c179e"
            ],
            [
             0.4444444444444444,
             "#bd3786"
            ],
            [
             0.5555555555555556,
             "#d8576b"
            ],
            [
             0.6666666666666666,
             "#ed7953"
            ],
            [
             0.7777777777777778,
             "#fb9f3a"
            ],
            [
             0.8888888888888888,
             "#fdca26"
            ],
            [
             1,
             "#f0f921"
            ]
           ],
           "sequentialminus": [
            [
             0,
             "#0d0887"
            ],
            [
             0.1111111111111111,
             "#46039f"
            ],
            [
             0.2222222222222222,
             "#7201a8"
            ],
            [
             0.3333333333333333,
             "#9c179e"
            ],
            [
             0.4444444444444444,
             "#bd3786"
            ],
            [
             0.5555555555555556,
             "#d8576b"
            ],
            [
             0.6666666666666666,
             "#ed7953"
            ],
            [
             0.7777777777777778,
             "#fb9f3a"
            ],
            [
             0.8888888888888888,
             "#fdca26"
            ],
            [
             1,
             "#f0f921"
            ]
           ]
          },
          "colorway": [
           "#636efa",
           "#EF553B",
           "#00cc96",
           "#ab63fa",
           "#FFA15A",
           "#19d3f3",
           "#FF6692",
           "#B6E880",
           "#FF97FF",
           "#FECB52"
          ],
          "font": {
           "color": "#2a3f5f"
          },
          "geo": {
           "bgcolor": "white",
           "lakecolor": "white",
           "landcolor": "#E5ECF6",
           "showlakes": true,
           "showland": true,
           "subunitcolor": "white"
          },
          "hoverlabel": {
           "align": "left"
          },
          "hovermode": "closest",
          "mapbox": {
           "style": "light"
          },
          "paper_bgcolor": "white",
          "plot_bgcolor": "#E5ECF6",
          "polar": {
           "angularaxis": {
            "gridcolor": "white",
            "linecolor": "white",
            "ticks": ""
           },
           "bgcolor": "#E5ECF6",
           "radialaxis": {
            "gridcolor": "white",
            "linecolor": "white",
            "ticks": ""
           }
          },
          "scene": {
           "xaxis": {
            "backgroundcolor": "#E5ECF6",
            "gridcolor": "white",
            "gridwidth": 2,
            "linecolor": "white",
            "showbackground": true,
            "ticks": "",
            "zerolinecolor": "white"
           },
           "yaxis": {
            "backgroundcolor": "#E5ECF6",
            "gridcolor": "white",
            "gridwidth": 2,
            "linecolor": "white",
            "showbackground": true,
            "ticks": "",
            "zerolinecolor": "white"
           },
           "zaxis": {
            "backgroundcolor": "#E5ECF6",
            "gridcolor": "white",
            "gridwidth": 2,
            "linecolor": "white",
            "showbackground": true,
            "ticks": "",
            "zerolinecolor": "white"
           }
          },
          "shapedefaults": {
           "line": {
            "color": "#2a3f5f"
           }
          },
          "ternary": {
           "aaxis": {
            "gridcolor": "white",
            "linecolor": "white",
            "ticks": ""
           },
           "baxis": {
            "gridcolor": "white",
            "linecolor": "white",
            "ticks": ""
           },
           "bgcolor": "#E5ECF6",
           "caxis": {
            "gridcolor": "white",
            "linecolor": "white",
            "ticks": ""
           }
          },
          "title": {
           "x": 0.05
          },
          "xaxis": {
           "automargin": true,
           "gridcolor": "white",
           "linecolor": "white",
           "ticks": "",
           "title": {
            "standoff": 15
           },
           "zerolinecolor": "white",
           "zerolinewidth": 2
          },
          "yaxis": {
           "automargin": true,
           "gridcolor": "white",
           "linecolor": "white",
           "ticks": "",
           "title": {
            "standoff": 15
           },
           "zerolinecolor": "white",
           "zerolinewidth": 2
          }
         }
        },
        "title": {
         "text": "Hyperparameter Importances"
        },
        "xaxis": {
         "title": {
          "text": "Importance for f1_score"
         }
        },
        "yaxis": {
         "title": {
          "text": "Hyperparameter"
         }
        }
       }
      }
     },
     "metadata": {},
     "output_type": "display_data"
    }
   ],
   "source": [
    "optuna.visualization.plot_param_importances(study_3, target_name=\"f1_score\")"
   ]
  },
  {
   "cell_type": "markdown",
   "metadata": {},
   "source": [
    "Из этого графика можно сделать вывод, что стоит обратить большее внимание на настройку гиперпараметра **penalty** - тип регулязации.\n",
    "\n",
    "Итак, с помощью подбора гиперпараметров методом **Optuna** мы добились лучшей метрики на логистической регрессии - 0.788 с параметрами {'penalty': 'elasticnet', 'solver': 'saga', 'C': 0.30981939018259047, 'l1_ratio': 0.7627722390406223}, что выше, чем показала базовая модель."
   ]
  },
  {
   "cell_type": "markdown",
   "metadata": {},
   "source": [
    "### 7.2 Случайный лес(Random Forest) c подборкой гиперпараметров методом Optuna"
   ]
  },
  {
   "cell_type": "code",
   "execution_count": 114,
   "metadata": {},
   "outputs": [],
   "source": [
    "def optuna_rf(trial):\n",
    "  \"\"\"Функция, обучающая модель Random Forest\n",
    "    по переданным гиперпараметрам\n",
    "\n",
    "  Args:\n",
    "      trial : класс, от которого вызываются гиперпараметры\n",
    "\n",
    "  Returns:\n",
    "      score(float): метрика F1\n",
    "  \"\"\"\n",
    "  # задаем пространства поиска гиперпараметров\n",
    "  n_estimators = trial.suggest_int('n_estimators', 50, 200, 30)\n",
    "  max_depth = trial.suggest_int('max_depth', 10, 40, 5)\n",
    "  min_samples_leaf = trial.suggest_int('min_samples_leaf', 1, 6, 1)\n",
    "  criterion = trial.suggest_categorical('criterion', ['gini', 'entropy'])\n",
    "\n",
    "  # создаем модель\n",
    "  model = ensemble.RandomForestClassifier(n_estimators=n_estimators,\n",
    "                                          max_depth=max_depth,\n",
    "                                          min_samples_leaf=min_samples_leaf,\n",
    "                                          random_state=random_state,\n",
    "                                          criterion=criterion)\n",
    "  \n",
    "  # обучаем модель cross validation \n",
    "  score = cross_val_score(model, X, y, cv=5, scoring=\"f1\", n_jobs=-1).mean()\n",
    "\n",
    "  return score"
   ]
  },
  {
   "cell_type": "code",
   "execution_count": null,
   "metadata": {},
   "outputs": [],
   "source": [
    "%%time\n",
    "# cоздаем объект исследования\n",
    "# можем напрямую указать, что нам необходимо максимизировать метрику direction=\"maximize\"\n",
    "study = optuna.create_study(study_name=\"RandomForestClassifier\", direction=\"maximize\")\n",
    "# ищем лучшую комбинацию гиперпараметров n_trials раз\n",
    "study.optimize(optuna_rf, n_trials=50)\n",
    "\n",
    "# рассчитаем точность для тестовой выборки\n",
    "model = ensemble.RandomForestClassifier(**study.best_params,random_state=random_state)\n",
    "\n",
    "# применим  cross validation \n",
    "\n",
    "score = cross_val_score(model, X, y, cv=5, scoring=\"f1\", n_jobs=-1).mean()\n",
    "print(f'Наилучшие значения гиперпараметров {study.best_params}')\n",
    "print(f'F1 for test data={score:.3f}')"
   ]
  },
  {
   "cell_type": "markdown",
   "metadata": {},
   "source": [
    "- Наилучшие значения гиперпараметров {'n_estimators': 170, 'max_depth': 40, 'min_samples_leaf': 3, 'criterion': 'entropy'}\n",
    "- F1 for test data=0.815\n",
    "\n",
    "CPU times: total: 3.11 s\n",
    "\n",
    "Wall time: 4min 34s"
   ]
  },
  {
   "cell_type": "markdown",
   "metadata": {},
   "source": [
    "Построим графики визуализации гиперпараметров."
   ]
  },
  {
   "cell_type": "code",
   "execution_count": 116,
   "metadata": {},
   "outputs": [
    {
     "data": {
      "application/vnd.plotly.v1+json": {
       "config": {
        "plotlyServerURL": "https://plot.ly"
       },
       "data": [
        {
         "mode": "markers",
         "name": "f1_score",
         "type": "scatter",
         "x": [
          0,
          1,
          2,
          3,
          4,
          5,
          6,
          7,
          8,
          9,
          10,
          11,
          12,
          13,
          14,
          15,
          16,
          17,
          18,
          19,
          20,
          21,
          22,
          23,
          24,
          25,
          26,
          27,
          28,
          29,
          30,
          31,
          32,
          33,
          34,
          35,
          36,
          37,
          38,
          39,
          40,
          41,
          42,
          43,
          44,
          45,
          46,
          47,
          48,
          49
         ],
         "y": [
          0.8105214262684658,
          0.8071115041134936,
          0.8111854018911467,
          0.812083212151238,
          0.8065616936735559,
          0.7983132978483877,
          0.8095651291688739,
          0.8102640770836983,
          0.8074617232130571,
          0.8071115041134936,
          0.8089006543176694,
          0.8123102812843174,
          0.8148010495706173,
          0.8123102812843174,
          0.8141618837834728,
          0.8141618837834728,
          0.8077620071509506,
          0.8141618837834728,
          0.8048604877819578,
          0.8141618837834728,
          0.8071795559012171,
          0.8141618837834728,
          0.8138030197925943,
          0.8138706001189069,
          0.8118861801693651,
          0.8122190341483335,
          0.8145377322823885,
          0.8115976827362908,
          0.8121747267099865,
          0.8150493349463451,
          0.812623716113189,
          0.8150493349463451,
          0.8150493349463451,
          0.8154041236929108,
          0.8154041236929108,
          0.8141608491268771,
          0.8140213593985834,
          0.8142272500441099,
          0.8150076454648847,
          0.814109361629539,
          0.8101629714313988,
          0.8150493349463451,
          0.8150493349463451,
          0.8142272500441099,
          0.8150493349463451,
          0.8140213593985834,
          0.8142272500441099,
          0.8150493349463451,
          0.8154041236929108,
          0.8142272500441099
         ]
        },
        {
         "name": "Best Value",
         "type": "scatter",
         "x": [
          0,
          1,
          2,
          3,
          4,
          5,
          6,
          7,
          8,
          9,
          10,
          11,
          12,
          13,
          14,
          15,
          16,
          17,
          18,
          19,
          20,
          21,
          22,
          23,
          24,
          25,
          26,
          27,
          28,
          29,
          30,
          31,
          32,
          33,
          34,
          35,
          36,
          37,
          38,
          39,
          40,
          41,
          42,
          43,
          44,
          45,
          46,
          47,
          48,
          49
         ],
         "y": [
          0.8105214262684658,
          0.8105214262684658,
          0.8111854018911467,
          0.812083212151238,
          0.812083212151238,
          0.812083212151238,
          0.812083212151238,
          0.812083212151238,
          0.812083212151238,
          0.812083212151238,
          0.812083212151238,
          0.8123102812843174,
          0.8148010495706173,
          0.8148010495706173,
          0.8148010495706173,
          0.8148010495706173,
          0.8148010495706173,
          0.8148010495706173,
          0.8148010495706173,
          0.8148010495706173,
          0.8148010495706173,
          0.8148010495706173,
          0.8148010495706173,
          0.8148010495706173,
          0.8148010495706173,
          0.8148010495706173,
          0.8148010495706173,
          0.8148010495706173,
          0.8148010495706173,
          0.8150493349463451,
          0.8150493349463451,
          0.8150493349463451,
          0.8150493349463451,
          0.8154041236929108,
          0.8154041236929108,
          0.8154041236929108,
          0.8154041236929108,
          0.8154041236929108,
          0.8154041236929108,
          0.8154041236929108,
          0.8154041236929108,
          0.8154041236929108,
          0.8154041236929108,
          0.8154041236929108,
          0.8154041236929108,
          0.8154041236929108,
          0.8154041236929108,
          0.8154041236929108,
          0.8154041236929108,
          0.8154041236929108
         ]
        }
       ],
       "layout": {
        "template": {
         "data": {
          "bar": [
           {
            "error_x": {
             "color": "#2a3f5f"
            },
            "error_y": {
             "color": "#2a3f5f"
            },
            "marker": {
             "line": {
              "color": "#E5ECF6",
              "width": 0.5
             },
             "pattern": {
              "fillmode": "overlay",
              "size": 10,
              "solidity": 0.2
             }
            },
            "type": "bar"
           }
          ],
          "barpolar": [
           {
            "marker": {
             "line": {
              "color": "#E5ECF6",
              "width": 0.5
             },
             "pattern": {
              "fillmode": "overlay",
              "size": 10,
              "solidity": 0.2
             }
            },
            "type": "barpolar"
           }
          ],
          "carpet": [
           {
            "aaxis": {
             "endlinecolor": "#2a3f5f",
             "gridcolor": "white",
             "linecolor": "white",
             "minorgridcolor": "white",
             "startlinecolor": "#2a3f5f"
            },
            "baxis": {
             "endlinecolor": "#2a3f5f",
             "gridcolor": "white",
             "linecolor": "white",
             "minorgridcolor": "white",
             "startlinecolor": "#2a3f5f"
            },
            "type": "carpet"
           }
          ],
          "choropleth": [
           {
            "colorbar": {
             "outlinewidth": 0,
             "ticks": ""
            },
            "type": "choropleth"
           }
          ],
          "contour": [
           {
            "colorbar": {
             "outlinewidth": 0,
             "ticks": ""
            },
            "colorscale": [
             [
              0,
              "#0d0887"
             ],
             [
              0.1111111111111111,
              "#46039f"
             ],
             [
              0.2222222222222222,
              "#7201a8"
             ],
             [
              0.3333333333333333,
              "#9c179e"
             ],
             [
              0.4444444444444444,
              "#bd3786"
             ],
             [
              0.5555555555555556,
              "#d8576b"
             ],
             [
              0.6666666666666666,
              "#ed7953"
             ],
             [
              0.7777777777777778,
              "#fb9f3a"
             ],
             [
              0.8888888888888888,
              "#fdca26"
             ],
             [
              1,
              "#f0f921"
             ]
            ],
            "type": "contour"
           }
          ],
          "contourcarpet": [
           {
            "colorbar": {
             "outlinewidth": 0,
             "ticks": ""
            },
            "type": "contourcarpet"
           }
          ],
          "heatmap": [
           {
            "colorbar": {
             "outlinewidth": 0,
             "ticks": ""
            },
            "colorscale": [
             [
              0,
              "#0d0887"
             ],
             [
              0.1111111111111111,
              "#46039f"
             ],
             [
              0.2222222222222222,
              "#7201a8"
             ],
             [
              0.3333333333333333,
              "#9c179e"
             ],
             [
              0.4444444444444444,
              "#bd3786"
             ],
             [
              0.5555555555555556,
              "#d8576b"
             ],
             [
              0.6666666666666666,
              "#ed7953"
             ],
             [
              0.7777777777777778,
              "#fb9f3a"
             ],
             [
              0.8888888888888888,
              "#fdca26"
             ],
             [
              1,
              "#f0f921"
             ]
            ],
            "type": "heatmap"
           }
          ],
          "heatmapgl": [
           {
            "colorbar": {
             "outlinewidth": 0,
             "ticks": ""
            },
            "colorscale": [
             [
              0,
              "#0d0887"
             ],
             [
              0.1111111111111111,
              "#46039f"
             ],
             [
              0.2222222222222222,
              "#7201a8"
             ],
             [
              0.3333333333333333,
              "#9c179e"
             ],
             [
              0.4444444444444444,
              "#bd3786"
             ],
             [
              0.5555555555555556,
              "#d8576b"
             ],
             [
              0.6666666666666666,
              "#ed7953"
             ],
             [
              0.7777777777777778,
              "#fb9f3a"
             ],
             [
              0.8888888888888888,
              "#fdca26"
             ],
             [
              1,
              "#f0f921"
             ]
            ],
            "type": "heatmapgl"
           }
          ],
          "histogram": [
           {
            "marker": {
             "pattern": {
              "fillmode": "overlay",
              "size": 10,
              "solidity": 0.2
             }
            },
            "type": "histogram"
           }
          ],
          "histogram2d": [
           {
            "colorbar": {
             "outlinewidth": 0,
             "ticks": ""
            },
            "colorscale": [
             [
              0,
              "#0d0887"
             ],
             [
              0.1111111111111111,
              "#46039f"
             ],
             [
              0.2222222222222222,
              "#7201a8"
             ],
             [
              0.3333333333333333,
              "#9c179e"
             ],
             [
              0.4444444444444444,
              "#bd3786"
             ],
             [
              0.5555555555555556,
              "#d8576b"
             ],
             [
              0.6666666666666666,
              "#ed7953"
             ],
             [
              0.7777777777777778,
              "#fb9f3a"
             ],
             [
              0.8888888888888888,
              "#fdca26"
             ],
             [
              1,
              "#f0f921"
             ]
            ],
            "type": "histogram2d"
           }
          ],
          "histogram2dcontour": [
           {
            "colorbar": {
             "outlinewidth": 0,
             "ticks": ""
            },
            "colorscale": [
             [
              0,
              "#0d0887"
             ],
             [
              0.1111111111111111,
              "#46039f"
             ],
             [
              0.2222222222222222,
              "#7201a8"
             ],
             [
              0.3333333333333333,
              "#9c179e"
             ],
             [
              0.4444444444444444,
              "#bd3786"
             ],
             [
              0.5555555555555556,
              "#d8576b"
             ],
             [
              0.6666666666666666,
              "#ed7953"
             ],
             [
              0.7777777777777778,
              "#fb9f3a"
             ],
             [
              0.8888888888888888,
              "#fdca26"
             ],
             [
              1,
              "#f0f921"
             ]
            ],
            "type": "histogram2dcontour"
           }
          ],
          "mesh3d": [
           {
            "colorbar": {
             "outlinewidth": 0,
             "ticks": ""
            },
            "type": "mesh3d"
           }
          ],
          "parcoords": [
           {
            "line": {
             "colorbar": {
              "outlinewidth": 0,
              "ticks": ""
             }
            },
            "type": "parcoords"
           }
          ],
          "pie": [
           {
            "automargin": true,
            "type": "pie"
           }
          ],
          "scatter": [
           {
            "fillpattern": {
             "fillmode": "overlay",
             "size": 10,
             "solidity": 0.2
            },
            "type": "scatter"
           }
          ],
          "scatter3d": [
           {
            "line": {
             "colorbar": {
              "outlinewidth": 0,
              "ticks": ""
             }
            },
            "marker": {
             "colorbar": {
              "outlinewidth": 0,
              "ticks": ""
             }
            },
            "type": "scatter3d"
           }
          ],
          "scattercarpet": [
           {
            "marker": {
             "colorbar": {
              "outlinewidth": 0,
              "ticks": ""
             }
            },
            "type": "scattercarpet"
           }
          ],
          "scattergeo": [
           {
            "marker": {
             "colorbar": {
              "outlinewidth": 0,
              "ticks": ""
             }
            },
            "type": "scattergeo"
           }
          ],
          "scattergl": [
           {
            "marker": {
             "colorbar": {
              "outlinewidth": 0,
              "ticks": ""
             }
            },
            "type": "scattergl"
           }
          ],
          "scattermapbox": [
           {
            "marker": {
             "colorbar": {
              "outlinewidth": 0,
              "ticks": ""
             }
            },
            "type": "scattermapbox"
           }
          ],
          "scatterpolar": [
           {
            "marker": {
             "colorbar": {
              "outlinewidth": 0,
              "ticks": ""
             }
            },
            "type": "scatterpolar"
           }
          ],
          "scatterpolargl": [
           {
            "marker": {
             "colorbar": {
              "outlinewidth": 0,
              "ticks": ""
             }
            },
            "type": "scatterpolargl"
           }
          ],
          "scatterternary": [
           {
            "marker": {
             "colorbar": {
              "outlinewidth": 0,
              "ticks": ""
             }
            },
            "type": "scatterternary"
           }
          ],
          "surface": [
           {
            "colorbar": {
             "outlinewidth": 0,
             "ticks": ""
            },
            "colorscale": [
             [
              0,
              "#0d0887"
             ],
             [
              0.1111111111111111,
              "#46039f"
             ],
             [
              0.2222222222222222,
              "#7201a8"
             ],
             [
              0.3333333333333333,
              "#9c179e"
             ],
             [
              0.4444444444444444,
              "#bd3786"
             ],
             [
              0.5555555555555556,
              "#d8576b"
             ],
             [
              0.6666666666666666,
              "#ed7953"
             ],
             [
              0.7777777777777778,
              "#fb9f3a"
             ],
             [
              0.8888888888888888,
              "#fdca26"
             ],
             [
              1,
              "#f0f921"
             ]
            ],
            "type": "surface"
           }
          ],
          "table": [
           {
            "cells": {
             "fill": {
              "color": "#EBF0F8"
             },
             "line": {
              "color": "white"
             }
            },
            "header": {
             "fill": {
              "color": "#C8D4E3"
             },
             "line": {
              "color": "white"
             }
            },
            "type": "table"
           }
          ]
         },
         "layout": {
          "annotationdefaults": {
           "arrowcolor": "#2a3f5f",
           "arrowhead": 0,
           "arrowwidth": 1
          },
          "autotypenumbers": "strict",
          "coloraxis": {
           "colorbar": {
            "outlinewidth": 0,
            "ticks": ""
           }
          },
          "colorscale": {
           "diverging": [
            [
             0,
             "#8e0152"
            ],
            [
             0.1,
             "#c51b7d"
            ],
            [
             0.2,
             "#de77ae"
            ],
            [
             0.3,
             "#f1b6da"
            ],
            [
             0.4,
             "#fde0ef"
            ],
            [
             0.5,
             "#f7f7f7"
            ],
            [
             0.6,
             "#e6f5d0"
            ],
            [
             0.7,
             "#b8e186"
            ],
            [
             0.8,
             "#7fbc41"
            ],
            [
             0.9,
             "#4d9221"
            ],
            [
             1,
             "#276419"
            ]
           ],
           "sequential": [
            [
             0,
             "#0d0887"
            ],
            [
             0.1111111111111111,
             "#46039f"
            ],
            [
             0.2222222222222222,
             "#7201a8"
            ],
            [
             0.3333333333333333,
             "#9c179e"
            ],
            [
             0.4444444444444444,
             "#bd3786"
            ],
            [
             0.5555555555555556,
             "#d8576b"
            ],
            [
             0.6666666666666666,
             "#ed7953"
            ],
            [
             0.7777777777777778,
             "#fb9f3a"
            ],
            [
             0.8888888888888888,
             "#fdca26"
            ],
            [
             1,
             "#f0f921"
            ]
           ],
           "sequentialminus": [
            [
             0,
             "#0d0887"
            ],
            [
             0.1111111111111111,
             "#46039f"
            ],
            [
             0.2222222222222222,
             "#7201a8"
            ],
            [
             0.3333333333333333,
             "#9c179e"
            ],
            [
             0.4444444444444444,
             "#bd3786"
            ],
            [
             0.5555555555555556,
             "#d8576b"
            ],
            [
             0.6666666666666666,
             "#ed7953"
            ],
            [
             0.7777777777777778,
             "#fb9f3a"
            ],
            [
             0.8888888888888888,
             "#fdca26"
            ],
            [
             1,
             "#f0f921"
            ]
           ]
          },
          "colorway": [
           "#636efa",
           "#EF553B",
           "#00cc96",
           "#ab63fa",
           "#FFA15A",
           "#19d3f3",
           "#FF6692",
           "#B6E880",
           "#FF97FF",
           "#FECB52"
          ],
          "font": {
           "color": "#2a3f5f"
          },
          "geo": {
           "bgcolor": "white",
           "lakecolor": "white",
           "landcolor": "#E5ECF6",
           "showlakes": true,
           "showland": true,
           "subunitcolor": "white"
          },
          "hoverlabel": {
           "align": "left"
          },
          "hovermode": "closest",
          "mapbox": {
           "style": "light"
          },
          "paper_bgcolor": "white",
          "plot_bgcolor": "#E5ECF6",
          "polar": {
           "angularaxis": {
            "gridcolor": "white",
            "linecolor": "white",
            "ticks": ""
           },
           "bgcolor": "#E5ECF6",
           "radialaxis": {
            "gridcolor": "white",
            "linecolor": "white",
            "ticks": ""
           }
          },
          "scene": {
           "xaxis": {
            "backgroundcolor": "#E5ECF6",
            "gridcolor": "white",
            "gridwidth": 2,
            "linecolor": "white",
            "showbackground": true,
            "ticks": "",
            "zerolinecolor": "white"
           },
           "yaxis": {
            "backgroundcolor": "#E5ECF6",
            "gridcolor": "white",
            "gridwidth": 2,
            "linecolor": "white",
            "showbackground": true,
            "ticks": "",
            "zerolinecolor": "white"
           },
           "zaxis": {
            "backgroundcolor": "#E5ECF6",
            "gridcolor": "white",
            "gridwidth": 2,
            "linecolor": "white",
            "showbackground": true,
            "ticks": "",
            "zerolinecolor": "white"
           }
          },
          "shapedefaults": {
           "line": {
            "color": "#2a3f5f"
           }
          },
          "ternary": {
           "aaxis": {
            "gridcolor": "white",
            "linecolor": "white",
            "ticks": ""
           },
           "baxis": {
            "gridcolor": "white",
            "linecolor": "white",
            "ticks": ""
           },
           "bgcolor": "#E5ECF6",
           "caxis": {
            "gridcolor": "white",
            "linecolor": "white",
            "ticks": ""
           }
          },
          "title": {
           "x": 0.05
          },
          "xaxis": {
           "automargin": true,
           "gridcolor": "white",
           "linecolor": "white",
           "ticks": "",
           "title": {
            "standoff": 15
           },
           "zerolinecolor": "white",
           "zerolinewidth": 2
          },
          "yaxis": {
           "automargin": true,
           "gridcolor": "white",
           "linecolor": "white",
           "ticks": "",
           "title": {
            "standoff": 15
           },
           "zerolinecolor": "white",
           "zerolinewidth": 2
          }
         }
        },
        "title": {
         "text": "Optimization History Plot"
        },
        "xaxis": {
         "title": {
          "text": "#Trials"
         }
        },
        "yaxis": {
         "title": {
          "text": "f1_score"
         }
        }
       }
      }
     },
     "metadata": {},
     "output_type": "display_data"
    }
   ],
   "source": [
    "# история оптимизации\n",
    "optuna.visualization.plot_optimization_history(study, target_name=\"f1_score\")"
   ]
  },
  {
   "cell_type": "code",
   "execution_count": 117,
   "metadata": {},
   "outputs": [
    {
     "data": {
      "application/vnd.plotly.v1+json": {
       "config": {
        "plotlyServerURL": "https://plot.ly"
       },
       "data": [
        {
         "cliponaxis": false,
         "hovertemplate": [
          "criterion (CategoricalDistribution): 0.013769352044349457<extra></extra>",
          "n_estimators (IntUniformDistribution): 0.10259461603527296<extra></extra>",
          "min_samples_leaf (IntUniformDistribution): 0.30379787892476134<extra></extra>",
          "max_depth (IntUniformDistribution): 0.5798381529956163<extra></extra>"
         ],
         "marker": {
          "color": "rgb(66,146,198)"
         },
         "orientation": "h",
         "text": [
          "0.013769352044349457",
          "0.10259461603527296",
          "0.30379787892476134",
          "0.5798381529956163"
         ],
         "textposition": "outside",
         "texttemplate": "%{text:.2f}",
         "type": "bar",
         "x": [
          0.013769352044349457,
          0.10259461603527296,
          0.30379787892476134,
          0.5798381529956163
         ],
         "y": [
          "criterion",
          "n_estimators",
          "min_samples_leaf",
          "max_depth"
         ]
        }
       ],
       "layout": {
        "showlegend": false,
        "template": {
         "data": {
          "bar": [
           {
            "error_x": {
             "color": "#2a3f5f"
            },
            "error_y": {
             "color": "#2a3f5f"
            },
            "marker": {
             "line": {
              "color": "#E5ECF6",
              "width": 0.5
             },
             "pattern": {
              "fillmode": "overlay",
              "size": 10,
              "solidity": 0.2
             }
            },
            "type": "bar"
           }
          ],
          "barpolar": [
           {
            "marker": {
             "line": {
              "color": "#E5ECF6",
              "width": 0.5
             },
             "pattern": {
              "fillmode": "overlay",
              "size": 10,
              "solidity": 0.2
             }
            },
            "type": "barpolar"
           }
          ],
          "carpet": [
           {
            "aaxis": {
             "endlinecolor": "#2a3f5f",
             "gridcolor": "white",
             "linecolor": "white",
             "minorgridcolor": "white",
             "startlinecolor": "#2a3f5f"
            },
            "baxis": {
             "endlinecolor": "#2a3f5f",
             "gridcolor": "white",
             "linecolor": "white",
             "minorgridcolor": "white",
             "startlinecolor": "#2a3f5f"
            },
            "type": "carpet"
           }
          ],
          "choropleth": [
           {
            "colorbar": {
             "outlinewidth": 0,
             "ticks": ""
            },
            "type": "choropleth"
           }
          ],
          "contour": [
           {
            "colorbar": {
             "outlinewidth": 0,
             "ticks": ""
            },
            "colorscale": [
             [
              0,
              "#0d0887"
             ],
             [
              0.1111111111111111,
              "#46039f"
             ],
             [
              0.2222222222222222,
              "#7201a8"
             ],
             [
              0.3333333333333333,
              "#9c179e"
             ],
             [
              0.4444444444444444,
              "#bd3786"
             ],
             [
              0.5555555555555556,
              "#d8576b"
             ],
             [
              0.6666666666666666,
              "#ed7953"
             ],
             [
              0.7777777777777778,
              "#fb9f3a"
             ],
             [
              0.8888888888888888,
              "#fdca26"
             ],
             [
              1,
              "#f0f921"
             ]
            ],
            "type": "contour"
           }
          ],
          "contourcarpet": [
           {
            "colorbar": {
             "outlinewidth": 0,
             "ticks": ""
            },
            "type": "contourcarpet"
           }
          ],
          "heatmap": [
           {
            "colorbar": {
             "outlinewidth": 0,
             "ticks": ""
            },
            "colorscale": [
             [
              0,
              "#0d0887"
             ],
             [
              0.1111111111111111,
              "#46039f"
             ],
             [
              0.2222222222222222,
              "#7201a8"
             ],
             [
              0.3333333333333333,
              "#9c179e"
             ],
             [
              0.4444444444444444,
              "#bd3786"
             ],
             [
              0.5555555555555556,
              "#d8576b"
             ],
             [
              0.6666666666666666,
              "#ed7953"
             ],
             [
              0.7777777777777778,
              "#fb9f3a"
             ],
             [
              0.8888888888888888,
              "#fdca26"
             ],
             [
              1,
              "#f0f921"
             ]
            ],
            "type": "heatmap"
           }
          ],
          "heatmapgl": [
           {
            "colorbar": {
             "outlinewidth": 0,
             "ticks": ""
            },
            "colorscale": [
             [
              0,
              "#0d0887"
             ],
             [
              0.1111111111111111,
              "#46039f"
             ],
             [
              0.2222222222222222,
              "#7201a8"
             ],
             [
              0.3333333333333333,
              "#9c179e"
             ],
             [
              0.4444444444444444,
              "#bd3786"
             ],
             [
              0.5555555555555556,
              "#d8576b"
             ],
             [
              0.6666666666666666,
              "#ed7953"
             ],
             [
              0.7777777777777778,
              "#fb9f3a"
             ],
             [
              0.8888888888888888,
              "#fdca26"
             ],
             [
              1,
              "#f0f921"
             ]
            ],
            "type": "heatmapgl"
           }
          ],
          "histogram": [
           {
            "marker": {
             "pattern": {
              "fillmode": "overlay",
              "size": 10,
              "solidity": 0.2
             }
            },
            "type": "histogram"
           }
          ],
          "histogram2d": [
           {
            "colorbar": {
             "outlinewidth": 0,
             "ticks": ""
            },
            "colorscale": [
             [
              0,
              "#0d0887"
             ],
             [
              0.1111111111111111,
              "#46039f"
             ],
             [
              0.2222222222222222,
              "#7201a8"
             ],
             [
              0.3333333333333333,
              "#9c179e"
             ],
             [
              0.4444444444444444,
              "#bd3786"
             ],
             [
              0.5555555555555556,
              "#d8576b"
             ],
             [
              0.6666666666666666,
              "#ed7953"
             ],
             [
              0.7777777777777778,
              "#fb9f3a"
             ],
             [
              0.8888888888888888,
              "#fdca26"
             ],
             [
              1,
              "#f0f921"
             ]
            ],
            "type": "histogram2d"
           }
          ],
          "histogram2dcontour": [
           {
            "colorbar": {
             "outlinewidth": 0,
             "ticks": ""
            },
            "colorscale": [
             [
              0,
              "#0d0887"
             ],
             [
              0.1111111111111111,
              "#46039f"
             ],
             [
              0.2222222222222222,
              "#7201a8"
             ],
             [
              0.3333333333333333,
              "#9c179e"
             ],
             [
              0.4444444444444444,
              "#bd3786"
             ],
             [
              0.5555555555555556,
              "#d8576b"
             ],
             [
              0.6666666666666666,
              "#ed7953"
             ],
             [
              0.7777777777777778,
              "#fb9f3a"
             ],
             [
              0.8888888888888888,
              "#fdca26"
             ],
             [
              1,
              "#f0f921"
             ]
            ],
            "type": "histogram2dcontour"
           }
          ],
          "mesh3d": [
           {
            "colorbar": {
             "outlinewidth": 0,
             "ticks": ""
            },
            "type": "mesh3d"
           }
          ],
          "parcoords": [
           {
            "line": {
             "colorbar": {
              "outlinewidth": 0,
              "ticks": ""
             }
            },
            "type": "parcoords"
           }
          ],
          "pie": [
           {
            "automargin": true,
            "type": "pie"
           }
          ],
          "scatter": [
           {
            "fillpattern": {
             "fillmode": "overlay",
             "size": 10,
             "solidity": 0.2
            },
            "type": "scatter"
           }
          ],
          "scatter3d": [
           {
            "line": {
             "colorbar": {
              "outlinewidth": 0,
              "ticks": ""
             }
            },
            "marker": {
             "colorbar": {
              "outlinewidth": 0,
              "ticks": ""
             }
            },
            "type": "scatter3d"
           }
          ],
          "scattercarpet": [
           {
            "marker": {
             "colorbar": {
              "outlinewidth": 0,
              "ticks": ""
             }
            },
            "type": "scattercarpet"
           }
          ],
          "scattergeo": [
           {
            "marker": {
             "colorbar": {
              "outlinewidth": 0,
              "ticks": ""
             }
            },
            "type": "scattergeo"
           }
          ],
          "scattergl": [
           {
            "marker": {
             "colorbar": {
              "outlinewidth": 0,
              "ticks": ""
             }
            },
            "type": "scattergl"
           }
          ],
          "scattermapbox": [
           {
            "marker": {
             "colorbar": {
              "outlinewidth": 0,
              "ticks": ""
             }
            },
            "type": "scattermapbox"
           }
          ],
          "scatterpolar": [
           {
            "marker": {
             "colorbar": {
              "outlinewidth": 0,
              "ticks": ""
             }
            },
            "type": "scatterpolar"
           }
          ],
          "scatterpolargl": [
           {
            "marker": {
             "colorbar": {
              "outlinewidth": 0,
              "ticks": ""
             }
            },
            "type": "scatterpolargl"
           }
          ],
          "scatterternary": [
           {
            "marker": {
             "colorbar": {
              "outlinewidth": 0,
              "ticks": ""
             }
            },
            "type": "scatterternary"
           }
          ],
          "surface": [
           {
            "colorbar": {
             "outlinewidth": 0,
             "ticks": ""
            },
            "colorscale": [
             [
              0,
              "#0d0887"
             ],
             [
              0.1111111111111111,
              "#46039f"
             ],
             [
              0.2222222222222222,
              "#7201a8"
             ],
             [
              0.3333333333333333,
              "#9c179e"
             ],
             [
              0.4444444444444444,
              "#bd3786"
             ],
             [
              0.5555555555555556,
              "#d8576b"
             ],
             [
              0.6666666666666666,
              "#ed7953"
             ],
             [
              0.7777777777777778,
              "#fb9f3a"
             ],
             [
              0.8888888888888888,
              "#fdca26"
             ],
             [
              1,
              "#f0f921"
             ]
            ],
            "type": "surface"
           }
          ],
          "table": [
           {
            "cells": {
             "fill": {
              "color": "#EBF0F8"
             },
             "line": {
              "color": "white"
             }
            },
            "header": {
             "fill": {
              "color": "#C8D4E3"
             },
             "line": {
              "color": "white"
             }
            },
            "type": "table"
           }
          ]
         },
         "layout": {
          "annotationdefaults": {
           "arrowcolor": "#2a3f5f",
           "arrowhead": 0,
           "arrowwidth": 1
          },
          "autotypenumbers": "strict",
          "coloraxis": {
           "colorbar": {
            "outlinewidth": 0,
            "ticks": ""
           }
          },
          "colorscale": {
           "diverging": [
            [
             0,
             "#8e0152"
            ],
            [
             0.1,
             "#c51b7d"
            ],
            [
             0.2,
             "#de77ae"
            ],
            [
             0.3,
             "#f1b6da"
            ],
            [
             0.4,
             "#fde0ef"
            ],
            [
             0.5,
             "#f7f7f7"
            ],
            [
             0.6,
             "#e6f5d0"
            ],
            [
             0.7,
             "#b8e186"
            ],
            [
             0.8,
             "#7fbc41"
            ],
            [
             0.9,
             "#4d9221"
            ],
            [
             1,
             "#276419"
            ]
           ],
           "sequential": [
            [
             0,
             "#0d0887"
            ],
            [
             0.1111111111111111,
             "#46039f"
            ],
            [
             0.2222222222222222,
             "#7201a8"
            ],
            [
             0.3333333333333333,
             "#9c179e"
            ],
            [
             0.4444444444444444,
             "#bd3786"
            ],
            [
             0.5555555555555556,
             "#d8576b"
            ],
            [
             0.6666666666666666,
             "#ed7953"
            ],
            [
             0.7777777777777778,
             "#fb9f3a"
            ],
            [
             0.8888888888888888,
             "#fdca26"
            ],
            [
             1,
             "#f0f921"
            ]
           ],
           "sequentialminus": [
            [
             0,
             "#0d0887"
            ],
            [
             0.1111111111111111,
             "#46039f"
            ],
            [
             0.2222222222222222,
             "#7201a8"
            ],
            [
             0.3333333333333333,
             "#9c179e"
            ],
            [
             0.4444444444444444,
             "#bd3786"
            ],
            [
             0.5555555555555556,
             "#d8576b"
            ],
            [
             0.6666666666666666,
             "#ed7953"
            ],
            [
             0.7777777777777778,
             "#fb9f3a"
            ],
            [
             0.8888888888888888,
             "#fdca26"
            ],
            [
             1,
             "#f0f921"
            ]
           ]
          },
          "colorway": [
           "#636efa",
           "#EF553B",
           "#00cc96",
           "#ab63fa",
           "#FFA15A",
           "#19d3f3",
           "#FF6692",
           "#B6E880",
           "#FF97FF",
           "#FECB52"
          ],
          "font": {
           "color": "#2a3f5f"
          },
          "geo": {
           "bgcolor": "white",
           "lakecolor": "white",
           "landcolor": "#E5ECF6",
           "showlakes": true,
           "showland": true,
           "subunitcolor": "white"
          },
          "hoverlabel": {
           "align": "left"
          },
          "hovermode": "closest",
          "mapbox": {
           "style": "light"
          },
          "paper_bgcolor": "white",
          "plot_bgcolor": "#E5ECF6",
          "polar": {
           "angularaxis": {
            "gridcolor": "white",
            "linecolor": "white",
            "ticks": ""
           },
           "bgcolor": "#E5ECF6",
           "radialaxis": {
            "gridcolor": "white",
            "linecolor": "white",
            "ticks": ""
           }
          },
          "scene": {
           "xaxis": {
            "backgroundcolor": "#E5ECF6",
            "gridcolor": "white",
            "gridwidth": 2,
            "linecolor": "white",
            "showbackground": true,
            "ticks": "",
            "zerolinecolor": "white"
           },
           "yaxis": {
            "backgroundcolor": "#E5ECF6",
            "gridcolor": "white",
            "gridwidth": 2,
            "linecolor": "white",
            "showbackground": true,
            "ticks": "",
            "zerolinecolor": "white"
           },
           "zaxis": {
            "backgroundcolor": "#E5ECF6",
            "gridcolor": "white",
            "gridwidth": 2,
            "linecolor": "white",
            "showbackground": true,
            "ticks": "",
            "zerolinecolor": "white"
           }
          },
          "shapedefaults": {
           "line": {
            "color": "#2a3f5f"
           }
          },
          "ternary": {
           "aaxis": {
            "gridcolor": "white",
            "linecolor": "white",
            "ticks": ""
           },
           "baxis": {
            "gridcolor": "white",
            "linecolor": "white",
            "ticks": ""
           },
           "bgcolor": "#E5ECF6",
           "caxis": {
            "gridcolor": "white",
            "linecolor": "white",
            "ticks": ""
           }
          },
          "title": {
           "x": 0.05
          },
          "xaxis": {
           "automargin": true,
           "gridcolor": "white",
           "linecolor": "white",
           "ticks": "",
           "title": {
            "standoff": 15
           },
           "zerolinecolor": "white",
           "zerolinewidth": 2
          },
          "yaxis": {
           "automargin": true,
           "gridcolor": "white",
           "linecolor": "white",
           "ticks": "",
           "title": {
            "standoff": 15
           },
           "zerolinecolor": "white",
           "zerolinewidth": 2
          }
         }
        },
        "title": {
         "text": "Hyperparameter Importances"
        },
        "xaxis": {
         "title": {
          "text": "Importance for f1_score"
         }
        },
        "yaxis": {
         "title": {
          "text": "Hyperparameter"
         }
        }
       }
      }
     },
     "metadata": {},
     "output_type": "display_data"
    }
   ],
   "source": [
    "# график важности гиперпараметров\n",
    "optuna.visualization.plot_param_importances(study, target_name=\"f1_score\")"
   ]
  },
  {
   "cell_type": "markdown",
   "metadata": {},
   "source": [
    "Из этого графика можно сделать вывод, что стоит обратить большее внимание на настройку гиперпараметра **max_depth** - максимальная глубина одного дерева.\n",
    "\n",
    "Итак, с помощью подбора гиперпараметров методом **Optuna** мы добились лучшей метрики на модели случайного леса - 0.816 с параметрами {'n_estimators': 170, 'max_depth': 40, 'min_samples_leaf': 3, 'criterion': 'entropy'}, что лучше, чем показала базовая модель."
   ]
  },
  {
   "cell_type": "markdown",
   "metadata": {},
   "source": [
    "## 7. **Выводы**"
   ]
  },
  {
   "cell_type": "markdown",
   "metadata": {},
   "source": [
    "Исходя из поставленной задачи классификации были обучены две модели - логистической регрессии и модель случайного леса по параметрам установленным по умолчанию(Baseline). Далее были подобраны гиперпараметры моделей 4 методами - **GridSeachCV**, **RandomizedSearchCV**, **Hyperopt**, **Optuna**. \n",
    "\n",
    "Можно сделать следующие выводы:\n",
    "\n",
    "- все методы позволили улучшить метрику базовой модели \n",
    "- лучшие метрики показали модели с подобранными гиперпараметрами методами **GridSeachCV**, **Hyperopt**\n",
    "- самый времязатратный и ресурснозатратный метод - **GridSeachCV**\n",
    "- в модели **RandomForestClassifier** настройки по умолчанию подобраны оптимальным образом, поэтому каждый метод гиперпараметров показал улучшение score незначительное\n",
    "\n",
    "Ниже в таблице сведены метрики по каждому методу, в скобках указано время подбора параметров."
   ]
  },
  {
   "cell_type": "markdown",
   "metadata": {},
   "source": [
    "|      Метод/Модель             |  **LogisticRegression** |  **RandomForestClassifier** |\n",
    "|:-------------------|:------------------|:------------------|\n",
    "|**Baseline** |     0.776(62.5 сек.)   |       0,813(46,9 сек.)       |\n",
    "|**GridSeachCV**|       **0,792**(5ч. 46 мин.)       |   **0,816** (10 мин.)     | \n",
    "|**RandomizedSearchCV**  |    0,787(47 мин.)       |       0,815(2 мин.)       | \n",
    "|**Hyperopt** |       **0,792**(7 мин.)      |       **0,816**(5 мин.)       | \n",
    "|**Optuna** |       0,788(7 мин.)        |       0,815(5 мин.)      | "
   ]
  },
  {
   "cell_type": "markdown",
   "metadata": {},
   "source": [
    "#### **GridSearchCV**\n",
    "\n",
    "**ПЛЮСЫ**\n",
    "\n",
    "✔️ Простой в использовании, идеален для небольшой сетки гиперпараметров\n",
    "\n",
    "✔️ Встроенная кросс-валидация\n",
    "\n",
    "✔️ Включает построение итоговой модели на всей обучающей выборке\n",
    "\n",
    "**МИНУСЫ**\n",
    "\n",
    "⛔️ Перебирает просто все комбинации заданной сетки гиперпараметров \n",
    "\n",
    "⛔️  Требует много времени и вычислительных ресурсов\n",
    "\n",
    "#### **RandomizedSearchCV**\n",
    "\n",
    "**ПЛЮСЫ**\n",
    "\n",
    "✔️ Эффективнее и экономичнее gridsearchcv\n",
    "\n",
    "✔️ Можно задать количество рассматриваемых комбинаций\n",
    "\n",
    "**МИНУСЫ**\n",
    "\n",
    "⛔️ Просто выбирает рандомные комбинации гиперпараметров без учёта результатов прошлых итераций\n",
    "\n",
    "#### **Hyperopt**\n",
    "\n",
    "**ПЛЮСЫ**\n",
    "\n",
    "✔️ Быстрее и эффективнее\n",
    "\n",
    "✔️ Учитывает результаты прошлых итераций — байесовский оптимизатор\n",
    "\n",
    "✔️ Можно отслеживать дополнительную информацию на каждом шаге с помощью класса Trials\n",
    "\n",
    "✔️ Возможность построения условного пространства поиска гиперпараметров и даже моделей\n",
    "\n",
    "**МИНУСЫ**\n",
    "\n",
    "⛔️ Старая документация, плохо с поддержкой и обновлением \n",
    "\n",
    "⛔️ Способен только минимизировать\n",
    "\n",
    "⛔️ Непростой синтаксис описания пространства гиперпараметров (особенно с использованием условных реализаций)\n",
    "\n",
    "#### **Optuna**\n",
    "\n",
    "**ПЛЮСЫ**\n",
    "\n",
    "✔️ Один из самых быстрых и эффективных\n",
    "\n",
    "✔️ Специально разработан для оптимизации гиперпараметров \n",
    "\n",
    "✔️ Простой в использовании\n",
    "\n",
    "✔️ Относительно новый фреймворк с хорошей документацией \n",
    "\n",
    "✔️ Учитывает результаты прошлых итераций — байесовский оптимизатор \n",
    "\n",
    "✔️ Встроенная визуализация результатов\n",
    "\n",
    "✔️ Возможность явно задавать максимизацию или минимизацию функции качества\n",
    "\n",
    "**МИНУСЫ**\n",
    "\n",
    "⛔️ Удаление «плохих» точек пространства из рассмотрения\n",
    "\n",
    "⛔️ Не стоит полностью полагаться: важно с умом определять пространство поиска, что может значительно сократить время расчётов."
   ]
  }
 ],
 "metadata": {
  "kernelspec": {
   "display_name": "Python 3.9.13 64-bit (system)",
   "language": "python",
   "name": "python3"
  },
  "language_info": {
   "codemirror_mode": {
    "name": "ipython",
    "version": 3
   },
   "file_extension": ".py",
   "mimetype": "text/x-python",
   "name": "python",
   "nbconvert_exporter": "python",
   "pygments_lexer": "ipython3",
   "version": "3.9.13"
  },
  "orig_nbformat": 4,
  "vscode": {
   "interpreter": {
    "hash": "2d4455a2e61ae3957eb3f2dc120d37d8062efc997899814c5a66da8bebe4f69b"
   }
  }
 },
 "nbformat": 4,
 "nbformat_minor": 2
}
