{
  "cells": [
    {
      "cell_type": "markdown",
      "metadata": {
        "id": "F6EDfWQLkBLX",
        "tags": []
      },
      "source": [
        "## 1. Постановка задачи"
      ]
    },
    {
      "cell_type": "markdown",
      "metadata": {
        "id": "G3NPCLzmkBLa"
      },
      "source": [
        "<center> <img src=https://storage.googleapis.com/kaggle-competitions/kaggle/3333/media/taxi_meter.png align=\"right\" width=\"300\"/> </center>\n",
        "    \n",
        "Вам предстоит решить настоящую задачу машинного обучения, направленную на автоматизацию бизнес процессов. Мы построим модель, которая будет предсказывать общую продолжительность поездки такси в Нью-Йорке. \n",
        "\n",
        "Представьте вы заказываете такси из одной точки Нью-Йорка в другую, причем не обязательно конечная точка должна находиться в пределах города. Сколько вы должны будете за нее заплатить? Известно, что стоимость такси в США  рассчитывается на основе фиксированной ставки + тарифная стоимость, величина которой зависит от времени и расстояния. Тарифы варьируются в зависимости от города.\n",
        "\n",
        "В свою очередь время поездки зависит от множества факторов таких как, откуда и куда вы едете, в какое время суток вы совершаете вашу поездку, погодных условий и так далее. \n",
        "\n",
        "Таким образом, если мы разработаем алгоритм, способный определять длительность поездки, мы сможем прогнозировать ее стоимость самым тривиальным образом, например, просто умножая стоимость на заданный тариф. \n",
        "Сервисы такси хранят огромные объёмы информации о поездках, включая такие данные как конечная, начальная точка маршрута, дата поездки и ее длительность. Эти данные можно использовать для того, чтобы прогнозировать длительность поездки в автоматическом режиме с привлечением искусственного интеллекта.\n",
        "\n",
        "**Бизнес-задача:** определить характеристики и с их помощью спрогнозировать длительность поездки такси.\n",
        "\n",
        "**Техническая задача для вас как для специалиста в Data Science:** построить модель машинного обучения, которая на основе предложенных характеристик клиента будет предсказывать числовой признак - время поездки такси. То есть решить задачу регрессии.\n",
        "\n",
        "**Основные цели проекта:**\n",
        "1. Сформировать набор данных на основе нескольких источников информации\n",
        "2. Спроектировать новые признаки с помощью Feature Engineering и выявить наиболее значимые при построении модели\n",
        "3. Исследовать предоставленные данные и выявить закономерности\n",
        "4. Построить несколько моделей и выбрать из них наилучшую по заданной метрике\n",
        "5. Спроектировать процесс предсказания времени длительности поездки для новых данных\n",
        "\n",
        "Загрузить свое решение на платформу Kaggle, тем самым поучаствовав в настоящем Data Science соревновании.\n",
        "Во время выполнения проекта вы отработаете навыки работы с несколькими источниками данных, генерации признаков, разведывательного анализа и визуализации данных, отбора признаков и, конечно же, построения моделей машинного обучения!\n"
      ]
    },
    {
      "cell_type": "markdown",
      "metadata": {
        "id": "4Up0IUABkBLc",
        "tags": []
      },
      "source": [
        "## 2. Знакомство с данными, базовый анализ и расширение данных"
      ]
    },
    {
      "cell_type": "markdown",
      "metadata": {
        "id": "7W9mZPhWkBLd"
      },
      "source": [
        "Начнём наше исследование со знакомства с предоставленными данными. А также подгрузим дополнительные источники данных и расширим наш исходный датасет. \n"
      ]
    },
    {
      "cell_type": "markdown",
      "metadata": {
        "id": "UTIxJupXkBLd"
      },
      "source": [
        "Заранее импортируем модули, которые нам понадобятся для решения задачи:"
      ]
    },
    {
      "cell_type": "code",
      "execution_count": 1,
      "metadata": {
        "colab": {
          "base_uri": "https://localhost:8080/",
          "height": 35
        },
        "id": "yeC12P0hkBLe",
        "outputId": "597966d7-a185-4c89-d608-1baba0704e06"
      },
      "outputs": [],
      "source": [
        "import numpy as np\n",
        "import pandas as pd\n",
        "import matplotlib.pyplot as plt\n",
        "import seaborn as sns\n",
        "import plotly.express as px\n",
        "\n",
        "from scipy import stats\n",
        "from sklearn import linear_model\n",
        "from sklearn import preprocessing\n",
        "from sklearn import model_selection\n",
        "from sklearn import tree\n",
        "from sklearn import ensemble\n",
        "from sklearn import metrics\n",
        "from sklearn import cluster\n",
        "from sklearn import feature_selection\n",
        "from plotly.subplots import make_subplots\n",
        "import plotly.graph_objects as go  \n",
        "import math\n",
        "\n",
        "import plotly.io as pio\n",
        "pio.renderers.default= 'png'"
      ]
    },
    {
      "cell_type": "markdown",
      "metadata": {
        "id": "kk5-kjqikBLf"
      },
      "source": [
        "Прочитаем наш файл с исходными данными:"
      ]
    },
    {
      "cell_type": "code",
      "execution_count": 2,
      "metadata": {
        "_cell_guid": "79c7e3d0-c299-4dcb-8224-4455121ee9b0",
        "_uuid": "d629ff2d2480ee46fbb7e2d37f6b5fab8052498a",
        "id": "hMQnRJwdkBLg",
        "outputId": "27819a73-8469-4ec7-d16a-a6f96f5b4395",
        "tags": []
      },
      "outputs": [
        {
          "name": "stdout",
          "output_type": "stream",
          "text": [
            "Train data shape: (1458644, 11)\n"
          ]
        },
        {
          "data": {
            "text/html": [
              "<div>\n",
              "<style scoped>\n",
              "    .dataframe tbody tr th:only-of-type {\n",
              "        vertical-align: middle;\n",
              "    }\n",
              "\n",
              "    .dataframe tbody tr th {\n",
              "        vertical-align: top;\n",
              "    }\n",
              "\n",
              "    .dataframe thead th {\n",
              "        text-align: right;\n",
              "    }\n",
              "</style>\n",
              "<table border=\"1\" class=\"dataframe\">\n",
              "  <thead>\n",
              "    <tr style=\"text-align: right;\">\n",
              "      <th></th>\n",
              "      <th>id</th>\n",
              "      <th>vendor_id</th>\n",
              "      <th>pickup_datetime</th>\n",
              "      <th>dropoff_datetime</th>\n",
              "      <th>passenger_count</th>\n",
              "      <th>pickup_longitude</th>\n",
              "      <th>pickup_latitude</th>\n",
              "      <th>dropoff_longitude</th>\n",
              "      <th>dropoff_latitude</th>\n",
              "      <th>store_and_fwd_flag</th>\n",
              "      <th>trip_duration</th>\n",
              "    </tr>\n",
              "  </thead>\n",
              "  <tbody>\n",
              "    <tr>\n",
              "      <th>0</th>\n",
              "      <td>id2875421</td>\n",
              "      <td>2</td>\n",
              "      <td>2016-03-14 17:24:55</td>\n",
              "      <td>2016-03-14 17:32:30</td>\n",
              "      <td>1</td>\n",
              "      <td>-73.982155</td>\n",
              "      <td>40.767937</td>\n",
              "      <td>-73.964630</td>\n",
              "      <td>40.765602</td>\n",
              "      <td>N</td>\n",
              "      <td>455</td>\n",
              "    </tr>\n",
              "    <tr>\n",
              "      <th>1</th>\n",
              "      <td>id2377394</td>\n",
              "      <td>1</td>\n",
              "      <td>2016-06-12 00:43:35</td>\n",
              "      <td>2016-06-12 00:54:38</td>\n",
              "      <td>1</td>\n",
              "      <td>-73.980415</td>\n",
              "      <td>40.738564</td>\n",
              "      <td>-73.999481</td>\n",
              "      <td>40.731152</td>\n",
              "      <td>N</td>\n",
              "      <td>663</td>\n",
              "    </tr>\n",
              "    <tr>\n",
              "      <th>2</th>\n",
              "      <td>id3858529</td>\n",
              "      <td>2</td>\n",
              "      <td>2016-01-19 11:35:24</td>\n",
              "      <td>2016-01-19 12:10:48</td>\n",
              "      <td>1</td>\n",
              "      <td>-73.979027</td>\n",
              "      <td>40.763939</td>\n",
              "      <td>-74.005333</td>\n",
              "      <td>40.710087</td>\n",
              "      <td>N</td>\n",
              "      <td>2124</td>\n",
              "    </tr>\n",
              "    <tr>\n",
              "      <th>3</th>\n",
              "      <td>id3504673</td>\n",
              "      <td>2</td>\n",
              "      <td>2016-04-06 19:32:31</td>\n",
              "      <td>2016-04-06 19:39:40</td>\n",
              "      <td>1</td>\n",
              "      <td>-74.010040</td>\n",
              "      <td>40.719971</td>\n",
              "      <td>-74.012268</td>\n",
              "      <td>40.706718</td>\n",
              "      <td>N</td>\n",
              "      <td>429</td>\n",
              "    </tr>\n",
              "    <tr>\n",
              "      <th>4</th>\n",
              "      <td>id2181028</td>\n",
              "      <td>2</td>\n",
              "      <td>2016-03-26 13:30:55</td>\n",
              "      <td>2016-03-26 13:38:10</td>\n",
              "      <td>1</td>\n",
              "      <td>-73.973053</td>\n",
              "      <td>40.793209</td>\n",
              "      <td>-73.972923</td>\n",
              "      <td>40.782520</td>\n",
              "      <td>N</td>\n",
              "      <td>435</td>\n",
              "    </tr>\n",
              "  </tbody>\n",
              "</table>\n",
              "</div>"
            ],
            "text/plain": [
              "          id  vendor_id      pickup_datetime     dropoff_datetime  \\\n",
              "0  id2875421          2  2016-03-14 17:24:55  2016-03-14 17:32:30   \n",
              "1  id2377394          1  2016-06-12 00:43:35  2016-06-12 00:54:38   \n",
              "2  id3858529          2  2016-01-19 11:35:24  2016-01-19 12:10:48   \n",
              "3  id3504673          2  2016-04-06 19:32:31  2016-04-06 19:39:40   \n",
              "4  id2181028          2  2016-03-26 13:30:55  2016-03-26 13:38:10   \n",
              "\n",
              "   passenger_count  pickup_longitude  pickup_latitude  dropoff_longitude  \\\n",
              "0                1        -73.982155        40.767937         -73.964630   \n",
              "1                1        -73.980415        40.738564         -73.999481   \n",
              "2                1        -73.979027        40.763939         -74.005333   \n",
              "3                1        -74.010040        40.719971         -74.012268   \n",
              "4                1        -73.973053        40.793209         -73.972923   \n",
              "\n",
              "   dropoff_latitude store_and_fwd_flag  trip_duration  \n",
              "0         40.765602                  N            455  \n",
              "1         40.731152                  N            663  \n",
              "2         40.710087                  N           2124  \n",
              "3         40.706718                  N            429  \n",
              "4         40.782520                  N            435  "
            ]
          },
          "execution_count": 2,
          "metadata": {},
          "output_type": "execute_result"
        }
      ],
      "source": [
        "taxi_data = pd.read_csv('Project5_train_data.zip')\n",
        "print('Train data shape: {}'.format(taxi_data.shape))\n",
        "taxi_data.head()"
      ]
    },
    {
      "cell_type": "markdown",
      "metadata": {
        "id": "xhaxNt0XkBLh"
      },
      "source": [
        "Итак, у нас с вами есть данные о почти 1.5 миллионах поездок и 11 характеристиках, которые описывают каждую из поездок. "
      ]
    },
    {
      "cell_type": "markdown",
      "metadata": {
        "id": "tXufvADjkBLi"
      },
      "source": [
        "Мы условно разделили признаки нескольких групп. Каждой из групп мы в дальнейшем уделим отдельное внимание.\n",
        "\n",
        "**Данные о клиенте и таксопарке:**\n",
        "* id - уникальный идентификатор поездки\n",
        "* vendor_id - уникальный идентификатор поставщика (таксопарка), связанного с записью поездки\n",
        "\n",
        "**Временные характеристики:**\n",
        "* pickup_datetime - дата и время, когда был включен счетчик поездки\n",
        "* dropoff_datetime - дата и время, когда счетчик был отключен\n",
        "\n",
        "**Географическая информация:**\n",
        "* pickup_longitude -  долгота, на которой был включен счетчик\n",
        "* pickup_latitude - широта, на которой был включен счетчик\n",
        "* dropoff_longitude - долгота, на которой счетчик был отключен\n",
        "* dropoff_latitude - широта, на которой счетчик был отключен\n",
        "\n",
        "**Прочие признаки:**\n",
        "* passenger_count - количество пассажиров в транспортном средстве (введенное водителем значение)\n",
        "* store_and_fwd_flag - флаг, который указывает, сохранилась ли запись о поездке в памяти транспортного средства перед отправкой поставщику. Y - хранить и пересылать, N - не хранить и не пересылать поездку.\n",
        "\n",
        "**Целевой признак:**\n",
        "* trip_duration - продолжительность поездки в секундах\n"
      ]
    },
    {
      "cell_type": "markdown",
      "metadata": {
        "id": "VvrcGynTkBLi"
      },
      "source": [
        "Для начала мы проведем базовый анализ того, насколько данные готовы к дальнейшей предобработке и анализу. "
      ]
    },
    {
      "cell_type": "markdown",
      "metadata": {
        "id": "33rsP7rTkBLj"
      },
      "source": [
        "### Задание 2.1\n",
        "Для начала посмотрим на временные рамки, в которых мы работаем с данными.\n",
        "\n",
        "Переведите признак pickup_datetime в тип данных datetime с форматом год-месяц-день час:минута:секунда (в функции pd.to_datetime() параметр format='%Y-%m-%d %H:%M:%S'). \n",
        "\n",
        "Определите временные рамки (без учета времени), за которые представлены данные."
      ]
    },
    {
      "cell_type": "code",
      "execution_count": 3,
      "metadata": {
        "id": "cIVxwqW1kBLj"
      },
      "outputs": [],
      "source": [
        "taxi_data['pickup_datetime'] = pd.to_datetime(taxi_data['pickup_datetime'])"
      ]
    },
    {
      "cell_type": "code",
      "execution_count": 4,
      "metadata": {
        "id": "cuyK3c6UYaXW",
        "outputId": "69df6476-df08-4d7f-8fe8-a5872c903297"
      },
      "outputs": [
        {
          "data": {
            "text/html": [
              "<div>\n",
              "<style scoped>\n",
              "    .dataframe tbody tr th:only-of-type {\n",
              "        vertical-align: middle;\n",
              "    }\n",
              "\n",
              "    .dataframe tbody tr th {\n",
              "        vertical-align: top;\n",
              "    }\n",
              "\n",
              "    .dataframe thead th {\n",
              "        text-align: right;\n",
              "    }\n",
              "</style>\n",
              "<table border=\"1\" class=\"dataframe\">\n",
              "  <thead>\n",
              "    <tr style=\"text-align: right;\">\n",
              "      <th></th>\n",
              "      <th>vendor_id</th>\n",
              "      <th>pickup_datetime</th>\n",
              "      <th>passenger_count</th>\n",
              "      <th>pickup_longitude</th>\n",
              "      <th>pickup_latitude</th>\n",
              "      <th>dropoff_longitude</th>\n",
              "      <th>dropoff_latitude</th>\n",
              "      <th>trip_duration</th>\n",
              "    </tr>\n",
              "  </thead>\n",
              "  <tbody>\n",
              "    <tr>\n",
              "      <th>count</th>\n",
              "      <td>1.458644e+06</td>\n",
              "      <td>1458644</td>\n",
              "      <td>1.458644e+06</td>\n",
              "      <td>1.458644e+06</td>\n",
              "      <td>1.458644e+06</td>\n",
              "      <td>1.458644e+06</td>\n",
              "      <td>1.458644e+06</td>\n",
              "      <td>1.458644e+06</td>\n",
              "    </tr>\n",
              "    <tr>\n",
              "      <th>mean</th>\n",
              "      <td>1.534950e+00</td>\n",
              "      <td>2016-04-01 10:10:24.940037120</td>\n",
              "      <td>1.664530e+00</td>\n",
              "      <td>-7.397349e+01</td>\n",
              "      <td>4.075092e+01</td>\n",
              "      <td>-7.397342e+01</td>\n",
              "      <td>4.075180e+01</td>\n",
              "      <td>9.594923e+02</td>\n",
              "    </tr>\n",
              "    <tr>\n",
              "      <th>min</th>\n",
              "      <td>1.000000e+00</td>\n",
              "      <td>2016-01-01 00:00:17</td>\n",
              "      <td>0.000000e+00</td>\n",
              "      <td>-1.219333e+02</td>\n",
              "      <td>3.435970e+01</td>\n",
              "      <td>-1.219333e+02</td>\n",
              "      <td>3.218114e+01</td>\n",
              "      <td>1.000000e+00</td>\n",
              "    </tr>\n",
              "    <tr>\n",
              "      <th>25%</th>\n",
              "      <td>1.000000e+00</td>\n",
              "      <td>2016-02-17 16:46:04.249999872</td>\n",
              "      <td>1.000000e+00</td>\n",
              "      <td>-7.399187e+01</td>\n",
              "      <td>4.073735e+01</td>\n",
              "      <td>-7.399133e+01</td>\n",
              "      <td>4.073588e+01</td>\n",
              "      <td>3.970000e+02</td>\n",
              "    </tr>\n",
              "    <tr>\n",
              "      <th>50%</th>\n",
              "      <td>2.000000e+00</td>\n",
              "      <td>2016-04-01 17:19:40</td>\n",
              "      <td>1.000000e+00</td>\n",
              "      <td>-7.398174e+01</td>\n",
              "      <td>4.075410e+01</td>\n",
              "      <td>-7.397975e+01</td>\n",
              "      <td>4.075452e+01</td>\n",
              "      <td>6.620000e+02</td>\n",
              "    </tr>\n",
              "    <tr>\n",
              "      <th>75%</th>\n",
              "      <td>2.000000e+00</td>\n",
              "      <td>2016-05-15 03:56:08.750000128</td>\n",
              "      <td>2.000000e+00</td>\n",
              "      <td>-7.396733e+01</td>\n",
              "      <td>4.076836e+01</td>\n",
              "      <td>-7.396301e+01</td>\n",
              "      <td>4.076981e+01</td>\n",
              "      <td>1.075000e+03</td>\n",
              "    </tr>\n",
              "    <tr>\n",
              "      <th>max</th>\n",
              "      <td>2.000000e+00</td>\n",
              "      <td>2016-06-30 23:59:39</td>\n",
              "      <td>9.000000e+00</td>\n",
              "      <td>-6.133553e+01</td>\n",
              "      <td>5.188108e+01</td>\n",
              "      <td>-6.133553e+01</td>\n",
              "      <td>4.392103e+01</td>\n",
              "      <td>3.526282e+06</td>\n",
              "    </tr>\n",
              "    <tr>\n",
              "      <th>std</th>\n",
              "      <td>4.987772e-01</td>\n",
              "      <td>NaN</td>\n",
              "      <td>1.314242e+00</td>\n",
              "      <td>7.090186e-02</td>\n",
              "      <td>3.288119e-02</td>\n",
              "      <td>7.064327e-02</td>\n",
              "      <td>3.589056e-02</td>\n",
              "      <td>5.237432e+03</td>\n",
              "    </tr>\n",
              "  </tbody>\n",
              "</table>\n",
              "</div>"
            ],
            "text/plain": [
              "          vendor_id                pickup_datetime  passenger_count  \\\n",
              "count  1.458644e+06                        1458644     1.458644e+06   \n",
              "mean   1.534950e+00  2016-04-01 10:10:24.940037120     1.664530e+00   \n",
              "min    1.000000e+00            2016-01-01 00:00:17     0.000000e+00   \n",
              "25%    1.000000e+00  2016-02-17 16:46:04.249999872     1.000000e+00   \n",
              "50%    2.000000e+00            2016-04-01 17:19:40     1.000000e+00   \n",
              "75%    2.000000e+00  2016-05-15 03:56:08.750000128     2.000000e+00   \n",
              "max    2.000000e+00            2016-06-30 23:59:39     9.000000e+00   \n",
              "std    4.987772e-01                            NaN     1.314242e+00   \n",
              "\n",
              "       pickup_longitude  pickup_latitude  dropoff_longitude  dropoff_latitude  \\\n",
              "count      1.458644e+06     1.458644e+06       1.458644e+06      1.458644e+06   \n",
              "mean      -7.397349e+01     4.075092e+01      -7.397342e+01      4.075180e+01   \n",
              "min       -1.219333e+02     3.435970e+01      -1.219333e+02      3.218114e+01   \n",
              "25%       -7.399187e+01     4.073735e+01      -7.399133e+01      4.073588e+01   \n",
              "50%       -7.398174e+01     4.075410e+01      -7.397975e+01      4.075452e+01   \n",
              "75%       -7.396733e+01     4.076836e+01      -7.396301e+01      4.076981e+01   \n",
              "max       -6.133553e+01     5.188108e+01      -6.133553e+01      4.392103e+01   \n",
              "std        7.090186e-02     3.288119e-02       7.064327e-02      3.589056e-02   \n",
              "\n",
              "       trip_duration  \n",
              "count   1.458644e+06  \n",
              "mean    9.594923e+02  \n",
              "min     1.000000e+00  \n",
              "25%     3.970000e+02  \n",
              "50%     6.620000e+02  \n",
              "75%     1.075000e+03  \n",
              "max     3.526282e+06  \n",
              "std     5.237432e+03  "
            ]
          },
          "execution_count": 4,
          "metadata": {},
          "output_type": "execute_result"
        }
      ],
      "source": [
        "taxi_data.describe(datetime_is_numeric=True)"
      ]
    },
    {
      "cell_type": "markdown",
      "metadata": {
        "id": "ZrOv7ZIPYaXW"
      },
      "source": [
        "Данные представлены за период с 01.01.2016 по 30.06.2016."
      ]
    },
    {
      "cell_type": "markdown",
      "metadata": {
        "id": "prw5RhKnkBLj"
      },
      "source": [
        "### Задание 2.2\n",
        "Посмотрим на пропуски. \n",
        "Сколько пропущенных значений присутствует в данных (суммарно по всем столбцам таблицы)?"
      ]
    },
    {
      "cell_type": "code",
      "execution_count": 5,
      "metadata": {
        "id": "ug16JoZDkBLk",
        "outputId": "ec0069e0-2603-41ee-b7c9-ee7a36d40228"
      },
      "outputs": [
        {
          "data": {
            "text/plain": [
              "id                    0\n",
              "vendor_id             0\n",
              "pickup_datetime       0\n",
              "dropoff_datetime      0\n",
              "passenger_count       0\n",
              "pickup_longitude      0\n",
              "pickup_latitude       0\n",
              "dropoff_longitude     0\n",
              "dropoff_latitude      0\n",
              "store_and_fwd_flag    0\n",
              "trip_duration         0\n",
              "dtype: int64"
            ]
          },
          "execution_count": 5,
          "metadata": {},
          "output_type": "execute_result"
        }
      ],
      "source": [
        "taxi_data.isnull().sum()"
      ]
    },
    {
      "cell_type": "markdown",
      "metadata": {
        "id": "OPVi9MNwYaXX"
      },
      "source": [
        "Пропусков в данных нет, то есть одной проблемой стало меньше."
      ]
    },
    {
      "cell_type": "markdown",
      "metadata": {
        "id": "ZMMIyT1skBLk"
      },
      "source": [
        "### Задание 2.3\n",
        "Посмотрим на статистические характеристики некоторых признаков. \n",
        "\n",
        "а) Сколько уникальных таксопарков присутствует в данных?\n",
        "\n",
        "б) Каково максимальное количество пассажиров?\n",
        "\n",
        "в) Чему равна средняя и медианная длительность поездки? Ответ приведите в секундах и округлите до целого.\n",
        "\n",
        "г) Чему равно минимальное и максимальное время поездки (в секундах)?\n"
      ]
    },
    {
      "cell_type": "code",
      "execution_count": 6,
      "metadata": {
        "id": "UeJfdmIskBLk",
        "outputId": "ad98ed09-001e-4cca-d1cb-6ef6664751e6"
      },
      "outputs": [
        {
          "name": "stdout",
          "output_type": "stream",
          "text": [
            "2\n",
            "662.0\n"
          ]
        },
        {
          "data": {
            "text/html": [
              "<div>\n",
              "<style scoped>\n",
              "    .dataframe tbody tr th:only-of-type {\n",
              "        vertical-align: middle;\n",
              "    }\n",
              "\n",
              "    .dataframe tbody tr th {\n",
              "        vertical-align: top;\n",
              "    }\n",
              "\n",
              "    .dataframe thead th {\n",
              "        text-align: right;\n",
              "    }\n",
              "</style>\n",
              "<table border=\"1\" class=\"dataframe\">\n",
              "  <thead>\n",
              "    <tr style=\"text-align: right;\">\n",
              "      <th></th>\n",
              "      <th>vendor_id</th>\n",
              "      <th>passenger_count</th>\n",
              "      <th>pickup_longitude</th>\n",
              "      <th>pickup_latitude</th>\n",
              "      <th>dropoff_longitude</th>\n",
              "      <th>dropoff_latitude</th>\n",
              "      <th>trip_duration</th>\n",
              "    </tr>\n",
              "  </thead>\n",
              "  <tbody>\n",
              "    <tr>\n",
              "      <th>count</th>\n",
              "      <td>1.458644e+06</td>\n",
              "      <td>1.458644e+06</td>\n",
              "      <td>1.458644e+06</td>\n",
              "      <td>1.458644e+06</td>\n",
              "      <td>1.458644e+06</td>\n",
              "      <td>1.458644e+06</td>\n",
              "      <td>1.458644e+06</td>\n",
              "    </tr>\n",
              "    <tr>\n",
              "      <th>mean</th>\n",
              "      <td>1.534950e+00</td>\n",
              "      <td>1.664530e+00</td>\n",
              "      <td>-7.397349e+01</td>\n",
              "      <td>4.075092e+01</td>\n",
              "      <td>-7.397342e+01</td>\n",
              "      <td>4.075180e+01</td>\n",
              "      <td>9.594923e+02</td>\n",
              "    </tr>\n",
              "    <tr>\n",
              "      <th>std</th>\n",
              "      <td>4.987772e-01</td>\n",
              "      <td>1.314242e+00</td>\n",
              "      <td>7.090186e-02</td>\n",
              "      <td>3.288119e-02</td>\n",
              "      <td>7.064327e-02</td>\n",
              "      <td>3.589056e-02</td>\n",
              "      <td>5.237432e+03</td>\n",
              "    </tr>\n",
              "    <tr>\n",
              "      <th>min</th>\n",
              "      <td>1.000000e+00</td>\n",
              "      <td>0.000000e+00</td>\n",
              "      <td>-1.219333e+02</td>\n",
              "      <td>3.435970e+01</td>\n",
              "      <td>-1.219333e+02</td>\n",
              "      <td>3.218114e+01</td>\n",
              "      <td>1.000000e+00</td>\n",
              "    </tr>\n",
              "    <tr>\n",
              "      <th>25%</th>\n",
              "      <td>1.000000e+00</td>\n",
              "      <td>1.000000e+00</td>\n",
              "      <td>-7.399187e+01</td>\n",
              "      <td>4.073735e+01</td>\n",
              "      <td>-7.399133e+01</td>\n",
              "      <td>4.073588e+01</td>\n",
              "      <td>3.970000e+02</td>\n",
              "    </tr>\n",
              "    <tr>\n",
              "      <th>50%</th>\n",
              "      <td>2.000000e+00</td>\n",
              "      <td>1.000000e+00</td>\n",
              "      <td>-7.398174e+01</td>\n",
              "      <td>4.075410e+01</td>\n",
              "      <td>-7.397975e+01</td>\n",
              "      <td>4.075452e+01</td>\n",
              "      <td>6.620000e+02</td>\n",
              "    </tr>\n",
              "    <tr>\n",
              "      <th>75%</th>\n",
              "      <td>2.000000e+00</td>\n",
              "      <td>2.000000e+00</td>\n",
              "      <td>-7.396733e+01</td>\n",
              "      <td>4.076836e+01</td>\n",
              "      <td>-7.396301e+01</td>\n",
              "      <td>4.076981e+01</td>\n",
              "      <td>1.075000e+03</td>\n",
              "    </tr>\n",
              "    <tr>\n",
              "      <th>max</th>\n",
              "      <td>2.000000e+00</td>\n",
              "      <td>9.000000e+00</td>\n",
              "      <td>-6.133553e+01</td>\n",
              "      <td>5.188108e+01</td>\n",
              "      <td>-6.133553e+01</td>\n",
              "      <td>4.392103e+01</td>\n",
              "      <td>3.526282e+06</td>\n",
              "    </tr>\n",
              "  </tbody>\n",
              "</table>\n",
              "</div>"
            ],
            "text/plain": [
              "          vendor_id  passenger_count  pickup_longitude  pickup_latitude  \\\n",
              "count  1.458644e+06     1.458644e+06      1.458644e+06     1.458644e+06   \n",
              "mean   1.534950e+00     1.664530e+00     -7.397349e+01     4.075092e+01   \n",
              "std    4.987772e-01     1.314242e+00      7.090186e-02     3.288119e-02   \n",
              "min    1.000000e+00     0.000000e+00     -1.219333e+02     3.435970e+01   \n",
              "25%    1.000000e+00     1.000000e+00     -7.399187e+01     4.073735e+01   \n",
              "50%    2.000000e+00     1.000000e+00     -7.398174e+01     4.075410e+01   \n",
              "75%    2.000000e+00     2.000000e+00     -7.396733e+01     4.076836e+01   \n",
              "max    2.000000e+00     9.000000e+00     -6.133553e+01     5.188108e+01   \n",
              "\n",
              "       dropoff_longitude  dropoff_latitude  trip_duration  \n",
              "count       1.458644e+06      1.458644e+06   1.458644e+06  \n",
              "mean       -7.397342e+01      4.075180e+01   9.594923e+02  \n",
              "std         7.064327e-02      3.589056e-02   5.237432e+03  \n",
              "min        -1.219333e+02      3.218114e+01   1.000000e+00  \n",
              "25%        -7.399133e+01      4.073588e+01   3.970000e+02  \n",
              "50%        -7.397975e+01      4.075452e+01   6.620000e+02  \n",
              "75%        -7.396301e+01      4.076981e+01   1.075000e+03  \n",
              "max        -6.133553e+01      4.392103e+01   3.526282e+06  "
            ]
          },
          "execution_count": 6,
          "metadata": {},
          "output_type": "execute_result"
        }
      ],
      "source": [
        "print(taxi_data['vendor_id'].nunique())\n",
        "print(taxi_data['trip_duration'].median())\n",
        "taxi_data.describe()"
      ]
    },
    {
      "cell_type": "markdown",
      "metadata": {
        "id": "25D4SACMYaXX"
      },
      "source": [
        "В данных представлены поездки клиентов двух таксопарков, максимальное количество пассажиров в транспортном средстве - 9, медианная время поездки 662 сек., средняя время поездки - 959 сек. Минимальное время поездки - 1 сек. (что возможно является выбросом или поездка была отменена) а максимальное время поездки - 3526282 сек.(значение тоже вызывает сомнения(более 40 дней) и требует проверки - возможно водитель вовремя не отжал завершение поездки или не закончил смену)."
      ]
    },
    {
      "cell_type": "markdown",
      "metadata": {
        "id": "JhUgalQSkBLk"
      },
      "source": [
        "Займемся расширением исходного набора данных как с помощью внешних источников, так и с помощью манипуляций над имеющимися в данных признаками. \n"
      ]
    },
    {
      "cell_type": "markdown",
      "metadata": {
        "id": "riVyyTGRkBLk"
      },
      "source": [
        "### Задание 2.4\n",
        "Реализуйте функцию add_datetime_features(), которая принимает на вход таблицу с данными о поездках (DataFrame) и возвращает ту же таблицу с добавленными в нее 3 столбцами:\n",
        "* pickup_date - дата включения счетчика - начала поездки (без времени);\n",
        "* pickup_hour - час дня включения счетчика;\n",
        "* pickup_day_of_week - наименование дня недели, в который был включен счетчик.\n",
        "\n",
        "а) Сколько поездок было совершено в субботу?\n",
        "\n",
        "б) Сколько поездок в среднем совершается в день? Ответ округлите до целого"
      ]
    },
    {
      "cell_type": "code",
      "execution_count": 4,
      "metadata": {
        "id": "2987aTUAkBLl",
        "outputId": "74d0ed66-b19d-41cb-f079-8727df60f679"
      },
      "outputs": [
        {
          "data": {
            "text/html": [
              "<div>\n",
              "<style scoped>\n",
              "    .dataframe tbody tr th:only-of-type {\n",
              "        vertical-align: middle;\n",
              "    }\n",
              "\n",
              "    .dataframe tbody tr th {\n",
              "        vertical-align: top;\n",
              "    }\n",
              "\n",
              "    .dataframe thead th {\n",
              "        text-align: right;\n",
              "    }\n",
              "</style>\n",
              "<table border=\"1\" class=\"dataframe\">\n",
              "  <thead>\n",
              "    <tr style=\"text-align: right;\">\n",
              "      <th></th>\n",
              "      <th>id</th>\n",
              "      <th>vendor_id</th>\n",
              "      <th>pickup_datetime</th>\n",
              "      <th>dropoff_datetime</th>\n",
              "      <th>passenger_count</th>\n",
              "      <th>pickup_longitude</th>\n",
              "      <th>pickup_latitude</th>\n",
              "      <th>dropoff_longitude</th>\n",
              "      <th>dropoff_latitude</th>\n",
              "      <th>store_and_fwd_flag</th>\n",
              "      <th>trip_duration</th>\n",
              "      <th>pickup_date</th>\n",
              "      <th>pickup_hour</th>\n",
              "      <th>pickup_day_of_week</th>\n",
              "    </tr>\n",
              "  </thead>\n",
              "  <tbody>\n",
              "    <tr>\n",
              "      <th>0</th>\n",
              "      <td>id2875421</td>\n",
              "      <td>2</td>\n",
              "      <td>2016-03-14 17:24:55</td>\n",
              "      <td>2016-03-14 17:32:30</td>\n",
              "      <td>1</td>\n",
              "      <td>-73.982155</td>\n",
              "      <td>40.767937</td>\n",
              "      <td>-73.964630</td>\n",
              "      <td>40.765602</td>\n",
              "      <td>N</td>\n",
              "      <td>455</td>\n",
              "      <td>2016-03-14</td>\n",
              "      <td>17</td>\n",
              "      <td>Monday</td>\n",
              "    </tr>\n",
              "    <tr>\n",
              "      <th>1</th>\n",
              "      <td>id2377394</td>\n",
              "      <td>1</td>\n",
              "      <td>2016-06-12 00:43:35</td>\n",
              "      <td>2016-06-12 00:54:38</td>\n",
              "      <td>1</td>\n",
              "      <td>-73.980415</td>\n",
              "      <td>40.738564</td>\n",
              "      <td>-73.999481</td>\n",
              "      <td>40.731152</td>\n",
              "      <td>N</td>\n",
              "      <td>663</td>\n",
              "      <td>2016-06-12</td>\n",
              "      <td>0</td>\n",
              "      <td>Sunday</td>\n",
              "    </tr>\n",
              "    <tr>\n",
              "      <th>2</th>\n",
              "      <td>id3858529</td>\n",
              "      <td>2</td>\n",
              "      <td>2016-01-19 11:35:24</td>\n",
              "      <td>2016-01-19 12:10:48</td>\n",
              "      <td>1</td>\n",
              "      <td>-73.979027</td>\n",
              "      <td>40.763939</td>\n",
              "      <td>-74.005333</td>\n",
              "      <td>40.710087</td>\n",
              "      <td>N</td>\n",
              "      <td>2124</td>\n",
              "      <td>2016-01-19</td>\n",
              "      <td>11</td>\n",
              "      <td>Tuesday</td>\n",
              "    </tr>\n",
              "    <tr>\n",
              "      <th>3</th>\n",
              "      <td>id3504673</td>\n",
              "      <td>2</td>\n",
              "      <td>2016-04-06 19:32:31</td>\n",
              "      <td>2016-04-06 19:39:40</td>\n",
              "      <td>1</td>\n",
              "      <td>-74.010040</td>\n",
              "      <td>40.719971</td>\n",
              "      <td>-74.012268</td>\n",
              "      <td>40.706718</td>\n",
              "      <td>N</td>\n",
              "      <td>429</td>\n",
              "      <td>2016-04-06</td>\n",
              "      <td>19</td>\n",
              "      <td>Wednesday</td>\n",
              "    </tr>\n",
              "    <tr>\n",
              "      <th>4</th>\n",
              "      <td>id2181028</td>\n",
              "      <td>2</td>\n",
              "      <td>2016-03-26 13:30:55</td>\n",
              "      <td>2016-03-26 13:38:10</td>\n",
              "      <td>1</td>\n",
              "      <td>-73.973053</td>\n",
              "      <td>40.793209</td>\n",
              "      <td>-73.972923</td>\n",
              "      <td>40.782520</td>\n",
              "      <td>N</td>\n",
              "      <td>435</td>\n",
              "      <td>2016-03-26</td>\n",
              "      <td>13</td>\n",
              "      <td>Saturday</td>\n",
              "    </tr>\n",
              "    <tr>\n",
              "      <th>...</th>\n",
              "      <td>...</td>\n",
              "      <td>...</td>\n",
              "      <td>...</td>\n",
              "      <td>...</td>\n",
              "      <td>...</td>\n",
              "      <td>...</td>\n",
              "      <td>...</td>\n",
              "      <td>...</td>\n",
              "      <td>...</td>\n",
              "      <td>...</td>\n",
              "      <td>...</td>\n",
              "      <td>...</td>\n",
              "      <td>...</td>\n",
              "      <td>...</td>\n",
              "    </tr>\n",
              "    <tr>\n",
              "      <th>1458639</th>\n",
              "      <td>id2376096</td>\n",
              "      <td>2</td>\n",
              "      <td>2016-04-08 13:31:04</td>\n",
              "      <td>2016-04-08 13:44:02</td>\n",
              "      <td>4</td>\n",
              "      <td>-73.982201</td>\n",
              "      <td>40.745522</td>\n",
              "      <td>-73.994911</td>\n",
              "      <td>40.740170</td>\n",
              "      <td>N</td>\n",
              "      <td>778</td>\n",
              "      <td>2016-04-08</td>\n",
              "      <td>13</td>\n",
              "      <td>Friday</td>\n",
              "    </tr>\n",
              "    <tr>\n",
              "      <th>1458640</th>\n",
              "      <td>id1049543</td>\n",
              "      <td>1</td>\n",
              "      <td>2016-01-10 07:35:15</td>\n",
              "      <td>2016-01-10 07:46:10</td>\n",
              "      <td>1</td>\n",
              "      <td>-74.000946</td>\n",
              "      <td>40.747379</td>\n",
              "      <td>-73.970184</td>\n",
              "      <td>40.796547</td>\n",
              "      <td>N</td>\n",
              "      <td>655</td>\n",
              "      <td>2016-01-10</td>\n",
              "      <td>7</td>\n",
              "      <td>Sunday</td>\n",
              "    </tr>\n",
              "    <tr>\n",
              "      <th>1458641</th>\n",
              "      <td>id2304944</td>\n",
              "      <td>2</td>\n",
              "      <td>2016-04-22 06:57:41</td>\n",
              "      <td>2016-04-22 07:10:25</td>\n",
              "      <td>1</td>\n",
              "      <td>-73.959129</td>\n",
              "      <td>40.768799</td>\n",
              "      <td>-74.004433</td>\n",
              "      <td>40.707371</td>\n",
              "      <td>N</td>\n",
              "      <td>764</td>\n",
              "      <td>2016-04-22</td>\n",
              "      <td>6</td>\n",
              "      <td>Friday</td>\n",
              "    </tr>\n",
              "    <tr>\n",
              "      <th>1458642</th>\n",
              "      <td>id2714485</td>\n",
              "      <td>1</td>\n",
              "      <td>2016-01-05 15:56:26</td>\n",
              "      <td>2016-01-05 16:02:39</td>\n",
              "      <td>1</td>\n",
              "      <td>-73.982079</td>\n",
              "      <td>40.749062</td>\n",
              "      <td>-73.974632</td>\n",
              "      <td>40.757107</td>\n",
              "      <td>N</td>\n",
              "      <td>373</td>\n",
              "      <td>2016-01-05</td>\n",
              "      <td>15</td>\n",
              "      <td>Tuesday</td>\n",
              "    </tr>\n",
              "    <tr>\n",
              "      <th>1458643</th>\n",
              "      <td>id1209952</td>\n",
              "      <td>1</td>\n",
              "      <td>2016-04-05 14:44:25</td>\n",
              "      <td>2016-04-05 14:47:43</td>\n",
              "      <td>1</td>\n",
              "      <td>-73.979538</td>\n",
              "      <td>40.781750</td>\n",
              "      <td>-73.972809</td>\n",
              "      <td>40.790585</td>\n",
              "      <td>N</td>\n",
              "      <td>198</td>\n",
              "      <td>2016-04-05</td>\n",
              "      <td>14</td>\n",
              "      <td>Tuesday</td>\n",
              "    </tr>\n",
              "  </tbody>\n",
              "</table>\n",
              "<p>1458644 rows × 14 columns</p>\n",
              "</div>"
            ],
            "text/plain": [
              "                id  vendor_id     pickup_datetime     dropoff_datetime  \\\n",
              "0        id2875421          2 2016-03-14 17:24:55  2016-03-14 17:32:30   \n",
              "1        id2377394          1 2016-06-12 00:43:35  2016-06-12 00:54:38   \n",
              "2        id3858529          2 2016-01-19 11:35:24  2016-01-19 12:10:48   \n",
              "3        id3504673          2 2016-04-06 19:32:31  2016-04-06 19:39:40   \n",
              "4        id2181028          2 2016-03-26 13:30:55  2016-03-26 13:38:10   \n",
              "...            ...        ...                 ...                  ...   \n",
              "1458639  id2376096          2 2016-04-08 13:31:04  2016-04-08 13:44:02   \n",
              "1458640  id1049543          1 2016-01-10 07:35:15  2016-01-10 07:46:10   \n",
              "1458641  id2304944          2 2016-04-22 06:57:41  2016-04-22 07:10:25   \n",
              "1458642  id2714485          1 2016-01-05 15:56:26  2016-01-05 16:02:39   \n",
              "1458643  id1209952          1 2016-04-05 14:44:25  2016-04-05 14:47:43   \n",
              "\n",
              "         passenger_count  pickup_longitude  pickup_latitude  \\\n",
              "0                      1        -73.982155        40.767937   \n",
              "1                      1        -73.980415        40.738564   \n",
              "2                      1        -73.979027        40.763939   \n",
              "3                      1        -74.010040        40.719971   \n",
              "4                      1        -73.973053        40.793209   \n",
              "...                  ...               ...              ...   \n",
              "1458639                4        -73.982201        40.745522   \n",
              "1458640                1        -74.000946        40.747379   \n",
              "1458641                1        -73.959129        40.768799   \n",
              "1458642                1        -73.982079        40.749062   \n",
              "1458643                1        -73.979538        40.781750   \n",
              "\n",
              "         dropoff_longitude  dropoff_latitude store_and_fwd_flag  \\\n",
              "0               -73.964630         40.765602                  N   \n",
              "1               -73.999481         40.731152                  N   \n",
              "2               -74.005333         40.710087                  N   \n",
              "3               -74.012268         40.706718                  N   \n",
              "4               -73.972923         40.782520                  N   \n",
              "...                    ...               ...                ...   \n",
              "1458639         -73.994911         40.740170                  N   \n",
              "1458640         -73.970184         40.796547                  N   \n",
              "1458641         -74.004433         40.707371                  N   \n",
              "1458642         -73.974632         40.757107                  N   \n",
              "1458643         -73.972809         40.790585                  N   \n",
              "\n",
              "         trip_duration pickup_date  pickup_hour pickup_day_of_week  \n",
              "0                  455  2016-03-14           17             Monday  \n",
              "1                  663  2016-06-12            0             Sunday  \n",
              "2                 2124  2016-01-19           11            Tuesday  \n",
              "3                  429  2016-04-06           19          Wednesday  \n",
              "4                  435  2016-03-26           13           Saturday  \n",
              "...                ...         ...          ...                ...  \n",
              "1458639            778  2016-04-08           13             Friday  \n",
              "1458640            655  2016-01-10            7             Sunday  \n",
              "1458641            764  2016-04-22            6             Friday  \n",
              "1458642            373  2016-01-05           15            Tuesday  \n",
              "1458643            198  2016-04-05           14            Tuesday  \n",
              "\n",
              "[1458644 rows x 14 columns]"
            ]
          },
          "execution_count": 4,
          "metadata": {},
          "output_type": "execute_result"
        }
      ],
      "source": [
        "def add_datetime_features(df):\n",
        "    df['pickup_date'] = df['pickup_datetime'].dt.date\n",
        "    df['pickup_hour'] = df['pickup_datetime'].dt.hour\n",
        "    df['pickup_day_of_week'] = df['pickup_datetime'].dt.day_name()\n",
        "    return df\n",
        "\n",
        "add_datetime_features(taxi_data)"
      ]
    },
    {
      "cell_type": "code",
      "execution_count": 8,
      "metadata": {
        "id": "M89xhQGEYaXY",
        "outputId": "3815d260-6216-4e5c-c01d-dbe50edf265f"
      },
      "outputs": [
        {
          "name": "stdout",
          "output_type": "stream",
          "text": [
            "В субботу было совершено 220868 поездок.\n",
            "В среднем в день совершалось 8015 поездок.\n"
          ]
        }
      ],
      "source": [
        "print(f'В субботу было совершено {taxi_data[\"pickup_day_of_week\"].value_counts()[\"Saturday\"]} поездок.')\n",
        "print(f'В среднем в день совершалось {round(taxi_data[\"pickup_date\"].value_counts().mean())} поездок.')"
      ]
    },
    {
      "cell_type": "markdown",
      "metadata": {
        "id": "5rCk6lyTkBLl"
      },
      "source": [
        "### Задание 2.5\n",
        "\n",
        "От того, является ли день праздничным, часто зависит ситуация на дорогах. Большое количество автомобилей создаёт пробки и потенциально увеличивает длительность совершаемой на такси поездки.\n",
        "\n",
        "Давайте добавим в наш датасет информацию о том, является ли день праздничным. Для этого мы собрали даты всех праздничных дней в Америке за 2016 год. [Данные](https://lms.skillfactory.ru/assets/courseware/v1/33bd8d5f6f2ba8d00e2ce66ed0a9f510/asset-v1:SkillFactory+DSPR-2.0+14JULY2021+type@asset+block/holiday_data.csv) представлены в табличном формате CSV и содержат три столбца:\n",
        "\n",
        "- day — день недели;\n",
        "- date — дата;\n",
        "- holiday — наименование праздника.\n",
        "\n",
        "Реализуйте функцию add_holiday_features(), которая принимает на вход две таблицы: \n",
        "* таблицу с данными о поездках;\n",
        "* таблицу с данными о праздничных днях;\n",
        "\n",
        "и возвращает обновленную таблицу с данными о поездках с добавленным в нее столбцом pickup_holiday - бинарным признаком того, начата ли поездка в праздничный день или нет (1 - да, 0 - нет). \n",
        "\n",
        "Чему равна медианная длительность поездки на такси в праздничные дни? Ответ приведите в секундах, округлив до целого.\n"
      ]
    },
    {
      "cell_type": "code",
      "execution_count": 5,
      "metadata": {
        "id": "ZnPWsSMukBLl",
        "outputId": "6a120fc7-d927-47b0-83de-3d4bce5fdd84"
      },
      "outputs": [
        {
          "data": {
            "text/html": [
              "<div>\n",
              "<style scoped>\n",
              "    .dataframe tbody tr th:only-of-type {\n",
              "        vertical-align: middle;\n",
              "    }\n",
              "\n",
              "    .dataframe tbody tr th {\n",
              "        vertical-align: top;\n",
              "    }\n",
              "\n",
              "    .dataframe thead th {\n",
              "        text-align: right;\n",
              "    }\n",
              "</style>\n",
              "<table border=\"1\" class=\"dataframe\">\n",
              "  <thead>\n",
              "    <tr style=\"text-align: right;\">\n",
              "      <th></th>\n",
              "      <th>id</th>\n",
              "      <th>vendor_id</th>\n",
              "      <th>pickup_datetime</th>\n",
              "      <th>dropoff_datetime</th>\n",
              "      <th>passenger_count</th>\n",
              "      <th>pickup_longitude</th>\n",
              "      <th>pickup_latitude</th>\n",
              "      <th>dropoff_longitude</th>\n",
              "      <th>dropoff_latitude</th>\n",
              "      <th>store_and_fwd_flag</th>\n",
              "      <th>trip_duration</th>\n",
              "      <th>pickup_date</th>\n",
              "      <th>pickup_hour</th>\n",
              "      <th>pickup_day_of_week</th>\n",
              "      <th>pickup_holiday</th>\n",
              "    </tr>\n",
              "  </thead>\n",
              "  <tbody>\n",
              "    <tr>\n",
              "      <th>0</th>\n",
              "      <td>id2875421</td>\n",
              "      <td>2</td>\n",
              "      <td>2016-03-14 17:24:55</td>\n",
              "      <td>2016-03-14 17:32:30</td>\n",
              "      <td>1</td>\n",
              "      <td>-73.982155</td>\n",
              "      <td>40.767937</td>\n",
              "      <td>-73.964630</td>\n",
              "      <td>40.765602</td>\n",
              "      <td>N</td>\n",
              "      <td>455</td>\n",
              "      <td>2016-03-14</td>\n",
              "      <td>17</td>\n",
              "      <td>Monday</td>\n",
              "      <td>0</td>\n",
              "    </tr>\n",
              "    <tr>\n",
              "      <th>1</th>\n",
              "      <td>id2377394</td>\n",
              "      <td>1</td>\n",
              "      <td>2016-06-12 00:43:35</td>\n",
              "      <td>2016-06-12 00:54:38</td>\n",
              "      <td>1</td>\n",
              "      <td>-73.980415</td>\n",
              "      <td>40.738564</td>\n",
              "      <td>-73.999481</td>\n",
              "      <td>40.731152</td>\n",
              "      <td>N</td>\n",
              "      <td>663</td>\n",
              "      <td>2016-06-12</td>\n",
              "      <td>0</td>\n",
              "      <td>Sunday</td>\n",
              "      <td>0</td>\n",
              "    </tr>\n",
              "    <tr>\n",
              "      <th>2</th>\n",
              "      <td>id3858529</td>\n",
              "      <td>2</td>\n",
              "      <td>2016-01-19 11:35:24</td>\n",
              "      <td>2016-01-19 12:10:48</td>\n",
              "      <td>1</td>\n",
              "      <td>-73.979027</td>\n",
              "      <td>40.763939</td>\n",
              "      <td>-74.005333</td>\n",
              "      <td>40.710087</td>\n",
              "      <td>N</td>\n",
              "      <td>2124</td>\n",
              "      <td>2016-01-19</td>\n",
              "      <td>11</td>\n",
              "      <td>Tuesday</td>\n",
              "      <td>0</td>\n",
              "    </tr>\n",
              "    <tr>\n",
              "      <th>3</th>\n",
              "      <td>id3504673</td>\n",
              "      <td>2</td>\n",
              "      <td>2016-04-06 19:32:31</td>\n",
              "      <td>2016-04-06 19:39:40</td>\n",
              "      <td>1</td>\n",
              "      <td>-74.010040</td>\n",
              "      <td>40.719971</td>\n",
              "      <td>-74.012268</td>\n",
              "      <td>40.706718</td>\n",
              "      <td>N</td>\n",
              "      <td>429</td>\n",
              "      <td>2016-04-06</td>\n",
              "      <td>19</td>\n",
              "      <td>Wednesday</td>\n",
              "      <td>0</td>\n",
              "    </tr>\n",
              "    <tr>\n",
              "      <th>4</th>\n",
              "      <td>id2181028</td>\n",
              "      <td>2</td>\n",
              "      <td>2016-03-26 13:30:55</td>\n",
              "      <td>2016-03-26 13:38:10</td>\n",
              "      <td>1</td>\n",
              "      <td>-73.973053</td>\n",
              "      <td>40.793209</td>\n",
              "      <td>-73.972923</td>\n",
              "      <td>40.782520</td>\n",
              "      <td>N</td>\n",
              "      <td>435</td>\n",
              "      <td>2016-03-26</td>\n",
              "      <td>13</td>\n",
              "      <td>Saturday</td>\n",
              "      <td>0</td>\n",
              "    </tr>\n",
              "    <tr>\n",
              "      <th>...</th>\n",
              "      <td>...</td>\n",
              "      <td>...</td>\n",
              "      <td>...</td>\n",
              "      <td>...</td>\n",
              "      <td>...</td>\n",
              "      <td>...</td>\n",
              "      <td>...</td>\n",
              "      <td>...</td>\n",
              "      <td>...</td>\n",
              "      <td>...</td>\n",
              "      <td>...</td>\n",
              "      <td>...</td>\n",
              "      <td>...</td>\n",
              "      <td>...</td>\n",
              "      <td>...</td>\n",
              "    </tr>\n",
              "    <tr>\n",
              "      <th>1458639</th>\n",
              "      <td>id2376096</td>\n",
              "      <td>2</td>\n",
              "      <td>2016-04-08 13:31:04</td>\n",
              "      <td>2016-04-08 13:44:02</td>\n",
              "      <td>4</td>\n",
              "      <td>-73.982201</td>\n",
              "      <td>40.745522</td>\n",
              "      <td>-73.994911</td>\n",
              "      <td>40.740170</td>\n",
              "      <td>N</td>\n",
              "      <td>778</td>\n",
              "      <td>2016-04-08</td>\n",
              "      <td>13</td>\n",
              "      <td>Friday</td>\n",
              "      <td>0</td>\n",
              "    </tr>\n",
              "    <tr>\n",
              "      <th>1458640</th>\n",
              "      <td>id1049543</td>\n",
              "      <td>1</td>\n",
              "      <td>2016-01-10 07:35:15</td>\n",
              "      <td>2016-01-10 07:46:10</td>\n",
              "      <td>1</td>\n",
              "      <td>-74.000946</td>\n",
              "      <td>40.747379</td>\n",
              "      <td>-73.970184</td>\n",
              "      <td>40.796547</td>\n",
              "      <td>N</td>\n",
              "      <td>655</td>\n",
              "      <td>2016-01-10</td>\n",
              "      <td>7</td>\n",
              "      <td>Sunday</td>\n",
              "      <td>0</td>\n",
              "    </tr>\n",
              "    <tr>\n",
              "      <th>1458641</th>\n",
              "      <td>id2304944</td>\n",
              "      <td>2</td>\n",
              "      <td>2016-04-22 06:57:41</td>\n",
              "      <td>2016-04-22 07:10:25</td>\n",
              "      <td>1</td>\n",
              "      <td>-73.959129</td>\n",
              "      <td>40.768799</td>\n",
              "      <td>-74.004433</td>\n",
              "      <td>40.707371</td>\n",
              "      <td>N</td>\n",
              "      <td>764</td>\n",
              "      <td>2016-04-22</td>\n",
              "      <td>6</td>\n",
              "      <td>Friday</td>\n",
              "      <td>0</td>\n",
              "    </tr>\n",
              "    <tr>\n",
              "      <th>1458642</th>\n",
              "      <td>id2714485</td>\n",
              "      <td>1</td>\n",
              "      <td>2016-01-05 15:56:26</td>\n",
              "      <td>2016-01-05 16:02:39</td>\n",
              "      <td>1</td>\n",
              "      <td>-73.982079</td>\n",
              "      <td>40.749062</td>\n",
              "      <td>-73.974632</td>\n",
              "      <td>40.757107</td>\n",
              "      <td>N</td>\n",
              "      <td>373</td>\n",
              "      <td>2016-01-05</td>\n",
              "      <td>15</td>\n",
              "      <td>Tuesday</td>\n",
              "      <td>0</td>\n",
              "    </tr>\n",
              "    <tr>\n",
              "      <th>1458643</th>\n",
              "      <td>id1209952</td>\n",
              "      <td>1</td>\n",
              "      <td>2016-04-05 14:44:25</td>\n",
              "      <td>2016-04-05 14:47:43</td>\n",
              "      <td>1</td>\n",
              "      <td>-73.979538</td>\n",
              "      <td>40.781750</td>\n",
              "      <td>-73.972809</td>\n",
              "      <td>40.790585</td>\n",
              "      <td>N</td>\n",
              "      <td>198</td>\n",
              "      <td>2016-04-05</td>\n",
              "      <td>14</td>\n",
              "      <td>Tuesday</td>\n",
              "      <td>0</td>\n",
              "    </tr>\n",
              "  </tbody>\n",
              "</table>\n",
              "<p>1458644 rows × 15 columns</p>\n",
              "</div>"
            ],
            "text/plain": [
              "                id  vendor_id     pickup_datetime     dropoff_datetime  \\\n",
              "0        id2875421          2 2016-03-14 17:24:55  2016-03-14 17:32:30   \n",
              "1        id2377394          1 2016-06-12 00:43:35  2016-06-12 00:54:38   \n",
              "2        id3858529          2 2016-01-19 11:35:24  2016-01-19 12:10:48   \n",
              "3        id3504673          2 2016-04-06 19:32:31  2016-04-06 19:39:40   \n",
              "4        id2181028          2 2016-03-26 13:30:55  2016-03-26 13:38:10   \n",
              "...            ...        ...                 ...                  ...   \n",
              "1458639  id2376096          2 2016-04-08 13:31:04  2016-04-08 13:44:02   \n",
              "1458640  id1049543          1 2016-01-10 07:35:15  2016-01-10 07:46:10   \n",
              "1458641  id2304944          2 2016-04-22 06:57:41  2016-04-22 07:10:25   \n",
              "1458642  id2714485          1 2016-01-05 15:56:26  2016-01-05 16:02:39   \n",
              "1458643  id1209952          1 2016-04-05 14:44:25  2016-04-05 14:47:43   \n",
              "\n",
              "         passenger_count  pickup_longitude  pickup_latitude  \\\n",
              "0                      1        -73.982155        40.767937   \n",
              "1                      1        -73.980415        40.738564   \n",
              "2                      1        -73.979027        40.763939   \n",
              "3                      1        -74.010040        40.719971   \n",
              "4                      1        -73.973053        40.793209   \n",
              "...                  ...               ...              ...   \n",
              "1458639                4        -73.982201        40.745522   \n",
              "1458640                1        -74.000946        40.747379   \n",
              "1458641                1        -73.959129        40.768799   \n",
              "1458642                1        -73.982079        40.749062   \n",
              "1458643                1        -73.979538        40.781750   \n",
              "\n",
              "         dropoff_longitude  dropoff_latitude store_and_fwd_flag  \\\n",
              "0               -73.964630         40.765602                  N   \n",
              "1               -73.999481         40.731152                  N   \n",
              "2               -74.005333         40.710087                  N   \n",
              "3               -74.012268         40.706718                  N   \n",
              "4               -73.972923         40.782520                  N   \n",
              "...                    ...               ...                ...   \n",
              "1458639         -73.994911         40.740170                  N   \n",
              "1458640         -73.970184         40.796547                  N   \n",
              "1458641         -74.004433         40.707371                  N   \n",
              "1458642         -73.974632         40.757107                  N   \n",
              "1458643         -73.972809         40.790585                  N   \n",
              "\n",
              "         trip_duration pickup_date  pickup_hour pickup_day_of_week  \\\n",
              "0                  455  2016-03-14           17             Monday   \n",
              "1                  663  2016-06-12            0             Sunday   \n",
              "2                 2124  2016-01-19           11            Tuesday   \n",
              "3                  429  2016-04-06           19          Wednesday   \n",
              "4                  435  2016-03-26           13           Saturday   \n",
              "...                ...         ...          ...                ...   \n",
              "1458639            778  2016-04-08           13             Friday   \n",
              "1458640            655  2016-01-10            7             Sunday   \n",
              "1458641            764  2016-04-22            6             Friday   \n",
              "1458642            373  2016-01-05           15            Tuesday   \n",
              "1458643            198  2016-04-05           14            Tuesday   \n",
              "\n",
              "         pickup_holiday  \n",
              "0                     0  \n",
              "1                     0  \n",
              "2                     0  \n",
              "3                     0  \n",
              "4                     0  \n",
              "...                 ...  \n",
              "1458639               0  \n",
              "1458640               0  \n",
              "1458641               0  \n",
              "1458642               0  \n",
              "1458643               0  \n",
              "\n",
              "[1458644 rows x 15 columns]"
            ]
          },
          "execution_count": 5,
          "metadata": {},
          "output_type": "execute_result"
        }
      ],
      "source": [
        "holiday_data = pd.read_csv('holiday_data.csv', sep=';')\n",
        "\n",
        "def add_holiday_features(df_1, df_2):\n",
        "    df_1['pickup_holiday'] = df_1.apply(lambda x: 1 if str(x.pickup_date) in list(df_2['date']) else 0, axis=1)\n",
        "    return df_1\n",
        "    \n",
        "add_holiday_features(taxi_data, holiday_data)"
      ]
    },
    {
      "cell_type": "code",
      "execution_count": 10,
      "metadata": {
        "id": "6trVdGc6YaXZ",
        "outputId": "fbb8fbf2-32af-4a0f-deae-c1812062e798"
      },
      "outputs": [
        {
          "name": "stdout",
          "output_type": "stream",
          "text": [
            "Медианная длительность поездки в такси в праздничные дни равна 585.0 сек.\n"
          ]
        }
      ],
      "source": [
        "print(f'Медианная длительность поездки в такси в праздничные дни равна {taxi_data[taxi_data[\"pickup_holiday\"]==1][\"trip_duration\"].median()} сек.')"
      ]
    },
    {
      "cell_type": "markdown",
      "metadata": {
        "id": "OKVKwnsJYaXZ"
      },
      "source": [
        "Теперь, когда мы разобрались с временными характеристиками, переходим к географическим.\n",
        "\n",
        "В данных есть столбцы, содержащие информацию о широте и долготе. Из них можно извлечь очень много полезной информации.\n",
        "\n",
        "Например, зная широту и долготу начальной и конечной точек маршрута, мы можем воспользоваться **OSRM API**.\n",
        "\n",
        "[**OSRM (Open Source Routing Machine)**](https://en.wikipedia.org/wiki/Open_Source_Routing_Machine) — это открытый бесплатный ресурс, который активно используется во многих сервисах, предполагающих построение кратчайшего маршрута. Он позволяет не только построить оптимальный кусочно-линейный путь из точки А в точку B, но также узнать его примерную длительность, длину, а также подробную информацию о количестве шагов, которые необходимо преодолеть по пути (количество поворотов). У данного сервиса есть API, с которым вы можете познакомиться в [документации](https://www.thinkdatascience.com/post/2020-03-03-osrm/osrm/).\n",
        "\n",
        "Проблема заключается в том, что, так как в наших данных содержится информация о более чем одном миллионе поездок, подгрузка данных с помощью API и их предобработка может занять несколько часов, а при слабом интернет-соединении — и дней. Поэтому мы заранее подготовили выгрузку данных из OSRM API для каждой поездки из тренировочной и тестовой выборок нашего набора данных.\n",
        "\n",
        "Файлы с данными из OSRM для поездок из тренировочной таблицы вы можете найти [здесь](https://drive.google.com/file/d/1ecWjor7Tn3HP7LEAm5a0B_wrIfdcVGwR/view?usp=sharing). Наборы данных представлены в табличном формате CSV. Нас будут интересовать только следующие столбцы:\n",
        "\n",
        "- id — идентификатор поездки;\n",
        "- total_distance — кратчайшее дорожное расстояние (в метрах) из точки, в которой был включён счётчик, до точки, в которой счётчик был выключен (согласно OSRM);\n",
        "- total_travel_time — наименьшее время поездки (в секундах) из точки, в которой был включён счётчик, до точки, в которой счётчик был выключен (согласно OSRM);\n",
        "- number_of_steps — количество дискретных шагов, которые должен выполнить водитель (поворот налево/поворот направо/ехать прямо и т. д.)."
      ]
    },
    {
      "cell_type": "markdown",
      "metadata": {
        "id": "YPxMlVMAkBLl"
      },
      "source": [
        "### Задание 2.6\n",
        "Реализуйте функцию add_osrm_features(), которая принимает на вход две таблицы:\n",
        "* таблицу с данными о поездках;\n",
        "* таблицу с данными из OSRM;\n",
        "\n",
        "и возвращает обновленную таблицу с данными о поездках с добавленными в нее 3 столбцами:\n",
        "* total_distance;\n",
        "* total_travel_time;\n",
        "* number_of_steps.\n",
        "\n",
        "а) Чему равна разница (в секундах) между медианной длительностью поездки в данных и медианной длительностью поездки, полученной из OSRM? \n",
        "\n",
        "В результате объединения таблиц у вас должны были получиться пропуски в столбцах с информацией из OSRM API. Это связано с тем, что для некоторых поездок не удалось выгрузить данные из веб источника. \n",
        "\n",
        "б) Сколько пропусков содержится в столбцах с информацией из OSRM API после объединения таблиц?"
      ]
    },
    {
      "cell_type": "code",
      "execution_count": 6,
      "metadata": {
        "id": "uey_zFbwkBLm",
        "outputId": "a0b1c1d0-395c-4908-fb4e-2480357a39f7"
      },
      "outputs": [
        {
          "data": {
            "text/html": [
              "<div>\n",
              "<style scoped>\n",
              "    .dataframe tbody tr th:only-of-type {\n",
              "        vertical-align: middle;\n",
              "    }\n",
              "\n",
              "    .dataframe tbody tr th {\n",
              "        vertical-align: top;\n",
              "    }\n",
              "\n",
              "    .dataframe thead th {\n",
              "        text-align: right;\n",
              "    }\n",
              "</style>\n",
              "<table border=\"1\" class=\"dataframe\">\n",
              "  <thead>\n",
              "    <tr style=\"text-align: right;\">\n",
              "      <th></th>\n",
              "      <th>id</th>\n",
              "      <th>starting_street</th>\n",
              "      <th>end_street</th>\n",
              "      <th>total_distance</th>\n",
              "      <th>total_travel_time</th>\n",
              "      <th>number_of_steps</th>\n",
              "      <th>street_for_each_step</th>\n",
              "      <th>distance_per_step</th>\n",
              "      <th>travel_time_per_step</th>\n",
              "      <th>step_maneuvers</th>\n",
              "      <th>step_direction</th>\n",
              "      <th>step_location_list</th>\n",
              "    </tr>\n",
              "  </thead>\n",
              "  <tbody>\n",
              "    <tr>\n",
              "      <th>0</th>\n",
              "      <td>id2875421</td>\n",
              "      <td>Columbus Circle</td>\n",
              "      <td>East 65th Street</td>\n",
              "      <td>2009.1</td>\n",
              "      <td>164.9</td>\n",
              "      <td>5</td>\n",
              "      <td>Columbus Circle|Central Park West|65th Street ...</td>\n",
              "      <td>0|576.4|885.6|547.1|0</td>\n",
              "      <td>0|61.1|60.1|43.7|0</td>\n",
              "      <td>depart|rotary|turn|new name|arrive</td>\n",
              "      <td>left|straight|right|straight|arrive</td>\n",
              "      <td>-73.982316,40.767869|-73.981997,40.767688|-73....</td>\n",
              "    </tr>\n",
              "    <tr>\n",
              "      <th>1</th>\n",
              "      <td>id2377394</td>\n",
              "      <td>2nd Avenue</td>\n",
              "      <td>Washington Square West</td>\n",
              "      <td>2513.2</td>\n",
              "      <td>332.0</td>\n",
              "      <td>6</td>\n",
              "      <td>2nd Avenue|East 13th Street|5th Avenue|Washing...</td>\n",
              "      <td>877.3|836.5|496.1|164.2|139.1|0</td>\n",
              "      <td>111.7|109|69.9|25.8|15.6|0</td>\n",
              "      <td>depart|turn|turn|end of road|continue|arrive</td>\n",
              "      <td>none|right|left|right|left|arrive</td>\n",
              "      <td>-73.980429,40.73857|-73.985444,40.731658|-73.9...</td>\n",
              "    </tr>\n",
              "    <tr>\n",
              "      <th>2</th>\n",
              "      <td>id3504673</td>\n",
              "      <td>Greenwich Street</td>\n",
              "      <td>Broadway</td>\n",
              "      <td>1779.4</td>\n",
              "      <td>235.8</td>\n",
              "      <td>4</td>\n",
              "      <td>Greenwich Street|Park Place|Broadway|Broadway</td>\n",
              "      <td>644.2|379.9|755.3|0</td>\n",
              "      <td>80.5|50.8|104.5|0</td>\n",
              "      <td>depart|turn|end of road|arrive</td>\n",
              "      <td>left|left|right|arrive</td>\n",
              "      <td>-74.010145,40.719982|-74.011527,40.714294|-74....</td>\n",
              "    </tr>\n",
              "    <tr>\n",
              "      <th>3</th>\n",
              "      <td>id2181028</td>\n",
              "      <td>Broadway</td>\n",
              "      <td>West 81st Street</td>\n",
              "      <td>1614.9</td>\n",
              "      <td>140.1</td>\n",
              "      <td>5</td>\n",
              "      <td>Broadway|West 86th Street|Columbus Avenue|West...</td>\n",
              "      <td>617|427.4|412.2|158.3|0</td>\n",
              "      <td>56|36|37.8|10.3|0</td>\n",
              "      <td>depart|turn|turn|turn|arrive</td>\n",
              "      <td>right|left|right|left|arrive</td>\n",
              "      <td>-73.972998,40.793187|-73.976607,40.788361|-73....</td>\n",
              "    </tr>\n",
              "    <tr>\n",
              "      <th>4</th>\n",
              "      <td>id0801584</td>\n",
              "      <td>Lexington Avenue</td>\n",
              "      <td>West 31st Street</td>\n",
              "      <td>1393.5</td>\n",
              "      <td>189.4</td>\n",
              "      <td>5</td>\n",
              "      <td>Lexington Avenue|East 27th Street|Madison Aven...</td>\n",
              "      <td>18.9|311.9|313.3|749.4|0</td>\n",
              "      <td>6.3|42.9|48.4|91.8|0</td>\n",
              "      <td>depart|turn|turn|turn|arrive</td>\n",
              "      <td>right|right|right|left|arrive</td>\n",
              "      <td>-73.982805,40.742173|-73.982914,40.742024|-73....</td>\n",
              "    </tr>\n",
              "  </tbody>\n",
              "</table>\n",
              "</div>"
            ],
            "text/plain": [
              "          id   starting_street              end_street  total_distance  \\\n",
              "0  id2875421   Columbus Circle        East 65th Street          2009.1   \n",
              "1  id2377394        2nd Avenue  Washington Square West          2513.2   \n",
              "2  id3504673  Greenwich Street                Broadway          1779.4   \n",
              "3  id2181028          Broadway        West 81st Street          1614.9   \n",
              "4  id0801584  Lexington Avenue        West 31st Street          1393.5   \n",
              "\n",
              "   total_travel_time  number_of_steps  \\\n",
              "0              164.9                5   \n",
              "1              332.0                6   \n",
              "2              235.8                4   \n",
              "3              140.1                5   \n",
              "4              189.4                5   \n",
              "\n",
              "                                street_for_each_step  \\\n",
              "0  Columbus Circle|Central Park West|65th Street ...   \n",
              "1  2nd Avenue|East 13th Street|5th Avenue|Washing...   \n",
              "2      Greenwich Street|Park Place|Broadway|Broadway   \n",
              "3  Broadway|West 86th Street|Columbus Avenue|West...   \n",
              "4  Lexington Avenue|East 27th Street|Madison Aven...   \n",
              "\n",
              "                 distance_per_step        travel_time_per_step  \\\n",
              "0            0|576.4|885.6|547.1|0          0|61.1|60.1|43.7|0   \n",
              "1  877.3|836.5|496.1|164.2|139.1|0  111.7|109|69.9|25.8|15.6|0   \n",
              "2              644.2|379.9|755.3|0           80.5|50.8|104.5|0   \n",
              "3          617|427.4|412.2|158.3|0           56|36|37.8|10.3|0   \n",
              "4         18.9|311.9|313.3|749.4|0        6.3|42.9|48.4|91.8|0   \n",
              "\n",
              "                                 step_maneuvers  \\\n",
              "0            depart|rotary|turn|new name|arrive   \n",
              "1  depart|turn|turn|end of road|continue|arrive   \n",
              "2                depart|turn|end of road|arrive   \n",
              "3                  depart|turn|turn|turn|arrive   \n",
              "4                  depart|turn|turn|turn|arrive   \n",
              "\n",
              "                        step_direction  \\\n",
              "0  left|straight|right|straight|arrive   \n",
              "1    none|right|left|right|left|arrive   \n",
              "2               left|left|right|arrive   \n",
              "3         right|left|right|left|arrive   \n",
              "4        right|right|right|left|arrive   \n",
              "\n",
              "                                  step_location_list  \n",
              "0  -73.982316,40.767869|-73.981997,40.767688|-73....  \n",
              "1  -73.980429,40.73857|-73.985444,40.731658|-73.9...  \n",
              "2  -74.010145,40.719982|-74.011527,40.714294|-74....  \n",
              "3  -73.972998,40.793187|-73.976607,40.788361|-73....  \n",
              "4  -73.982805,40.742173|-73.982914,40.742024|-73....  "
            ]
          },
          "execution_count": 6,
          "metadata": {},
          "output_type": "execute_result"
        }
      ],
      "source": [
        "osrm_data = pd.read_csv('osrm_data_train.zip')\n",
        "\n",
        "osrm_data.head()"
      ]
    },
    {
      "cell_type": "code",
      "execution_count": 7,
      "metadata": {
        "id": "A4pQqbZ5YaXa"
      },
      "outputs": [],
      "source": [
        "osrm_data_cleaned = osrm_data[['id', 'total_distance', 'total_travel_time', 'number_of_steps']]\n",
        "\n",
        "def add_osrm_features(df_1, df_2):\n",
        "    df = df_1.merge(\n",
        "        df_2,\n",
        "        on='id',\n",
        "        how='left'\n",
        "    )\n",
        "    return df\n",
        "\n",
        "taxi_data = add_osrm_features(taxi_data, osrm_data_cleaned)"
      ]
    },
    {
      "cell_type": "code",
      "execution_count": 11,
      "metadata": {
        "id": "k0bNatDMYaXa",
        "outputId": "902d33a8-61d2-44af-d6c6-292843bf7a12"
      },
      "outputs": [
        {
          "data": {
            "text/plain": [
              "total_distance       1\n",
              "total_travel_time    1\n",
              "number_of_steps      1\n",
              "dtype: int64"
            ]
          },
          "execution_count": 11,
          "metadata": {},
          "output_type": "execute_result"
        }
      ],
      "source": [
        "taxi_data.isnull().sum().tail(3)"
      ]
    },
    {
      "cell_type": "code",
      "execution_count": 12,
      "metadata": {
        "id": "o7q-6iy9YaXa",
        "outputId": "a3a380b6-2886-4b68-8231-54c427849454"
      },
      "outputs": [
        {
          "data": {
            "text/plain": [
              "372.5"
            ]
          },
          "execution_count": 12,
          "metadata": {},
          "output_type": "execute_result"
        }
      ],
      "source": [
        "taxi_data['trip_duration'].median() - taxi_data['total_travel_time'].median()"
      ]
    },
    {
      "cell_type": "markdown",
      "metadata": {
        "id": "ih0vBOIcYaXa"
      },
      "source": [
        "В объединённом датасете имеем одно пропущенное значение - это связано с тем, что для некоторых поездок не удалось выгрузить данные из веб-источника. Также видим, что медианная длительность поездки в данных больше медианной длительностью поездки, полученной из OSRM.\n",
        "\n",
        "С помощью географических характеристик можно извлечь ещё немного информации. Если рассматривать Землю как сферу, то, зная широту и долготу начальной и конечной точек маршрута, можно вычислить географическое расстояние между точками на сфере, а также узнать направление движения автомобиля.\n",
        "\n",
        "Немного теории ↓\n",
        "\n",
        "Введём в наш анализ расстояние по [формуле Хаверсина](http://espressocode.top/haversine-formula-to-find-distance-between-two-points-on-a-sphere/). \n",
        "\n",
        "Данная формула определяет кратчайшее расстояние между двумя точками на сфере, если известны широта и долгота каждой из точек. Геометрически это длина кратчайшей дуги, связывающей точки на сфере.\n",
        "\n",
        "![An](https://lms.skillfactory.ru/assets/courseware/v1/27f8a26817acd0860b350a32d1287e5a/asset-v1:SkillFactory+DSPR-2.0+14JULY2021+type@asset+block/dst3-pr5_2_4.png)\n",
        "\n",
        "Пусть есть две точки с географическими координатами $x_1 = (\\varphi_1, \\lambda_1)$ и $x_2 = (\\varphi_2, \\lambda_2)$, где\n",
        "\n",
        "- $\\varphi_1$ и $\\lambda_1$ — широта (latitude) и долгота (longitude) первой точки маршрута (в радианах);\n",
        "- $\\varphi_12$ и $\\lambda_2$ — широта (latitude) и долгота (longitude) второй точки маршрута (в радианах).\n",
        "\n",
        "Тогда расстояние Хаверсина (в километрах) определяется как:\n",
        "\n",
        "$h(x_1,x_2) = 2R \\ arcsin (\\sqrt{sin^2 (\\frac{\\varphi_2 - \\varphi_1}{2}) + cos(\\varphi_1) cos(\\varphi_2) sin (\\frac{\\lambda_2 - \\lambda_1}{2})}),$\n",
        "\n",
        "где $R$ — радиус земли (6371 км), $h$ — расстояние между двумя точками на сфере (в километрах).\n",
        "\n",
        "?\n",
        "\n",
        "В чём разница между **расстоянием Хаверсина** и **расстоянием из OSRM**? \n",
        "\n",
        "Расстояние, вычисляемое в OSRM, — это кратчайший суммарный путь, пройденный по дорожным разметкам.\n",
        "\n",
        "Взгляните на карту ниже. Если принять Землю за плоскость, то можно показать, что расстояние Хаверсина превратится в евклидово расстояние. Тогда величина $h$ будет длиной гипотенузы прямоугольного треугольника (на карте ниже она обозначена **зелёным**), а вот расстояние из OSRM будет равно сумме длин катетов (на карте обозначено **чёрным**).\n",
        "\n",
        "![An](https://lms.skillfactory.ru/assets/courseware/v1/378694620447a00c9cabf120b1bdfd65/asset-v1:SkillFactory+DSPR-2.0+14JULY2021+type@asset+block/dst3-pr5_2_5.png)\n",
        "\n",
        "Далее, зная начальную и конечную точку маршрута, мы можем вычислить направление движения автомобиля (угол пеленга) по формуле:\n",
        "\n",
        "$\\alpha = arctg (\\frac{sin (\\lambda_2 - \\lambda_1) cos (\\varphi_2)}{cos (\\varphi_1) sin (\\varphi_2) - sin (\\varphi_1) cos (\\varphi_2) cos (\\lambda_2 - \\lambda_1)}),$\n",
        "\n",
        "где $\\alpha$ — угол направления движения от первой точки ко второй (может измеряться как в радианах, так и в градусах).\n",
        "\n",
        "В интернете можно найти множество реализаций введённых нами формул на разных языках, в том числе на Python. Мы предлагаем вам воспользоваться следующими функциями:\n",
        "\n",
        "- get_haversine_distance — функция для вычисления расстояния Хаверсина (в километрах);\n",
        "- get_angle_direction — функция для вычисления угла направления движения (в градусах).\n",
        "\n",
        "Каждая из функций имеет четыре аргумента:\n",
        "\n",
        "- lat1 и lng1 — векторы-столбцы с широтой и долготой первой точки;\n",
        "- lat2 и lng2 — векторы-столбцы с широтой и долготой второй точки."
      ]
    },
    {
      "cell_type": "code",
      "execution_count": 8,
      "metadata": {
        "id": "ti1rljMGkBLm"
      },
      "outputs": [],
      "source": [
        "def get_haversine_distance(lat1, lng1, lat2, lng2):\n",
        "    # переводим углы в радианы\n",
        "    lat1, lng1, lat2, lng2 = map(np.radians, (lat1, lng1, lat2, lng2))\n",
        "    # радиус земли в километрах\n",
        "    EARTH_RADIUS = 6371 \n",
        "    # считаем кратчайшее расстояние h по формуле Хаверсина\n",
        "    lat_delta = lat2 - lat1\n",
        "    lng_delta = lng2 - lng1\n",
        "    d = np.sin(lat_delta * 0.5) ** 2 + np.cos(lat1) * np.cos(lat2) * np.sin(lng_delta * 0.5) ** 2\n",
        "    h = 2 * EARTH_RADIUS * np.arcsin(np.sqrt(d))\n",
        "    return h\n",
        "\n",
        "def get_angle_direction(lat1, lng1, lat2, lng2):\n",
        "    # переводим углы в радианы\n",
        "    lat1, lng1, lat2, lng2 = map(np.radians, (lat1, lng1, lat2, lng2))\n",
        "    # считаем угол направления движения alpha по формуле угла пеленга\n",
        "    lng_delta_rad = lng2 - lng1\n",
        "    y = np.sin(lng_delta_rad) * np.cos(lat2)\n",
        "    x = np.cos(lat1) * np.sin(lat2) - np.sin(lat1) * np.cos(lat2) * np.cos(lng_delta_rad)\n",
        "    alpha = np.degrees(np.arctan2(y, x))\n",
        "    return alpha"
      ]
    },
    {
      "cell_type": "markdown",
      "metadata": {
        "id": "lGQpi4erkBLm",
        "tags": []
      },
      "source": [
        "### Задание 2.7.\n",
        "Реализуйте функцию add_geographical_features(), которая принимает на вход таблицу с данными о поездках и возвращает обновленную таблицу с добавленными в нее 2 столбцами:\n",
        "* haversine_distance - расстояние Хаверсина между точкой, в которой был включен счетчик, и точкой, в которой счетчик был выключен;\n",
        "* direction - направление движения из точки, в которой был включен счетчик, в точку, в которой счетчик был выключен.\n",
        "\n",
        "Чему равно медианное расстояние Хаверсина поездок (в киллометрах)? Ответ округлите до сотых.\n"
      ]
    },
    {
      "cell_type": "code",
      "execution_count": 9,
      "metadata": {
        "id": "zqIZyeHmkBLm",
        "outputId": "91354cad-89d3-4cb6-8190-c04735a4cc24"
      },
      "outputs": [
        {
          "data": {
            "text/html": [
              "<div>\n",
              "<style scoped>\n",
              "    .dataframe tbody tr th:only-of-type {\n",
              "        vertical-align: middle;\n",
              "    }\n",
              "\n",
              "    .dataframe tbody tr th {\n",
              "        vertical-align: top;\n",
              "    }\n",
              "\n",
              "    .dataframe thead th {\n",
              "        text-align: right;\n",
              "    }\n",
              "</style>\n",
              "<table border=\"1\" class=\"dataframe\">\n",
              "  <thead>\n",
              "    <tr style=\"text-align: right;\">\n",
              "      <th></th>\n",
              "      <th>id</th>\n",
              "      <th>vendor_id</th>\n",
              "      <th>pickup_datetime</th>\n",
              "      <th>dropoff_datetime</th>\n",
              "      <th>passenger_count</th>\n",
              "      <th>pickup_longitude</th>\n",
              "      <th>pickup_latitude</th>\n",
              "      <th>dropoff_longitude</th>\n",
              "      <th>dropoff_latitude</th>\n",
              "      <th>store_and_fwd_flag</th>\n",
              "      <th>trip_duration</th>\n",
              "      <th>pickup_date</th>\n",
              "      <th>pickup_hour</th>\n",
              "      <th>pickup_day_of_week</th>\n",
              "      <th>pickup_holiday</th>\n",
              "      <th>total_distance</th>\n",
              "      <th>total_travel_time</th>\n",
              "      <th>number_of_steps</th>\n",
              "      <th>haversine_distance</th>\n",
              "      <th>directon</th>\n",
              "    </tr>\n",
              "  </thead>\n",
              "  <tbody>\n",
              "    <tr>\n",
              "      <th>0</th>\n",
              "      <td>id2875421</td>\n",
              "      <td>2</td>\n",
              "      <td>2016-03-14 17:24:55</td>\n",
              "      <td>2016-03-14 17:32:30</td>\n",
              "      <td>1</td>\n",
              "      <td>-73.982155</td>\n",
              "      <td>40.767937</td>\n",
              "      <td>-73.964630</td>\n",
              "      <td>40.765602</td>\n",
              "      <td>N</td>\n",
              "      <td>455</td>\n",
              "      <td>2016-03-14</td>\n",
              "      <td>17</td>\n",
              "      <td>Monday</td>\n",
              "      <td>0</td>\n",
              "      <td>2009.1</td>\n",
              "      <td>164.9</td>\n",
              "      <td>5.0</td>\n",
              "      <td>1.498521</td>\n",
              "      <td>99.970196</td>\n",
              "    </tr>\n",
              "    <tr>\n",
              "      <th>1</th>\n",
              "      <td>id2377394</td>\n",
              "      <td>1</td>\n",
              "      <td>2016-06-12 00:43:35</td>\n",
              "      <td>2016-06-12 00:54:38</td>\n",
              "      <td>1</td>\n",
              "      <td>-73.980415</td>\n",
              "      <td>40.738564</td>\n",
              "      <td>-73.999481</td>\n",
              "      <td>40.731152</td>\n",
              "      <td>N</td>\n",
              "      <td>663</td>\n",
              "      <td>2016-06-12</td>\n",
              "      <td>0</td>\n",
              "      <td>Sunday</td>\n",
              "      <td>0</td>\n",
              "      <td>2513.2</td>\n",
              "      <td>332.0</td>\n",
              "      <td>6.0</td>\n",
              "      <td>1.805507</td>\n",
              "      <td>-117.153768</td>\n",
              "    </tr>\n",
              "    <tr>\n",
              "      <th>2</th>\n",
              "      <td>id3858529</td>\n",
              "      <td>2</td>\n",
              "      <td>2016-01-19 11:35:24</td>\n",
              "      <td>2016-01-19 12:10:48</td>\n",
              "      <td>1</td>\n",
              "      <td>-73.979027</td>\n",
              "      <td>40.763939</td>\n",
              "      <td>-74.005333</td>\n",
              "      <td>40.710087</td>\n",
              "      <td>N</td>\n",
              "      <td>2124</td>\n",
              "      <td>2016-01-19</td>\n",
              "      <td>11</td>\n",
              "      <td>Tuesday</td>\n",
              "      <td>0</td>\n",
              "      <td>11060.8</td>\n",
              "      <td>767.6</td>\n",
              "      <td>16.0</td>\n",
              "      <td>6.385098</td>\n",
              "      <td>-159.680165</td>\n",
              "    </tr>\n",
              "    <tr>\n",
              "      <th>3</th>\n",
              "      <td>id3504673</td>\n",
              "      <td>2</td>\n",
              "      <td>2016-04-06 19:32:31</td>\n",
              "      <td>2016-04-06 19:39:40</td>\n",
              "      <td>1</td>\n",
              "      <td>-74.010040</td>\n",
              "      <td>40.719971</td>\n",
              "      <td>-74.012268</td>\n",
              "      <td>40.706718</td>\n",
              "      <td>N</td>\n",
              "      <td>429</td>\n",
              "      <td>2016-04-06</td>\n",
              "      <td>19</td>\n",
              "      <td>Wednesday</td>\n",
              "      <td>0</td>\n",
              "      <td>1779.4</td>\n",
              "      <td>235.8</td>\n",
              "      <td>4.0</td>\n",
              "      <td>1.485498</td>\n",
              "      <td>-172.737700</td>\n",
              "    </tr>\n",
              "    <tr>\n",
              "      <th>4</th>\n",
              "      <td>id2181028</td>\n",
              "      <td>2</td>\n",
              "      <td>2016-03-26 13:30:55</td>\n",
              "      <td>2016-03-26 13:38:10</td>\n",
              "      <td>1</td>\n",
              "      <td>-73.973053</td>\n",
              "      <td>40.793209</td>\n",
              "      <td>-73.972923</td>\n",
              "      <td>40.782520</td>\n",
              "      <td>N</td>\n",
              "      <td>435</td>\n",
              "      <td>2016-03-26</td>\n",
              "      <td>13</td>\n",
              "      <td>Saturday</td>\n",
              "      <td>0</td>\n",
              "      <td>1614.9</td>\n",
              "      <td>140.1</td>\n",
              "      <td>5.0</td>\n",
              "      <td>1.188588</td>\n",
              "      <td>179.473585</td>\n",
              "    </tr>\n",
              "    <tr>\n",
              "      <th>...</th>\n",
              "      <td>...</td>\n",
              "      <td>...</td>\n",
              "      <td>...</td>\n",
              "      <td>...</td>\n",
              "      <td>...</td>\n",
              "      <td>...</td>\n",
              "      <td>...</td>\n",
              "      <td>...</td>\n",
              "      <td>...</td>\n",
              "      <td>...</td>\n",
              "      <td>...</td>\n",
              "      <td>...</td>\n",
              "      <td>...</td>\n",
              "      <td>...</td>\n",
              "      <td>...</td>\n",
              "      <td>...</td>\n",
              "      <td>...</td>\n",
              "      <td>...</td>\n",
              "      <td>...</td>\n",
              "      <td>...</td>\n",
              "    </tr>\n",
              "    <tr>\n",
              "      <th>1458639</th>\n",
              "      <td>id2376096</td>\n",
              "      <td>2</td>\n",
              "      <td>2016-04-08 13:31:04</td>\n",
              "      <td>2016-04-08 13:44:02</td>\n",
              "      <td>4</td>\n",
              "      <td>-73.982201</td>\n",
              "      <td>40.745522</td>\n",
              "      <td>-73.994911</td>\n",
              "      <td>40.740170</td>\n",
              "      <td>N</td>\n",
              "      <td>778</td>\n",
              "      <td>2016-04-08</td>\n",
              "      <td>13</td>\n",
              "      <td>Friday</td>\n",
              "      <td>0</td>\n",
              "      <td>2234.6</td>\n",
              "      <td>311.7</td>\n",
              "      <td>8.0</td>\n",
              "      <td>1.225080</td>\n",
              "      <td>-119.059338</td>\n",
              "    </tr>\n",
              "    <tr>\n",
              "      <th>1458640</th>\n",
              "      <td>id1049543</td>\n",
              "      <td>1</td>\n",
              "      <td>2016-01-10 07:35:15</td>\n",
              "      <td>2016-01-10 07:46:10</td>\n",
              "      <td>1</td>\n",
              "      <td>-74.000946</td>\n",
              "      <td>40.747379</td>\n",
              "      <td>-73.970184</td>\n",
              "      <td>40.796547</td>\n",
              "      <td>N</td>\n",
              "      <td>655</td>\n",
              "      <td>2016-01-10</td>\n",
              "      <td>7</td>\n",
              "      <td>Sunday</td>\n",
              "      <td>0</td>\n",
              "      <td>7638.0</td>\n",
              "      <td>589.6</td>\n",
              "      <td>11.0</td>\n",
              "      <td>6.049836</td>\n",
              "      <td>25.342196</td>\n",
              "    </tr>\n",
              "    <tr>\n",
              "      <th>1458641</th>\n",
              "      <td>id2304944</td>\n",
              "      <td>2</td>\n",
              "      <td>2016-04-22 06:57:41</td>\n",
              "      <td>2016-04-22 07:10:25</td>\n",
              "      <td>1</td>\n",
              "      <td>-73.959129</td>\n",
              "      <td>40.768799</td>\n",
              "      <td>-74.004433</td>\n",
              "      <td>40.707371</td>\n",
              "      <td>N</td>\n",
              "      <td>764</td>\n",
              "      <td>2016-04-22</td>\n",
              "      <td>6</td>\n",
              "      <td>Friday</td>\n",
              "      <td>0</td>\n",
              "      <td>9871.5</td>\n",
              "      <td>642.9</td>\n",
              "      <td>10.0</td>\n",
              "      <td>7.824606</td>\n",
              "      <td>-150.788492</td>\n",
              "    </tr>\n",
              "    <tr>\n",
              "      <th>1458642</th>\n",
              "      <td>id2714485</td>\n",
              "      <td>1</td>\n",
              "      <td>2016-01-05 15:56:26</td>\n",
              "      <td>2016-01-05 16:02:39</td>\n",
              "      <td>1</td>\n",
              "      <td>-73.982079</td>\n",
              "      <td>40.749062</td>\n",
              "      <td>-73.974632</td>\n",
              "      <td>40.757107</td>\n",
              "      <td>N</td>\n",
              "      <td>373</td>\n",
              "      <td>2016-01-05</td>\n",
              "      <td>15</td>\n",
              "      <td>Tuesday</td>\n",
              "      <td>0</td>\n",
              "      <td>1628.3</td>\n",
              "      <td>161.6</td>\n",
              "      <td>7.0</td>\n",
              "      <td>1.092564</td>\n",
              "      <td>35.033294</td>\n",
              "    </tr>\n",
              "    <tr>\n",
              "      <th>1458643</th>\n",
              "      <td>id1209952</td>\n",
              "      <td>1</td>\n",
              "      <td>2016-04-05 14:44:25</td>\n",
              "      <td>2016-04-05 14:47:43</td>\n",
              "      <td>1</td>\n",
              "      <td>-73.979538</td>\n",
              "      <td>40.781750</td>\n",
              "      <td>-73.972809</td>\n",
              "      <td>40.790585</td>\n",
              "      <td>N</td>\n",
              "      <td>198</td>\n",
              "      <td>2016-04-05</td>\n",
              "      <td>14</td>\n",
              "      <td>Tuesday</td>\n",
              "      <td>0</td>\n",
              "      <td>1134.2</td>\n",
              "      <td>90.7</td>\n",
              "      <td>2.0</td>\n",
              "      <td>1.134042</td>\n",
              "      <td>29.969486</td>\n",
              "    </tr>\n",
              "  </tbody>\n",
              "</table>\n",
              "<p>1458644 rows × 20 columns</p>\n",
              "</div>"
            ],
            "text/plain": [
              "                id  vendor_id     pickup_datetime     dropoff_datetime  \\\n",
              "0        id2875421          2 2016-03-14 17:24:55  2016-03-14 17:32:30   \n",
              "1        id2377394          1 2016-06-12 00:43:35  2016-06-12 00:54:38   \n",
              "2        id3858529          2 2016-01-19 11:35:24  2016-01-19 12:10:48   \n",
              "3        id3504673          2 2016-04-06 19:32:31  2016-04-06 19:39:40   \n",
              "4        id2181028          2 2016-03-26 13:30:55  2016-03-26 13:38:10   \n",
              "...            ...        ...                 ...                  ...   \n",
              "1458639  id2376096          2 2016-04-08 13:31:04  2016-04-08 13:44:02   \n",
              "1458640  id1049543          1 2016-01-10 07:35:15  2016-01-10 07:46:10   \n",
              "1458641  id2304944          2 2016-04-22 06:57:41  2016-04-22 07:10:25   \n",
              "1458642  id2714485          1 2016-01-05 15:56:26  2016-01-05 16:02:39   \n",
              "1458643  id1209952          1 2016-04-05 14:44:25  2016-04-05 14:47:43   \n",
              "\n",
              "         passenger_count  pickup_longitude  pickup_latitude  \\\n",
              "0                      1        -73.982155        40.767937   \n",
              "1                      1        -73.980415        40.738564   \n",
              "2                      1        -73.979027        40.763939   \n",
              "3                      1        -74.010040        40.719971   \n",
              "4                      1        -73.973053        40.793209   \n",
              "...                  ...               ...              ...   \n",
              "1458639                4        -73.982201        40.745522   \n",
              "1458640                1        -74.000946        40.747379   \n",
              "1458641                1        -73.959129        40.768799   \n",
              "1458642                1        -73.982079        40.749062   \n",
              "1458643                1        -73.979538        40.781750   \n",
              "\n",
              "         dropoff_longitude  dropoff_latitude store_and_fwd_flag  \\\n",
              "0               -73.964630         40.765602                  N   \n",
              "1               -73.999481         40.731152                  N   \n",
              "2               -74.005333         40.710087                  N   \n",
              "3               -74.012268         40.706718                  N   \n",
              "4               -73.972923         40.782520                  N   \n",
              "...                    ...               ...                ...   \n",
              "1458639         -73.994911         40.740170                  N   \n",
              "1458640         -73.970184         40.796547                  N   \n",
              "1458641         -74.004433         40.707371                  N   \n",
              "1458642         -73.974632         40.757107                  N   \n",
              "1458643         -73.972809         40.790585                  N   \n",
              "\n",
              "         trip_duration pickup_date  pickup_hour pickup_day_of_week  \\\n",
              "0                  455  2016-03-14           17             Monday   \n",
              "1                  663  2016-06-12            0             Sunday   \n",
              "2                 2124  2016-01-19           11            Tuesday   \n",
              "3                  429  2016-04-06           19          Wednesday   \n",
              "4                  435  2016-03-26           13           Saturday   \n",
              "...                ...         ...          ...                ...   \n",
              "1458639            778  2016-04-08           13             Friday   \n",
              "1458640            655  2016-01-10            7             Sunday   \n",
              "1458641            764  2016-04-22            6             Friday   \n",
              "1458642            373  2016-01-05           15            Tuesday   \n",
              "1458643            198  2016-04-05           14            Tuesday   \n",
              "\n",
              "         pickup_holiday  total_distance  total_travel_time  number_of_steps  \\\n",
              "0                     0          2009.1              164.9              5.0   \n",
              "1                     0          2513.2              332.0              6.0   \n",
              "2                     0         11060.8              767.6             16.0   \n",
              "3                     0          1779.4              235.8              4.0   \n",
              "4                     0          1614.9              140.1              5.0   \n",
              "...                 ...             ...                ...              ...   \n",
              "1458639               0          2234.6              311.7              8.0   \n",
              "1458640               0          7638.0              589.6             11.0   \n",
              "1458641               0          9871.5              642.9             10.0   \n",
              "1458642               0          1628.3              161.6              7.0   \n",
              "1458643               0          1134.2               90.7              2.0   \n",
              "\n",
              "         haversine_distance    directon  \n",
              "0                  1.498521   99.970196  \n",
              "1                  1.805507 -117.153768  \n",
              "2                  6.385098 -159.680165  \n",
              "3                  1.485498 -172.737700  \n",
              "4                  1.188588  179.473585  \n",
              "...                     ...         ...  \n",
              "1458639            1.225080 -119.059338  \n",
              "1458640            6.049836   25.342196  \n",
              "1458641            7.824606 -150.788492  \n",
              "1458642            1.092564   35.033294  \n",
              "1458643            1.134042   29.969486  \n",
              "\n",
              "[1458644 rows x 20 columns]"
            ]
          },
          "execution_count": 9,
          "metadata": {},
          "output_type": "execute_result"
        }
      ],
      "source": [
        "def add_geographical_features(df):\n",
        "    df['haversine_distance'] = df.apply(lambda x: get_haversine_distance(x.pickup_latitude\t, x.pickup_longitude, x.dropoff_latitude, x.dropoff_longitude), axis=1)\n",
        "    df['directon'] = df.apply(lambda x: get_angle_direction(x.pickup_latitude\t, x.pickup_longitude, x.dropoff_latitude, x.dropoff_longitude), axis=1)\n",
        "    return df\n",
        "\n",
        "add_geographical_features(taxi_data)"
      ]
    },
    {
      "cell_type": "code",
      "execution_count": 17,
      "metadata": {
        "id": "XI5GTkRpYaXb",
        "outputId": "d20b2c72-4855-4112-e1ad-fd3e1e277b19"
      },
      "outputs": [
        {
          "name": "stdout",
          "output_type": "stream",
          "text": [
            "Медианное расстояние Хаверсина = 2.09 км\n"
          ]
        }
      ],
      "source": [
        "print(f'Медианное расстояние Хаверсина = {round(taxi_data[\"haversine_distance\"].median(), 2)} км')"
      ]
    },
    {
      "cell_type": "markdown",
      "metadata": {
        "id": "EV4ZGTWSYaXb"
      },
      "source": [
        "Следующая методика манипуляций с географическими данными — это применение кластеризации по географическим координатам. Идея заключается в том, чтобы сгруппировать все поездки в зависимости от координат начала и конца поездки с помощью методов кластеризации, тем самым добавив информацию о районах, в которых находятся точки старта и конца поездки.\n",
        "\n",
        "→ Гипотеза состоит в том, что длительность поездки будет зависеть от того, к какому географическому кластеру будет принадлежать поездка.\n",
        "\n",
        "В качестве метода кластеризации воспользуемся алгоритмом K-Means. Возьмём десять кластеров и обучим его на данных, сформированных из широты и долготы всех точек начала и конца поездок."
      ]
    },
    {
      "cell_type": "markdown",
      "metadata": {
        "id": "_WWydgB2kBLm"
      },
      "source": [
        "### Задание 2.8.\n",
        "Реализуйте функцию add_cluster_features(), которая принимает на вход таблицу с данными о поездках и обученный алгоритм кластеризации. Функция должна возвращать обновленную таблицу с добавленными в нее столбцом geo_cluster - географический кластер, к которому относится поездка.\n",
        "\n",
        "Сколько поездок содержится в наименьшем по размеру географическом кластере?\n"
      ]
    },
    {
      "cell_type": "code",
      "execution_count": 10,
      "metadata": {
        "id": "YxpWNYfakBLn",
        "outputId": "233e4e9f-4fb4-4c55-ab51-dee754db30c5"
      },
      "outputs": [
        {
          "data": {
            "text/html": [
              "<div>\n",
              "<style scoped>\n",
              "    .dataframe tbody tr th:only-of-type {\n",
              "        vertical-align: middle;\n",
              "    }\n",
              "\n",
              "    .dataframe tbody tr th {\n",
              "        vertical-align: top;\n",
              "    }\n",
              "\n",
              "    .dataframe thead th {\n",
              "        text-align: right;\n",
              "    }\n",
              "</style>\n",
              "<table border=\"1\" class=\"dataframe\">\n",
              "  <thead>\n",
              "    <tr style=\"text-align: right;\">\n",
              "      <th></th>\n",
              "      <th>id</th>\n",
              "      <th>vendor_id</th>\n",
              "      <th>pickup_datetime</th>\n",
              "      <th>dropoff_datetime</th>\n",
              "      <th>passenger_count</th>\n",
              "      <th>pickup_longitude</th>\n",
              "      <th>pickup_latitude</th>\n",
              "      <th>dropoff_longitude</th>\n",
              "      <th>dropoff_latitude</th>\n",
              "      <th>store_and_fwd_flag</th>\n",
              "      <th>...</th>\n",
              "      <th>pickup_date</th>\n",
              "      <th>pickup_hour</th>\n",
              "      <th>pickup_day_of_week</th>\n",
              "      <th>pickup_holiday</th>\n",
              "      <th>total_distance</th>\n",
              "      <th>total_travel_time</th>\n",
              "      <th>number_of_steps</th>\n",
              "      <th>haversine_distance</th>\n",
              "      <th>directon</th>\n",
              "      <th>geo_cluster</th>\n",
              "    </tr>\n",
              "  </thead>\n",
              "  <tbody>\n",
              "    <tr>\n",
              "      <th>0</th>\n",
              "      <td>id2875421</td>\n",
              "      <td>2</td>\n",
              "      <td>2016-03-14 17:24:55</td>\n",
              "      <td>2016-03-14 17:32:30</td>\n",
              "      <td>1</td>\n",
              "      <td>-73.982155</td>\n",
              "      <td>40.767937</td>\n",
              "      <td>-73.964630</td>\n",
              "      <td>40.765602</td>\n",
              "      <td>N</td>\n",
              "      <td>...</td>\n",
              "      <td>2016-03-14</td>\n",
              "      <td>17</td>\n",
              "      <td>Monday</td>\n",
              "      <td>0</td>\n",
              "      <td>2009.1</td>\n",
              "      <td>164.9</td>\n",
              "      <td>5.0</td>\n",
              "      <td>1.498521</td>\n",
              "      <td>99.970196</td>\n",
              "      <td>9</td>\n",
              "    </tr>\n",
              "    <tr>\n",
              "      <th>1</th>\n",
              "      <td>id2377394</td>\n",
              "      <td>1</td>\n",
              "      <td>2016-06-12 00:43:35</td>\n",
              "      <td>2016-06-12 00:54:38</td>\n",
              "      <td>1</td>\n",
              "      <td>-73.980415</td>\n",
              "      <td>40.738564</td>\n",
              "      <td>-73.999481</td>\n",
              "      <td>40.731152</td>\n",
              "      <td>N</td>\n",
              "      <td>...</td>\n",
              "      <td>2016-06-12</td>\n",
              "      <td>0</td>\n",
              "      <td>Sunday</td>\n",
              "      <td>0</td>\n",
              "      <td>2513.2</td>\n",
              "      <td>332.0</td>\n",
              "      <td>6.0</td>\n",
              "      <td>1.805507</td>\n",
              "      <td>-117.153768</td>\n",
              "      <td>4</td>\n",
              "    </tr>\n",
              "    <tr>\n",
              "      <th>2</th>\n",
              "      <td>id3858529</td>\n",
              "      <td>2</td>\n",
              "      <td>2016-01-19 11:35:24</td>\n",
              "      <td>2016-01-19 12:10:48</td>\n",
              "      <td>1</td>\n",
              "      <td>-73.979027</td>\n",
              "      <td>40.763939</td>\n",
              "      <td>-74.005333</td>\n",
              "      <td>40.710087</td>\n",
              "      <td>N</td>\n",
              "      <td>...</td>\n",
              "      <td>2016-01-19</td>\n",
              "      <td>11</td>\n",
              "      <td>Tuesday</td>\n",
              "      <td>0</td>\n",
              "      <td>11060.8</td>\n",
              "      <td>767.6</td>\n",
              "      <td>16.0</td>\n",
              "      <td>6.385098</td>\n",
              "      <td>-159.680165</td>\n",
              "      <td>4</td>\n",
              "    </tr>\n",
              "    <tr>\n",
              "      <th>3</th>\n",
              "      <td>id3504673</td>\n",
              "      <td>2</td>\n",
              "      <td>2016-04-06 19:32:31</td>\n",
              "      <td>2016-04-06 19:39:40</td>\n",
              "      <td>1</td>\n",
              "      <td>-74.010040</td>\n",
              "      <td>40.719971</td>\n",
              "      <td>-74.012268</td>\n",
              "      <td>40.706718</td>\n",
              "      <td>N</td>\n",
              "      <td>...</td>\n",
              "      <td>2016-04-06</td>\n",
              "      <td>19</td>\n",
              "      <td>Wednesday</td>\n",
              "      <td>0</td>\n",
              "      <td>1779.4</td>\n",
              "      <td>235.8</td>\n",
              "      <td>4.0</td>\n",
              "      <td>1.485498</td>\n",
              "      <td>-172.737700</td>\n",
              "      <td>4</td>\n",
              "    </tr>\n",
              "    <tr>\n",
              "      <th>4</th>\n",
              "      <td>id2181028</td>\n",
              "      <td>2</td>\n",
              "      <td>2016-03-26 13:30:55</td>\n",
              "      <td>2016-03-26 13:38:10</td>\n",
              "      <td>1</td>\n",
              "      <td>-73.973053</td>\n",
              "      <td>40.793209</td>\n",
              "      <td>-73.972923</td>\n",
              "      <td>40.782520</td>\n",
              "      <td>N</td>\n",
              "      <td>...</td>\n",
              "      <td>2016-03-26</td>\n",
              "      <td>13</td>\n",
              "      <td>Saturday</td>\n",
              "      <td>0</td>\n",
              "      <td>1614.9</td>\n",
              "      <td>140.1</td>\n",
              "      <td>5.0</td>\n",
              "      <td>1.188588</td>\n",
              "      <td>179.473585</td>\n",
              "      <td>9</td>\n",
              "    </tr>\n",
              "    <tr>\n",
              "      <th>...</th>\n",
              "      <td>...</td>\n",
              "      <td>...</td>\n",
              "      <td>...</td>\n",
              "      <td>...</td>\n",
              "      <td>...</td>\n",
              "      <td>...</td>\n",
              "      <td>...</td>\n",
              "      <td>...</td>\n",
              "      <td>...</td>\n",
              "      <td>...</td>\n",
              "      <td>...</td>\n",
              "      <td>...</td>\n",
              "      <td>...</td>\n",
              "      <td>...</td>\n",
              "      <td>...</td>\n",
              "      <td>...</td>\n",
              "      <td>...</td>\n",
              "      <td>...</td>\n",
              "      <td>...</td>\n",
              "      <td>...</td>\n",
              "      <td>...</td>\n",
              "    </tr>\n",
              "    <tr>\n",
              "      <th>1458639</th>\n",
              "      <td>id2376096</td>\n",
              "      <td>2</td>\n",
              "      <td>2016-04-08 13:31:04</td>\n",
              "      <td>2016-04-08 13:44:02</td>\n",
              "      <td>4</td>\n",
              "      <td>-73.982201</td>\n",
              "      <td>40.745522</td>\n",
              "      <td>-73.994911</td>\n",
              "      <td>40.740170</td>\n",
              "      <td>N</td>\n",
              "      <td>...</td>\n",
              "      <td>2016-04-08</td>\n",
              "      <td>13</td>\n",
              "      <td>Friday</td>\n",
              "      <td>0</td>\n",
              "      <td>2234.6</td>\n",
              "      <td>311.7</td>\n",
              "      <td>8.0</td>\n",
              "      <td>1.225080</td>\n",
              "      <td>-119.059338</td>\n",
              "      <td>0</td>\n",
              "    </tr>\n",
              "    <tr>\n",
              "      <th>1458640</th>\n",
              "      <td>id1049543</td>\n",
              "      <td>1</td>\n",
              "      <td>2016-01-10 07:35:15</td>\n",
              "      <td>2016-01-10 07:46:10</td>\n",
              "      <td>1</td>\n",
              "      <td>-74.000946</td>\n",
              "      <td>40.747379</td>\n",
              "      <td>-73.970184</td>\n",
              "      <td>40.796547</td>\n",
              "      <td>N</td>\n",
              "      <td>...</td>\n",
              "      <td>2016-01-10</td>\n",
              "      <td>7</td>\n",
              "      <td>Sunday</td>\n",
              "      <td>0</td>\n",
              "      <td>7638.0</td>\n",
              "      <td>589.6</td>\n",
              "      <td>11.0</td>\n",
              "      <td>6.049836</td>\n",
              "      <td>25.342196</td>\n",
              "      <td>9</td>\n",
              "    </tr>\n",
              "    <tr>\n",
              "      <th>1458641</th>\n",
              "      <td>id2304944</td>\n",
              "      <td>2</td>\n",
              "      <td>2016-04-22 06:57:41</td>\n",
              "      <td>2016-04-22 07:10:25</td>\n",
              "      <td>1</td>\n",
              "      <td>-73.959129</td>\n",
              "      <td>40.768799</td>\n",
              "      <td>-74.004433</td>\n",
              "      <td>40.707371</td>\n",
              "      <td>N</td>\n",
              "      <td>...</td>\n",
              "      <td>2016-04-22</td>\n",
              "      <td>6</td>\n",
              "      <td>Friday</td>\n",
              "      <td>0</td>\n",
              "      <td>9871.5</td>\n",
              "      <td>642.9</td>\n",
              "      <td>10.0</td>\n",
              "      <td>7.824606</td>\n",
              "      <td>-150.788492</td>\n",
              "      <td>4</td>\n",
              "    </tr>\n",
              "    <tr>\n",
              "      <th>1458642</th>\n",
              "      <td>id2714485</td>\n",
              "      <td>1</td>\n",
              "      <td>2016-01-05 15:56:26</td>\n",
              "      <td>2016-01-05 16:02:39</td>\n",
              "      <td>1</td>\n",
              "      <td>-73.982079</td>\n",
              "      <td>40.749062</td>\n",
              "      <td>-73.974632</td>\n",
              "      <td>40.757107</td>\n",
              "      <td>N</td>\n",
              "      <td>...</td>\n",
              "      <td>2016-01-05</td>\n",
              "      <td>15</td>\n",
              "      <td>Tuesday</td>\n",
              "      <td>0</td>\n",
              "      <td>1628.3</td>\n",
              "      <td>161.6</td>\n",
              "      <td>7.0</td>\n",
              "      <td>1.092564</td>\n",
              "      <td>35.033294</td>\n",
              "      <td>0</td>\n",
              "    </tr>\n",
              "    <tr>\n",
              "      <th>1458643</th>\n",
              "      <td>id1209952</td>\n",
              "      <td>1</td>\n",
              "      <td>2016-04-05 14:44:25</td>\n",
              "      <td>2016-04-05 14:47:43</td>\n",
              "      <td>1</td>\n",
              "      <td>-73.979538</td>\n",
              "      <td>40.781750</td>\n",
              "      <td>-73.972809</td>\n",
              "      <td>40.790585</td>\n",
              "      <td>N</td>\n",
              "      <td>...</td>\n",
              "      <td>2016-04-05</td>\n",
              "      <td>14</td>\n",
              "      <td>Tuesday</td>\n",
              "      <td>0</td>\n",
              "      <td>1134.2</td>\n",
              "      <td>90.7</td>\n",
              "      <td>2.0</td>\n",
              "      <td>1.134042</td>\n",
              "      <td>29.969486</td>\n",
              "      <td>9</td>\n",
              "    </tr>\n",
              "  </tbody>\n",
              "</table>\n",
              "<p>1458644 rows × 21 columns</p>\n",
              "</div>"
            ],
            "text/plain": [
              "                id  vendor_id     pickup_datetime     dropoff_datetime  \\\n",
              "0        id2875421          2 2016-03-14 17:24:55  2016-03-14 17:32:30   \n",
              "1        id2377394          1 2016-06-12 00:43:35  2016-06-12 00:54:38   \n",
              "2        id3858529          2 2016-01-19 11:35:24  2016-01-19 12:10:48   \n",
              "3        id3504673          2 2016-04-06 19:32:31  2016-04-06 19:39:40   \n",
              "4        id2181028          2 2016-03-26 13:30:55  2016-03-26 13:38:10   \n",
              "...            ...        ...                 ...                  ...   \n",
              "1458639  id2376096          2 2016-04-08 13:31:04  2016-04-08 13:44:02   \n",
              "1458640  id1049543          1 2016-01-10 07:35:15  2016-01-10 07:46:10   \n",
              "1458641  id2304944          2 2016-04-22 06:57:41  2016-04-22 07:10:25   \n",
              "1458642  id2714485          1 2016-01-05 15:56:26  2016-01-05 16:02:39   \n",
              "1458643  id1209952          1 2016-04-05 14:44:25  2016-04-05 14:47:43   \n",
              "\n",
              "         passenger_count  pickup_longitude  pickup_latitude  \\\n",
              "0                      1        -73.982155        40.767937   \n",
              "1                      1        -73.980415        40.738564   \n",
              "2                      1        -73.979027        40.763939   \n",
              "3                      1        -74.010040        40.719971   \n",
              "4                      1        -73.973053        40.793209   \n",
              "...                  ...               ...              ...   \n",
              "1458639                4        -73.982201        40.745522   \n",
              "1458640                1        -74.000946        40.747379   \n",
              "1458641                1        -73.959129        40.768799   \n",
              "1458642                1        -73.982079        40.749062   \n",
              "1458643                1        -73.979538        40.781750   \n",
              "\n",
              "         dropoff_longitude  dropoff_latitude store_and_fwd_flag  ...  \\\n",
              "0               -73.964630         40.765602                  N  ...   \n",
              "1               -73.999481         40.731152                  N  ...   \n",
              "2               -74.005333         40.710087                  N  ...   \n",
              "3               -74.012268         40.706718                  N  ...   \n",
              "4               -73.972923         40.782520                  N  ...   \n",
              "...                    ...               ...                ...  ...   \n",
              "1458639         -73.994911         40.740170                  N  ...   \n",
              "1458640         -73.970184         40.796547                  N  ...   \n",
              "1458641         -74.004433         40.707371                  N  ...   \n",
              "1458642         -73.974632         40.757107                  N  ...   \n",
              "1458643         -73.972809         40.790585                  N  ...   \n",
              "\n",
              "         pickup_date pickup_hour  pickup_day_of_week pickup_holiday  \\\n",
              "0         2016-03-14          17              Monday              0   \n",
              "1         2016-06-12           0              Sunday              0   \n",
              "2         2016-01-19          11             Tuesday              0   \n",
              "3         2016-04-06          19           Wednesday              0   \n",
              "4         2016-03-26          13            Saturday              0   \n",
              "...              ...         ...                 ...            ...   \n",
              "1458639   2016-04-08          13              Friday              0   \n",
              "1458640   2016-01-10           7              Sunday              0   \n",
              "1458641   2016-04-22           6              Friday              0   \n",
              "1458642   2016-01-05          15             Tuesday              0   \n",
              "1458643   2016-04-05          14             Tuesday              0   \n",
              "\n",
              "         total_distance  total_travel_time  number_of_steps  \\\n",
              "0                2009.1              164.9              5.0   \n",
              "1                2513.2              332.0              6.0   \n",
              "2               11060.8              767.6             16.0   \n",
              "3                1779.4              235.8              4.0   \n",
              "4                1614.9              140.1              5.0   \n",
              "...                 ...                ...              ...   \n",
              "1458639          2234.6              311.7              8.0   \n",
              "1458640          7638.0              589.6             11.0   \n",
              "1458641          9871.5              642.9             10.0   \n",
              "1458642          1628.3              161.6              7.0   \n",
              "1458643          1134.2               90.7              2.0   \n",
              "\n",
              "         haversine_distance    directon  geo_cluster  \n",
              "0                  1.498521   99.970196            9  \n",
              "1                  1.805507 -117.153768            4  \n",
              "2                  6.385098 -159.680165            4  \n",
              "3                  1.485498 -172.737700            4  \n",
              "4                  1.188588  179.473585            9  \n",
              "...                     ...         ...          ...  \n",
              "1458639            1.225080 -119.059338            0  \n",
              "1458640            6.049836   25.342196            9  \n",
              "1458641            7.824606 -150.788492            4  \n",
              "1458642            1.092564   35.033294            0  \n",
              "1458643            1.134042   29.969486            9  \n",
              "\n",
              "[1458644 rows x 21 columns]"
            ]
          },
          "execution_count": 10,
          "metadata": {},
          "output_type": "execute_result"
        }
      ],
      "source": [
        "# создаем обучающую выборку из географических координат всех точек\n",
        "coords = np.hstack((taxi_data[['pickup_latitude', 'pickup_longitude']],\n",
        "                    taxi_data[['dropoff_latitude', 'dropoff_longitude']]))\n",
        "# обучаем алгоритм кластеризации\n",
        "kmeans = cluster.KMeans(n_clusters=10, random_state=42)\n",
        "kmeans.fit(coords)\n",
        "\n",
        "def add_cluster_features(df, kmeans):\n",
        "    df['geo_cluster'] = kmeans.labels_\n",
        "    return df\n",
        "\n",
        "add_cluster_features(taxi_data, kmeans)"
      ]
    },
    {
      "cell_type": "code",
      "execution_count": 15,
      "metadata": {
        "id": "aZBYWgmpYaXc",
        "outputId": "2ee6af15-87c4-4aa1-a4ae-1731599030d1"
      },
      "outputs": [
        {
          "data": {
            "text/plain": [
              "0    596467\n",
              "9    383874\n",
              "4    359233\n",
              "5     43619\n",
              "7     41171\n",
              "3     27022\n",
              "1      7233\n",
              "6        18\n",
              "8         5\n",
              "2         2\n",
              "Name: geo_cluster, dtype: int64"
            ]
          },
          "execution_count": 15,
          "metadata": {},
          "output_type": "execute_result"
        }
      ],
      "source": [
        "taxi_data['geo_cluster'].value_counts()"
      ]
    },
    {
      "cell_type": "markdown",
      "metadata": {
        "id": "5HUISOXAYaXc"
      },
      "source": [
        "Другим важным фактором, потенциально влияющим на дорожное движение, является погода. Так, например, логично предположить, что снег и дождь могут затруднять движение и увеличивать время поездки.\n",
        "\n",
        "[Здесь](https://lms.skillfactory.ru/assets/courseware/v1/0f6abf84673975634c33b0689851e8cc/asset-v1:SkillFactory+DSPR-2.0+14JULY2021+type@asset+block/weather_data.zip) вы можете найти набор данных, содержащий информацию о погодных условиях в Нью-Йорке в 2016 году. Датасет представлен в табличном формате CSV. Нас будут интересовать только следующие столбцы:\n",
        "\n",
        "- time — дата измерения (с интервалом в час);\n",
        "- temperature — температура;\n",
        "- visibility — видимость;\n",
        "- wind speed — средняя скорость ветра;\n",
        "- precip — количество осадков;\n",
        "- events — погодные явления: Rain — дождь, Snow — снег, Fog — туман, None — отсутствие погодных явлений."
      ]
    },
    {
      "cell_type": "code",
      "execution_count": 11,
      "metadata": {
        "id": "iaJ7X_ViYaXc",
        "outputId": "dd1741bd-95ef-4fff-c44a-b712dbd33e42"
      },
      "outputs": [
        {
          "data": {
            "text/html": [
              "<div>\n",
              "<style scoped>\n",
              "    .dataframe tbody tr th:only-of-type {\n",
              "        vertical-align: middle;\n",
              "    }\n",
              "\n",
              "    .dataframe tbody tr th {\n",
              "        vertical-align: top;\n",
              "    }\n",
              "\n",
              "    .dataframe thead th {\n",
              "        text-align: right;\n",
              "    }\n",
              "</style>\n",
              "<table border=\"1\" class=\"dataframe\">\n",
              "  <thead>\n",
              "    <tr style=\"text-align: right;\">\n",
              "      <th></th>\n",
              "      <th>time</th>\n",
              "      <th>temperature</th>\n",
              "      <th>windchill</th>\n",
              "      <th>heat index</th>\n",
              "      <th>humidity</th>\n",
              "      <th>pressure</th>\n",
              "      <th>dew Point</th>\n",
              "      <th>visibility</th>\n",
              "      <th>wind dir</th>\n",
              "      <th>wind speed</th>\n",
              "      <th>gust speed</th>\n",
              "      <th>precip</th>\n",
              "      <th>events</th>\n",
              "      <th>conditions</th>\n",
              "      <th>date</th>\n",
              "      <th>hour</th>\n",
              "    </tr>\n",
              "  </thead>\n",
              "  <tbody>\n",
              "    <tr>\n",
              "      <th>0</th>\n",
              "      <td>2015-12-31 02:00:00</td>\n",
              "      <td>7.8</td>\n",
              "      <td>7.1</td>\n",
              "      <td>NaN</td>\n",
              "      <td>0.89</td>\n",
              "      <td>1017.0</td>\n",
              "      <td>6.1</td>\n",
              "      <td>8.0</td>\n",
              "      <td>NNE</td>\n",
              "      <td>5.6</td>\n",
              "      <td>0.0</td>\n",
              "      <td>0.8</td>\n",
              "      <td>None</td>\n",
              "      <td>Overcast</td>\n",
              "      <td>2015-12-31</td>\n",
              "      <td>2</td>\n",
              "    </tr>\n",
              "    <tr>\n",
              "      <th>1</th>\n",
              "      <td>2015-12-31 03:00:00</td>\n",
              "      <td>7.2</td>\n",
              "      <td>5.9</td>\n",
              "      <td>NaN</td>\n",
              "      <td>0.90</td>\n",
              "      <td>1016.5</td>\n",
              "      <td>5.6</td>\n",
              "      <td>12.9</td>\n",
              "      <td>Variable</td>\n",
              "      <td>7.4</td>\n",
              "      <td>0.0</td>\n",
              "      <td>0.3</td>\n",
              "      <td>None</td>\n",
              "      <td>Overcast</td>\n",
              "      <td>2015-12-31</td>\n",
              "      <td>3</td>\n",
              "    </tr>\n",
              "    <tr>\n",
              "      <th>2</th>\n",
              "      <td>2015-12-31 04:00:00</td>\n",
              "      <td>7.2</td>\n",
              "      <td>NaN</td>\n",
              "      <td>NaN</td>\n",
              "      <td>0.90</td>\n",
              "      <td>1016.7</td>\n",
              "      <td>5.6</td>\n",
              "      <td>12.9</td>\n",
              "      <td>Calm</td>\n",
              "      <td>0.0</td>\n",
              "      <td>0.0</td>\n",
              "      <td>0.0</td>\n",
              "      <td>None</td>\n",
              "      <td>Overcast</td>\n",
              "      <td>2015-12-31</td>\n",
              "      <td>4</td>\n",
              "    </tr>\n",
              "    <tr>\n",
              "      <th>3</th>\n",
              "      <td>2015-12-31 05:00:00</td>\n",
              "      <td>7.2</td>\n",
              "      <td>5.9</td>\n",
              "      <td>NaN</td>\n",
              "      <td>0.86</td>\n",
              "      <td>1015.9</td>\n",
              "      <td>5.0</td>\n",
              "      <td>14.5</td>\n",
              "      <td>NW</td>\n",
              "      <td>7.4</td>\n",
              "      <td>0.0</td>\n",
              "      <td>0.0</td>\n",
              "      <td>None</td>\n",
              "      <td>Overcast</td>\n",
              "      <td>2015-12-31</td>\n",
              "      <td>5</td>\n",
              "    </tr>\n",
              "    <tr>\n",
              "      <th>4</th>\n",
              "      <td>2015-12-31 06:00:00</td>\n",
              "      <td>7.2</td>\n",
              "      <td>6.4</td>\n",
              "      <td>NaN</td>\n",
              "      <td>0.90</td>\n",
              "      <td>1016.2</td>\n",
              "      <td>5.6</td>\n",
              "      <td>11.3</td>\n",
              "      <td>West</td>\n",
              "      <td>5.6</td>\n",
              "      <td>0.0</td>\n",
              "      <td>0.0</td>\n",
              "      <td>None</td>\n",
              "      <td>Overcast</td>\n",
              "      <td>2015-12-31</td>\n",
              "      <td>6</td>\n",
              "    </tr>\n",
              "  </tbody>\n",
              "</table>\n",
              "</div>"
            ],
            "text/plain": [
              "                  time  temperature  windchill  heat index  humidity  \\\n",
              "0  2015-12-31 02:00:00          7.8        7.1         NaN      0.89   \n",
              "1  2015-12-31 03:00:00          7.2        5.9         NaN      0.90   \n",
              "2  2015-12-31 04:00:00          7.2        NaN         NaN      0.90   \n",
              "3  2015-12-31 05:00:00          7.2        5.9         NaN      0.86   \n",
              "4  2015-12-31 06:00:00          7.2        6.4         NaN      0.90   \n",
              "\n",
              "   pressure  dew Point  visibility  wind dir  wind speed  gust speed  precip  \\\n",
              "0    1017.0        6.1         8.0       NNE         5.6         0.0     0.8   \n",
              "1    1016.5        5.6        12.9  Variable         7.4         0.0     0.3   \n",
              "2    1016.7        5.6        12.9      Calm         0.0         0.0     0.0   \n",
              "3    1015.9        5.0        14.5        NW         7.4         0.0     0.0   \n",
              "4    1016.2        5.6        11.3      West         5.6         0.0     0.0   \n",
              "\n",
              "  events conditions        date  hour  \n",
              "0   None   Overcast  2015-12-31     2  \n",
              "1   None   Overcast  2015-12-31     3  \n",
              "2   None   Overcast  2015-12-31     4  \n",
              "3   None   Overcast  2015-12-31     5  \n",
              "4   None   Overcast  2015-12-31     6  "
            ]
          },
          "execution_count": 11,
          "metadata": {},
          "output_type": "execute_result"
        }
      ],
      "source": [
        "weather_data = pd.read_csv('weather_data.zip')\n",
        "weather_data.head()"
      ]
    },
    {
      "cell_type": "markdown",
      "metadata": {
        "id": "4FRtxWNDkBLn"
      },
      "source": [
        "### Задание 2.9.\n",
        "Реализуйте функцию add_weather_features(), которая принимает на вход две таблицы:\n",
        "* таблицу с данными о поездках;\n",
        "* таблицу с данными о погодных условиях на каждый час;\n",
        "\n",
        "и возвращает обновленную таблицу с данными о поездках с добавленными в нее 5 столбцами:\n",
        "* temperature - температура;\n",
        "* visibility - видимость;\n",
        "* wind speed - средняя скорость ветра;\n",
        "* precip - количество осадков;\n",
        "* events - погодные явления.\n",
        "\n",
        "а) Сколько поездок было совершено в снежную погоду?\n",
        "\n",
        "В результате объединения у вас должны получиться записи, для которых в столбцах temperature, visibility, wind speed, precip, и events будут пропуски. Это связано с тем, что в таблице с данными о погодных условиях отсутствуют измерения для некоторых моментов времени, в которых включался счетчик поездки. \n",
        "\n",
        "б) Сколько процентов от общего количества наблюдений в таблице с данными о поездках занимают пропуски в столбцах с погодными условиями? Ответ приведите с точностью до сотых процента.\n"
      ]
    },
    {
      "cell_type": "code",
      "execution_count": 12,
      "metadata": {
        "id": "PdgHJwQgkBLn"
      },
      "outputs": [],
      "source": [
        "def add_weather_features(df, weather):\n",
        "    weather['time'] = pd.to_datetime(weather['time'])\n",
        "    weather['date'] = weather['time'].dt.date\n",
        "    weather['hour'] = weather['time'].dt.hour\n",
        "    weather = weather[['date', 'hour', 'temperature', 'visibility', 'wind speed', 'precip', 'events']]\n",
        "    df = df.merge(\n",
        "        weather,\n",
        "        how='left',\n",
        "        left_on=['pickup_date', 'pickup_hour'],\n",
        "        right_on=['date', 'hour']\n",
        "    )\n",
        "    return df\n",
        "    \n",
        "taxi_data = add_weather_features(taxi_data, weather_data)   \n",
        "taxi_data = taxi_data.drop(['date', 'hour'], axis=1)"
      ]
    },
    {
      "cell_type": "code",
      "execution_count": 22,
      "metadata": {
        "id": "fWOF-oUMYaXc",
        "outputId": "4fb535d5-3566-47a8-dbf6-c800abd16f0e"
      },
      "outputs": [
        {
          "name": "stdout",
          "output_type": "stream",
          "text": [
            "В снежную погоду было совершено 13126 поездок.\n",
            "Доля пропусков в столбцах с погодными условиями - 0.82%\n"
          ]
        }
      ],
      "source": [
        "print(f'В снежную погоду было совершено {taxi_data[taxi_data[\"events\"]==\"Snow\"].count()[\"id\"]} поездок.')\n",
        "print(f'Доля пропусков в столбцах с погодными условиями - {round(taxi_data.isnull().sum()[\"events\"] / taxi_data.shape[0] * 100, 2)}%')"
      ]
    },
    {
      "cell_type": "markdown",
      "metadata": {
        "id": "dtfy1lU4YaXd"
      },
      "source": [
        "Теперь, когда мы расширили датасет новыми признаками, нам необходимо немного его подчистить:\n",
        "\n",
        "- В результате добавления новой информации у нас появились пропущенные значения в данных.\n",
        "- Благодаря новым добавленным признакам мы сможем более детально изучить поездки с аномальной длительностью."
      ]
    },
    {
      "cell_type": "markdown",
      "metadata": {
        "id": "hwsluTQHkBLn"
      },
      "source": [
        "### Задание 2.10.\n",
        "Реализуйте функцию fill_null_weather_data(), которая принимает на вход которая принимает на вход таблицу с данными о поездках. Функция должна заполнять пропущенные значения в столбцах.\n",
        "\n",
        "Пропуски в столбцах с погодными условиями -  temperature, visibility, wind speed, precip заполните медианным значением температуры, влажности, скорости ветра и видимости в зависимости от даты начала поездки. Для этого сгруппируйте данные по столбцу pickup_date и рассчитайте медиану в каждой группе, после чего с помощью комбинации методов transform() и fillna() заполните пропуски. \n",
        "Пропуски в столбце events заполните строкой 'None' - символом отсутствия погодных явлений (снега/дождя/тумана). \n",
        "\n",
        "Пропуски в столбцах с информацией из OSRM API - total_distance, total_travel_time и number_of_steps заполните медианным значением по столбцам. \n",
        "\n",
        "Чему равна медиана в столбце temperature после заполнения пропусков? Ответ округлите до десятых.\n"
      ]
    },
    {
      "cell_type": "code",
      "execution_count": 13,
      "metadata": {
        "id": "oHIYqxjKkBLn",
        "outputId": "f0c89f9c-ba8f-41a7-91a7-7a33360e3a0f"
      },
      "outputs": [
        {
          "data": {
            "text/html": [
              "<div>\n",
              "<style scoped>\n",
              "    .dataframe tbody tr th:only-of-type {\n",
              "        vertical-align: middle;\n",
              "    }\n",
              "\n",
              "    .dataframe tbody tr th {\n",
              "        vertical-align: top;\n",
              "    }\n",
              "\n",
              "    .dataframe thead th {\n",
              "        text-align: right;\n",
              "    }\n",
              "</style>\n",
              "<table border=\"1\" class=\"dataframe\">\n",
              "  <thead>\n",
              "    <tr style=\"text-align: right;\">\n",
              "      <th></th>\n",
              "      <th>id</th>\n",
              "      <th>vendor_id</th>\n",
              "      <th>pickup_datetime</th>\n",
              "      <th>dropoff_datetime</th>\n",
              "      <th>passenger_count</th>\n",
              "      <th>pickup_longitude</th>\n",
              "      <th>pickup_latitude</th>\n",
              "      <th>dropoff_longitude</th>\n",
              "      <th>dropoff_latitude</th>\n",
              "      <th>store_and_fwd_flag</th>\n",
              "      <th>...</th>\n",
              "      <th>total_travel_time</th>\n",
              "      <th>number_of_steps</th>\n",
              "      <th>haversine_distance</th>\n",
              "      <th>directon</th>\n",
              "      <th>geo_cluster</th>\n",
              "      <th>temperature</th>\n",
              "      <th>visibility</th>\n",
              "      <th>wind speed</th>\n",
              "      <th>precip</th>\n",
              "      <th>events</th>\n",
              "    </tr>\n",
              "  </thead>\n",
              "  <tbody>\n",
              "    <tr>\n",
              "      <th>0</th>\n",
              "      <td>id2875421</td>\n",
              "      <td>2</td>\n",
              "      <td>2016-03-14 17:24:55</td>\n",
              "      <td>2016-03-14 17:32:30</td>\n",
              "      <td>1</td>\n",
              "      <td>-73.982155</td>\n",
              "      <td>40.767937</td>\n",
              "      <td>-73.964630</td>\n",
              "      <td>40.765602</td>\n",
              "      <td>N</td>\n",
              "      <td>...</td>\n",
              "      <td>164.9</td>\n",
              "      <td>5.0</td>\n",
              "      <td>1.498521</td>\n",
              "      <td>99.970196</td>\n",
              "      <td>9</td>\n",
              "      <td>4.4</td>\n",
              "      <td>8.0</td>\n",
              "      <td>27.8</td>\n",
              "      <td>0.3</td>\n",
              "      <td>None</td>\n",
              "    </tr>\n",
              "    <tr>\n",
              "      <th>1</th>\n",
              "      <td>id2377394</td>\n",
              "      <td>1</td>\n",
              "      <td>2016-06-12 00:43:35</td>\n",
              "      <td>2016-06-12 00:54:38</td>\n",
              "      <td>1</td>\n",
              "      <td>-73.980415</td>\n",
              "      <td>40.738564</td>\n",
              "      <td>-73.999481</td>\n",
              "      <td>40.731152</td>\n",
              "      <td>N</td>\n",
              "      <td>...</td>\n",
              "      <td>332.0</td>\n",
              "      <td>6.0</td>\n",
              "      <td>1.805507</td>\n",
              "      <td>-117.153768</td>\n",
              "      <td>4</td>\n",
              "      <td>28.9</td>\n",
              "      <td>16.1</td>\n",
              "      <td>7.4</td>\n",
              "      <td>0.0</td>\n",
              "      <td>None</td>\n",
              "    </tr>\n",
              "    <tr>\n",
              "      <th>2</th>\n",
              "      <td>id3858529</td>\n",
              "      <td>2</td>\n",
              "      <td>2016-01-19 11:35:24</td>\n",
              "      <td>2016-01-19 12:10:48</td>\n",
              "      <td>1</td>\n",
              "      <td>-73.979027</td>\n",
              "      <td>40.763939</td>\n",
              "      <td>-74.005333</td>\n",
              "      <td>40.710087</td>\n",
              "      <td>N</td>\n",
              "      <td>...</td>\n",
              "      <td>767.6</td>\n",
              "      <td>16.0</td>\n",
              "      <td>6.385098</td>\n",
              "      <td>-159.680165</td>\n",
              "      <td>4</td>\n",
              "      <td>-6.7</td>\n",
              "      <td>16.1</td>\n",
              "      <td>24.1</td>\n",
              "      <td>0.0</td>\n",
              "      <td>None</td>\n",
              "    </tr>\n",
              "    <tr>\n",
              "      <th>3</th>\n",
              "      <td>id3504673</td>\n",
              "      <td>2</td>\n",
              "      <td>2016-04-06 19:32:31</td>\n",
              "      <td>2016-04-06 19:39:40</td>\n",
              "      <td>1</td>\n",
              "      <td>-74.010040</td>\n",
              "      <td>40.719971</td>\n",
              "      <td>-74.012268</td>\n",
              "      <td>40.706718</td>\n",
              "      <td>N</td>\n",
              "      <td>...</td>\n",
              "      <td>235.8</td>\n",
              "      <td>4.0</td>\n",
              "      <td>1.485498</td>\n",
              "      <td>-172.737700</td>\n",
              "      <td>4</td>\n",
              "      <td>7.2</td>\n",
              "      <td>16.1</td>\n",
              "      <td>25.9</td>\n",
              "      <td>0.0</td>\n",
              "      <td>None</td>\n",
              "    </tr>\n",
              "    <tr>\n",
              "      <th>4</th>\n",
              "      <td>id2181028</td>\n",
              "      <td>2</td>\n",
              "      <td>2016-03-26 13:30:55</td>\n",
              "      <td>2016-03-26 13:38:10</td>\n",
              "      <td>1</td>\n",
              "      <td>-73.973053</td>\n",
              "      <td>40.793209</td>\n",
              "      <td>-73.972923</td>\n",
              "      <td>40.782520</td>\n",
              "      <td>N</td>\n",
              "      <td>...</td>\n",
              "      <td>140.1</td>\n",
              "      <td>5.0</td>\n",
              "      <td>1.188588</td>\n",
              "      <td>179.473585</td>\n",
              "      <td>9</td>\n",
              "      <td>9.4</td>\n",
              "      <td>16.1</td>\n",
              "      <td>9.3</td>\n",
              "      <td>0.0</td>\n",
              "      <td>None</td>\n",
              "    </tr>\n",
              "    <tr>\n",
              "      <th>...</th>\n",
              "      <td>...</td>\n",
              "      <td>...</td>\n",
              "      <td>...</td>\n",
              "      <td>...</td>\n",
              "      <td>...</td>\n",
              "      <td>...</td>\n",
              "      <td>...</td>\n",
              "      <td>...</td>\n",
              "      <td>...</td>\n",
              "      <td>...</td>\n",
              "      <td>...</td>\n",
              "      <td>...</td>\n",
              "      <td>...</td>\n",
              "      <td>...</td>\n",
              "      <td>...</td>\n",
              "      <td>...</td>\n",
              "      <td>...</td>\n",
              "      <td>...</td>\n",
              "      <td>...</td>\n",
              "      <td>...</td>\n",
              "      <td>...</td>\n",
              "    </tr>\n",
              "    <tr>\n",
              "      <th>1458639</th>\n",
              "      <td>id2376096</td>\n",
              "      <td>2</td>\n",
              "      <td>2016-04-08 13:31:04</td>\n",
              "      <td>2016-04-08 13:44:02</td>\n",
              "      <td>4</td>\n",
              "      <td>-73.982201</td>\n",
              "      <td>40.745522</td>\n",
              "      <td>-73.994911</td>\n",
              "      <td>40.740170</td>\n",
              "      <td>N</td>\n",
              "      <td>...</td>\n",
              "      <td>311.7</td>\n",
              "      <td>8.0</td>\n",
              "      <td>1.225080</td>\n",
              "      <td>-119.059338</td>\n",
              "      <td>0</td>\n",
              "      <td>7.8</td>\n",
              "      <td>16.1</td>\n",
              "      <td>11.1</td>\n",
              "      <td>0.0</td>\n",
              "      <td>None</td>\n",
              "    </tr>\n",
              "    <tr>\n",
              "      <th>1458640</th>\n",
              "      <td>id1049543</td>\n",
              "      <td>1</td>\n",
              "      <td>2016-01-10 07:35:15</td>\n",
              "      <td>2016-01-10 07:46:10</td>\n",
              "      <td>1</td>\n",
              "      <td>-74.000946</td>\n",
              "      <td>40.747379</td>\n",
              "      <td>-73.970184</td>\n",
              "      <td>40.796547</td>\n",
              "      <td>N</td>\n",
              "      <td>...</td>\n",
              "      <td>589.6</td>\n",
              "      <td>11.0</td>\n",
              "      <td>6.049836</td>\n",
              "      <td>25.342196</td>\n",
              "      <td>9</td>\n",
              "      <td>7.2</td>\n",
              "      <td>2.8</td>\n",
              "      <td>18.5</td>\n",
              "      <td>8.1</td>\n",
              "      <td>Rain</td>\n",
              "    </tr>\n",
              "    <tr>\n",
              "      <th>1458641</th>\n",
              "      <td>id2304944</td>\n",
              "      <td>2</td>\n",
              "      <td>2016-04-22 06:57:41</td>\n",
              "      <td>2016-04-22 07:10:25</td>\n",
              "      <td>1</td>\n",
              "      <td>-73.959129</td>\n",
              "      <td>40.768799</td>\n",
              "      <td>-74.004433</td>\n",
              "      <td>40.707371</td>\n",
              "      <td>N</td>\n",
              "      <td>...</td>\n",
              "      <td>642.9</td>\n",
              "      <td>10.0</td>\n",
              "      <td>7.824606</td>\n",
              "      <td>-150.788492</td>\n",
              "      <td>4</td>\n",
              "      <td>18.3</td>\n",
              "      <td>16.1</td>\n",
              "      <td>0.0</td>\n",
              "      <td>0.0</td>\n",
              "      <td>None</td>\n",
              "    </tr>\n",
              "    <tr>\n",
              "      <th>1458642</th>\n",
              "      <td>id2714485</td>\n",
              "      <td>1</td>\n",
              "      <td>2016-01-05 15:56:26</td>\n",
              "      <td>2016-01-05 16:02:39</td>\n",
              "      <td>1</td>\n",
              "      <td>-73.982079</td>\n",
              "      <td>40.749062</td>\n",
              "      <td>-73.974632</td>\n",
              "      <td>40.757107</td>\n",
              "      <td>N</td>\n",
              "      <td>...</td>\n",
              "      <td>161.6</td>\n",
              "      <td>7.0</td>\n",
              "      <td>1.092564</td>\n",
              "      <td>35.033294</td>\n",
              "      <td>0</td>\n",
              "      <td>-2.8</td>\n",
              "      <td>16.1</td>\n",
              "      <td>9.3</td>\n",
              "      <td>0.0</td>\n",
              "      <td>None</td>\n",
              "    </tr>\n",
              "    <tr>\n",
              "      <th>1458643</th>\n",
              "      <td>id1209952</td>\n",
              "      <td>1</td>\n",
              "      <td>2016-04-05 14:44:25</td>\n",
              "      <td>2016-04-05 14:47:43</td>\n",
              "      <td>1</td>\n",
              "      <td>-73.979538</td>\n",
              "      <td>40.781750</td>\n",
              "      <td>-73.972809</td>\n",
              "      <td>40.790585</td>\n",
              "      <td>N</td>\n",
              "      <td>...</td>\n",
              "      <td>90.7</td>\n",
              "      <td>2.0</td>\n",
              "      <td>1.134042</td>\n",
              "      <td>29.969486</td>\n",
              "      <td>9</td>\n",
              "      <td>2.2</td>\n",
              "      <td>16.1</td>\n",
              "      <td>16.7</td>\n",
              "      <td>0.0</td>\n",
              "      <td>None</td>\n",
              "    </tr>\n",
              "  </tbody>\n",
              "</table>\n",
              "<p>1458644 rows × 26 columns</p>\n",
              "</div>"
            ],
            "text/plain": [
              "                id  vendor_id     pickup_datetime     dropoff_datetime  \\\n",
              "0        id2875421          2 2016-03-14 17:24:55  2016-03-14 17:32:30   \n",
              "1        id2377394          1 2016-06-12 00:43:35  2016-06-12 00:54:38   \n",
              "2        id3858529          2 2016-01-19 11:35:24  2016-01-19 12:10:48   \n",
              "3        id3504673          2 2016-04-06 19:32:31  2016-04-06 19:39:40   \n",
              "4        id2181028          2 2016-03-26 13:30:55  2016-03-26 13:38:10   \n",
              "...            ...        ...                 ...                  ...   \n",
              "1458639  id2376096          2 2016-04-08 13:31:04  2016-04-08 13:44:02   \n",
              "1458640  id1049543          1 2016-01-10 07:35:15  2016-01-10 07:46:10   \n",
              "1458641  id2304944          2 2016-04-22 06:57:41  2016-04-22 07:10:25   \n",
              "1458642  id2714485          1 2016-01-05 15:56:26  2016-01-05 16:02:39   \n",
              "1458643  id1209952          1 2016-04-05 14:44:25  2016-04-05 14:47:43   \n",
              "\n",
              "         passenger_count  pickup_longitude  pickup_latitude  \\\n",
              "0                      1        -73.982155        40.767937   \n",
              "1                      1        -73.980415        40.738564   \n",
              "2                      1        -73.979027        40.763939   \n",
              "3                      1        -74.010040        40.719971   \n",
              "4                      1        -73.973053        40.793209   \n",
              "...                  ...               ...              ...   \n",
              "1458639                4        -73.982201        40.745522   \n",
              "1458640                1        -74.000946        40.747379   \n",
              "1458641                1        -73.959129        40.768799   \n",
              "1458642                1        -73.982079        40.749062   \n",
              "1458643                1        -73.979538        40.781750   \n",
              "\n",
              "         dropoff_longitude  dropoff_latitude store_and_fwd_flag  ...  \\\n",
              "0               -73.964630         40.765602                  N  ...   \n",
              "1               -73.999481         40.731152                  N  ...   \n",
              "2               -74.005333         40.710087                  N  ...   \n",
              "3               -74.012268         40.706718                  N  ...   \n",
              "4               -73.972923         40.782520                  N  ...   \n",
              "...                    ...               ...                ...  ...   \n",
              "1458639         -73.994911         40.740170                  N  ...   \n",
              "1458640         -73.970184         40.796547                  N  ...   \n",
              "1458641         -74.004433         40.707371                  N  ...   \n",
              "1458642         -73.974632         40.757107                  N  ...   \n",
              "1458643         -73.972809         40.790585                  N  ...   \n",
              "\n",
              "         total_travel_time number_of_steps  haversine_distance    directon  \\\n",
              "0                    164.9             5.0            1.498521   99.970196   \n",
              "1                    332.0             6.0            1.805507 -117.153768   \n",
              "2                    767.6            16.0            6.385098 -159.680165   \n",
              "3                    235.8             4.0            1.485498 -172.737700   \n",
              "4                    140.1             5.0            1.188588  179.473585   \n",
              "...                    ...             ...                 ...         ...   \n",
              "1458639              311.7             8.0            1.225080 -119.059338   \n",
              "1458640              589.6            11.0            6.049836   25.342196   \n",
              "1458641              642.9            10.0            7.824606 -150.788492   \n",
              "1458642              161.6             7.0            1.092564   35.033294   \n",
              "1458643               90.7             2.0            1.134042   29.969486   \n",
              "\n",
              "         geo_cluster  temperature  visibility  wind speed  precip  events  \n",
              "0                  9          4.4         8.0        27.8     0.3    None  \n",
              "1                  4         28.9        16.1         7.4     0.0    None  \n",
              "2                  4         -6.7        16.1        24.1     0.0    None  \n",
              "3                  4          7.2        16.1        25.9     0.0    None  \n",
              "4                  9          9.4        16.1         9.3     0.0    None  \n",
              "...              ...          ...         ...         ...     ...     ...  \n",
              "1458639            0          7.8        16.1        11.1     0.0    None  \n",
              "1458640            9          7.2         2.8        18.5     8.1    Rain  \n",
              "1458641            4         18.3        16.1         0.0     0.0    None  \n",
              "1458642            0         -2.8        16.1         9.3     0.0    None  \n",
              "1458643            9          2.2        16.1        16.7     0.0    None  \n",
              "\n",
              "[1458644 rows x 26 columns]"
            ]
          },
          "execution_count": 13,
          "metadata": {},
          "output_type": "execute_result"
        }
      ],
      "source": [
        "def fill_null_weather_data(df):\n",
        "    col_weather = ['temperature', 'visibility', 'wind speed', 'precip']\n",
        "    for col in col_weather:\n",
        "        df[col] = df[col].fillna(df.groupby('pickup_date')[col].transform('median'))\n",
        "    df['events'] = df['events'].fillna('None')\n",
        "    values = {'total_distance':df['total_distance'].median(), 'total_travel_time':df['total_travel_time'].median(),\n",
        "              'number_of_steps':df['number_of_steps'].median()}\n",
        "    df[['total_distance', 'total_travel_time', 'number_of_steps']] = df[['total_distance', 'total_travel_time', 'number_of_steps']].fillna(values)\n",
        "    return df\n",
        "\n",
        "fill_null_weather_data(taxi_data)"
      ]
    },
    {
      "cell_type": "code",
      "execution_count": 14,
      "metadata": {
        "id": "hCKpHrqvYaXd",
        "outputId": "48152905-dcba-411b-f2c8-9fb9ec788b05"
      },
      "outputs": [
        {
          "name": "stdout",
          "output_type": "stream",
          "text": [
            "Медианная температура после заполнения пропусков - 11.1\n"
          ]
        }
      ],
      "source": [
        "print(f'Медианная температура после заполнения пропусков - {taxi_data[\"temperature\"].median()}')"
      ]
    },
    {
      "cell_type": "markdown",
      "metadata": {
        "id": "MahzwVDxkBLn"
      },
      "source": [
        "В завершение первой части найдем очевидные выбросы в целевой переменной - длительности поездки. \n",
        "\n",
        "Проще всего найти слишком продолжительные поездки. Давайте условимся, что выбросами будут считаться поездки, длительность которых превышает 24 часа. \n",
        "\n",
        "Чуть сложнее с анализом поездок, длительность которых слишком мала. Потому что к ним относятся действительно реальные поездки на короткие расстояния, поездки, которые были отменены через секунду после того как включился счетчик, а также “телепортации” - перемещение на большие расстояния за считанные секунды. \n",
        "Условимся, что мы будем считать выбросами только последнюю группу. Как же нам их обнаружить наиболее простым способом?\n",
        "\n",
        "Можно воспользоваться информацией о кратчайшем расстоянии, которое проезжает такси. Вычислить среднюю скорость автомобиля на кратчайшем пути следующим образом: \n",
        "$$avg\\_speed= \\frac{total\\_distance}{1000*trip\\_duration}*3600$$\n",
        "Если мы построим диаграмму рассеяния средней скорости движения автомобилей, мы увидим следующую картину:\n"
      ]
    },
    {
      "cell_type": "code",
      "execution_count": 25,
      "metadata": {
        "id": "Nnp1KatIkBLo",
        "outputId": "efa29e22-5bcf-434b-e8d2-a296d85925d1"
      },
      "outputs": [
        {
          "data": {
            "image/png": "[encoded data removed]",
            "text/plain": [
              "<Figure size 720x360 with 1 Axes>"
            ]
          },
          "metadata": {
            "needs_background": "light"
          },
          "output_type": "display_data"
        }
      ],
      "source": [
        "avg_speed = taxi_data['total_distance'] / taxi_data['trip_duration'] * 3.6\n",
        "fig, ax = plt.subplots(figsize=(10, 5))\n",
        "sns.scatterplot(x=avg_speed.index, y=avg_speed, ax=ax)\n",
        "ax.set_xlabel('Index')\n",
        "ax.set_ylabel('Average speed');"
      ]
    },
    {
      "cell_type": "markdown",
      "metadata": {
        "id": "BGxXxv7LkBLo"
      },
      "source": [
        "Как раз отсюда мы видим, что у нас есть “поездки-телепортации”, для которых средняя скорость более 1000 км/ч. Даже есть такая, средняя скорость которой составляла более 12000 км/ч! \n",
        "\n",
        "Давайте условимся, что предельная средняя скорость, которую могут развивать таксисты будет 300 км/ч. \n"
      ]
    },
    {
      "cell_type": "markdown",
      "metadata": {
        "id": "sSWHdHNWkBLo",
        "tags": []
      },
      "source": [
        "### Задание 2.11.\n",
        "Найдите поездки, длительность которых превышает 24 часа. И удалите их из набора данных.\n",
        "\n",
        "а) Сколько выбросов по признаку длительности поездки вам удалось найти?\n",
        "\n",
        "Найдите поездки, средняя скорость которых по кратчайшему пути превышает 300 км/ч и удалите их из данных. \n",
        "\n",
        "б) Сколько выбросов по признаку скорости вам удалось найти?"
      ]
    },
    {
      "cell_type": "code",
      "execution_count": 14,
      "metadata": {
        "id": "3KVmlq8SkBLo",
        "outputId": "55050b84-dc5c-4d26-f03f-b4671a5eeb8a"
      },
      "outputs": [
        {
          "name": "stdout",
          "output_type": "stream",
          "text": [
            "По длительности поездки нашлось 4 выброса.\n",
            "По признаку скорости нашлось 407 выбросов.\n"
          ]
        }
      ],
      "source": [
        "duration_max = 24 * 3600\n",
        "speed_max = 300\n",
        "taxi_data['avg_speed'] = taxi_data['total_distance'] / taxi_data['trip_duration'] * 3.6\n",
        "print(f'По длительности поездки нашлось {taxi_data[(taxi_data.trip_duration > duration_max)].shape[0]} выброса.')\n",
        "print(f'По признаку скорости нашлось {taxi_data[(taxi_data.avg_speed > speed_max)].shape[0]} выбросов.')\n",
        "taxi_data = taxi_data[(taxi_data.trip_duration < duration_max) & (taxi_data.avg_speed < speed_max)]"
      ]
    },
    {
      "cell_type": "markdown",
      "metadata": {
        "id": "pEEXbpTfkBLo",
        "tags": []
      },
      "source": [
        "## 3. Разведывательный анализ данных (EDA)"
      ]
    },
    {
      "cell_type": "markdown",
      "metadata": {
        "id": "59de6wa-kBLo"
      },
      "source": [
        "В этой части нашего проекта мы с вами:\n",
        "* Исследуем сформированный набор данных; \n",
        "* Попробуем найти закономерности, позволяющие сформулировать предварительные гипотезы относительно того, какие факторы являются решающими в определении длительности поездки;\n",
        "* Дополним наш анализ визуализациями, иллюстрирующими; исследование. Постарайтесь оформлять диаграммы с душой, а не «для галочки»: навыки визуализации полученных выводов обязательно пригодятся вам в будущем.\n"
      ]
    },
    {
      "cell_type": "markdown",
      "metadata": {
        "id": "d-8PQtqRkBLo"
      },
      "source": [
        "Начинаем с целевого признака. Забегая вперед, скажем, что основной метрикой качества решения поставленной задачи будет RMSLE - Root Mean Squared Log Error, которая вычисляется на основе целевой переменной в логарифмическом масштабе. В таком случае целесообразно сразу логарифмировать признак длительности поездки и рассматривать при анализе логарифм в качестве целевого признака:\n",
        "$$trip\\_duration\\_log = log(trip\\_duration+1),$$\n",
        "где под символом log подразумевается натуральный логарифм.\n"
      ]
    },
    {
      "cell_type": "code",
      "execution_count": 15,
      "metadata": {
        "id": "y59BwN3MkBLp",
        "outputId": "477032c3-7045-4e32-9ee1-76b3f1d29b26"
      },
      "outputs": [
        {
          "name": "stderr",
          "output_type": "stream",
          "text": [
            "C:\\Users\\Антон\\AppData\\Local\\Temp\\ipykernel_3748\\773004705.py:1: SettingWithCopyWarning:\n",
            "\n",
            "\n",
            "A value is trying to be set on a copy of a slice from a DataFrame.\n",
            "Try using .loc[row_indexer,col_indexer] = value instead\n",
            "\n",
            "See the caveats in the documentation: https://pandas.pydata.org/pandas-docs/stable/user_guide/indexing.html#returning-a-view-versus-a-copy\n",
            "\n"
          ]
        }
      ],
      "source": [
        "taxi_data['trip_duration_log'] = np.log(taxi_data.loc[:, ('trip_duration')]+1)"
      ]
    },
    {
      "cell_type": "markdown",
      "metadata": {
        "id": "OoqAWXLLkBLp"
      },
      "source": [
        "### Задание 3.1.\n",
        "Постройте гистограмму и коробчатую диаграмму длительности поездок в логарифмическом масштабе (trip_duration_log). \n",
        "Исходя из визуализации, сделайте предположение, является ли полученное распределение нормальным? \n",
        "Проверьте свою гипотезу с помощью теста Д’Агостино при уровне значимости $\\alpha=0.05$. \n",
        "\n",
        "а) Чему равен вычисленный p-value? Ответ округлите до сотых.\n",
        "\n",
        "б) Является ли распределение длительности поездок в логарифмическом масштабе нормальным?"
      ]
    },
    {
      "cell_type": "code",
      "execution_count": 5,
      "metadata": {
        "_uuid": "4cea6d1f4372850e6c5692d7be7ca1cee3bdb42e",
        "id": "hSPVCtNckBLp",
        "tags": []
      },
      "outputs": [
        {
          "data": {
            "image/png": "[encoded data removed]"
          },
          "metadata": {},
          "output_type": "display_data"
        }
      ],
      "source": [
        "fig = px.histogram(\n",
        "    data_frame=taxi_data,\n",
        "    x='trip_duration_log',    \n",
        "    title='Trip_duration_log',\n",
        "    text_auto=True,\n",
        "    marginal='box',\n",
        "    height=800,    \n",
        "    width=1300\n",
        ")\n",
        "fig.show()"
      ]
    },
    {
      "cell_type": "markdown",
      "metadata": {
        "id": "bRdXtXTrYaXf"
      },
      "source": [
        "По графику выдвигаем гипотезу, что данные распределены нормально, проверим данную гипотезу тестом на нормальность - Тест Д’Агостино:"
      ]
    },
    {
      "cell_type": "code",
      "execution_count": null,
      "metadata": {
        "id": "-V82lifCYaXg",
        "outputId": "b3cd4a73-c00d-4d24-da36-c61cb9cc92b8"
      },
      "outputs": [
        {
          "name": "stdout",
          "output_type": "stream",
          "text": [
            "p = 0.0\n",
            "Данные не распределены нормально\n"
          ]
        }
      ],
      "source": [
        "alpha = 0.05\n",
        "\n",
        "H0 = 'Данные распределены нормально'\n",
        "H1 = 'Данные не распределены нормально'\n",
        "\n",
        "_, p_value = stats.normaltest(taxi_data['trip_duration_log'])\n",
        "\n",
        "print(f'p = {p_value}')\n",
        "\n",
        "if p_value / 2 > alpha:\n",
        "    print(H0)    \n",
        "else:\n",
        "    print(H1)   "
      ]
    },
    {
      "cell_type": "markdown",
      "metadata": {
        "id": "c-zSh8OaYaXg"
      },
      "source": [
        "Гипотеза не подтвердилась, данные не распределены нормально."
      ]
    },
    {
      "cell_type": "markdown",
      "metadata": {
        "id": "teZmcjlIkBLp"
      },
      "source": [
        "### Задание 3.2.\n",
        "Постройте визуализацию, которая позволит сравнить распределение длительности поездки в логарифмическом масштабе (trip_duration_log) в зависимости от таксопарка (vendor_id). \n",
        "\n",
        "Сравните два распределения между собой."
      ]
    },
    {
      "cell_type": "code",
      "execution_count": 7,
      "metadata": {
        "id": "MPhFJh9xYaXg"
      },
      "outputs": [
        {
          "data": {
            "image/png": "[encoded data removed]"
          },
          "metadata": {},
          "output_type": "display_data"
        }
      ],
      "source": [
        "fig = make_subplots(rows=2, cols=2, subplot_titles=['Vendor 1', 'Vendor 2', 'Vendor 1', 'Vendor 2'])\n",
        "\n",
        "fig.add_trace(go.Histogram(x= taxi_data[taxi_data['vendor_id']==1]['trip_duration_log'], showlegend=False),row=1, col=1)\n",
        "fig.add_trace(go.Histogram(x= taxi_data[taxi_data['vendor_id']==2]['trip_duration_log'], showlegend=False), row=1, col=2)\n",
        "\n",
        "fig.add_trace(go.Box(x= taxi_data[taxi_data['vendor_id']==1]['trip_duration_log'], showlegend=False),row=2, col=1)\n",
        "fig.add_trace(go.Box(x= taxi_data[taxi_data['vendor_id']==2]['trip_duration_log'], showlegend=False), row=2, col=2)\n",
        "\n",
        "fig.update_layout(height=800, width=1300, title_text='Feature distribution depending on the vendor')\n",
        "fig.update_xaxes(title='trip_duration_log', col=1, row=1)\n",
        "fig.update_xaxes(title='trip_duration_log', col=2, row=1)\n",
        "fig.update_xaxes(title='trip_duration_log', col=1, row=2)\n",
        "fig.update_xaxes(title='trip_duration_log', col=2, row=2)\n",
        "fig.update_yaxes(title='Count', col=1, row=1)\n",
        "fig.update_yaxes(title='Count', col=2, row=1)\n",
        "fig.update_yaxes(title='Count', col=1, row=2)\n",
        "fig.update_yaxes(title='Count', col=2, row=2)\n",
        "fig.show()"
      ]
    },
    {
      "cell_type": "markdown",
      "metadata": {
        "id": "037qyOkOYaXg"
      },
      "source": [
        "Распределения в группах практически не отличаются, признак vendor_id не имеет значения при определении длительности поездки."
      ]
    },
    {
      "cell_type": "markdown",
      "metadata": {
        "id": "Gq7d2zjjkBLp"
      },
      "source": [
        "### Задание 3.3.\n",
        "Постройте визуализацию, которая позволит сравнить распределение длительности поездки в логарифмическом масштабе (trip_duration_log) в зависимости от признака отправки сообщения поставщику (store_and_fwd_flag). \n",
        "\n",
        "Сравните два распределения между собой."
      ]
    },
    {
      "cell_type": "code",
      "execution_count": 9,
      "metadata": {
        "colab": {
          "base_uri": "https://localhost:8080/",
          "height": 817
        },
        "id": "FG0fnm1YYaXh",
        "outputId": "907a8973-ba7c-4107-b530-d56e7236c36b"
      },
      "outputs": [
        {
          "data": {
            "image/png": "[encoded data removed]"
          },
          "metadata": {},
          "output_type": "display_data"
        }
      ],
      "source": [
        "fig = make_subplots(rows=2, cols=2, subplot_titles=['Message sent', 'Message not sent', 'Message sent', 'Message not sent'])\n",
        "\n",
        "fig.add_trace(go.Histogram(x= taxi_data[taxi_data['store_and_fwd_flag']=='Y']['trip_duration_log'], showlegend=False),row=1, col=1)\n",
        "fig.add_trace(go.Histogram(x= taxi_data[taxi_data['store_and_fwd_flag']=='N']['trip_duration_log'], showlegend=False), row=1, col=2)\n",
        "\n",
        "fig.add_trace(go.Box(x= taxi_data[taxi_data['store_and_fwd_flag']=='Y']['trip_duration_log'], showlegend=False),row=2, col=1)\n",
        "fig.add_trace(go.Box(x= taxi_data[taxi_data['store_and_fwd_flag']=='N']['trip_duration_log'], showlegend=False), row=2, col=2)\n",
        "\n",
        "fig.update_xaxes(title='trip_duration_log', col=1, row=1)\n",
        "fig.update_xaxes(title='trip_duration_log', col=2, row=1)\n",
        "fig.update_xaxes(title='trip_duration_log', col=1, row=2)\n",
        "fig.update_xaxes(title='trip_duration_log', col=2, row=2)\n",
        "fig.update_yaxes(title='Count', col=1, row=1)\n",
        "fig.update_yaxes(title='Count', col=2, row=1)\n",
        "fig.update_yaxes(title='Count', col=1, row=2)\n",
        "fig.update_yaxes(title='Count', col=2, row=2)\n",
        "\n",
        "fig.update_layout(height=800, width=1300, title_text='Distribution of the target feature depending on the feature of sending a message to the taxi company (store_and_fwd_flag)')\n",
        "fig.show()"
      ]
    },
    {
      "cell_type": "markdown",
      "metadata": {
        "id": "JtJ6D6bsYaXh"
      },
      "source": [
        "Распределения в группах значительно отличаются, признак store_and_fwd_flag имеет значение при определении длительности поездки. Если внимательно присмотреться к распределению длительности поездок в зависимости от признака store_and_fwd_flag, становится ясно, что наиболее длительные поездки принадлежат к группе N (не хранить и не пересылать поездку). Таким образом, флаг сохраняется только для кратковременных поездок, а для аномальных многочасовых — не сохраняется."
      ]
    },
    {
      "cell_type": "markdown",
      "metadata": {
        "id": "ThgfBISekBLp"
      },
      "source": [
        "### Задание 3.4.\n",
        "Постройте две визуализации:\n",
        "* Распределение количества поездок в зависимости от часа дня;\n",
        "* Зависимость медианной длительности поездки от часа дня.\n",
        "\n",
        "На основе построенных графиков ответьте на следующие вопросы:\n",
        "\n",
        "а) В какое время суток такси заказывают реже всего?\n",
        "\n",
        "б) В какое время суток наблюдается пик медианной длительности поездок?"
      ]
    },
    {
      "cell_type": "code",
      "execution_count": 10,
      "metadata": {
        "colab": {
          "base_uri": "https://localhost:8080/",
          "height": 637
        },
        "id": "4GwCVoO8YaXh",
        "outputId": "219a7a64-0ee8-48f4-e379-c5ffd06650dc"
      },
      "outputs": [
        {
          "data": {
            "image/png": "[encoded data removed]"
          },
          "metadata": {},
          "output_type": "display_data"
        }
      ],
      "source": [
        "fig = make_subplots(rows=1, cols=2, subplot_titles=['Distribution of the number of trips depending on the hour of the day',\n",
        "                                                    'Dependence of the median trip duration on the hour of the day'])\n",
        "\n",
        "fig.add_trace(go.Histogram(x= taxi_data['pickup_hour'], opacity=0.75, showlegend=False),row=1, col=1)\n",
        "fig.add_trace(go.Scatter(x=taxi_data.groupby(['pickup_hour'])['trip_duration_log'].median().index, y=taxi_data.groupby(['pickup_hour'])['trip_duration_log'].median(), showlegend=False), row=1, col=2)\n",
        "\n",
        "fig.update_layout(height=600, width=1500)\n",
        "fig.update_xaxes(title='Hour', col=1, row=1)\n",
        "fig.update_xaxes(title='Hour', col=2, row=1)\n",
        "fig.update_yaxes(title='Count of trips', col=1, row=1)\n",
        "fig.update_yaxes(title='trip_duration_log(median)', col=2, row=1)\n",
        "fig.show()"
      ]
    },
    {
      "cell_type": "markdown",
      "metadata": {
        "id": "ivQdau4sYaXh"
      },
      "source": [
        "С 00:00 по 5:00 такси заказыается меньше всего, с 13:00 по 18:00 наблюдается пик медианной длительности поездок."
      ]
    },
    {
      "cell_type": "markdown",
      "metadata": {
        "id": "GmHyGkbzkBLq"
      },
      "source": [
        "### Задание 3.5.\n",
        "Постройте две визуализации:\n",
        "* Распределение количества поездок в зависимости от дня недели;\n",
        "*  Зависимость медианной длительности поездки от дня недели.\n",
        "\n",
        "На основе построенных графиков ответьте на следующие вопросы:\n",
        "а) В какой день недели совершается больше всего поездок?\n",
        "б) В какой день недели медианная длительность поездок наименьшая?\n"
      ]
    },
    {
      "cell_type": "code",
      "execution_count": 11,
      "metadata": {
        "colab": {
          "base_uri": "https://localhost:8080/",
          "height": 637
        },
        "id": "b0mHfS17kBLq",
        "outputId": "bed31ffa-1b00-45b3-a016-820720718e36"
      },
      "outputs": [
        {
          "data": {
            "image/png": "[encoded data removed]"
          },
          "metadata": {},
          "output_type": "display_data"
        }
      ],
      "source": [
        "fig = make_subplots(rows=1, cols=2, subplot_titles=['Distribution of the number of trips depending on the day of the week',\n",
        "                                                    'Dependence of the median trip duration on the day of the week'])\n",
        "\n",
        "fig.add_trace(go.Histogram(x= taxi_data['pickup_day_of_week'], opacity=0.75, showlegend=False),row=1, col=1)\n",
        "fig.add_trace(go.Scatter(x=taxi_data.groupby(['pickup_day_of_week'])['trip_duration_log'].median().index, y=taxi_data.groupby(['pickup_day_of_week'])['trip_duration_log'].median(), showlegend=False), row=1, col=2)\n",
        "\n",
        "fig.update_layout(height=600, width=1500)\n",
        "fig.update_xaxes(title='day_of_week', col=1, row=1)\n",
        "fig.update_xaxes(title='day_of_week', col=2, row=1)\n",
        "fig.update_yaxes(title='Count of trips', col=1, row=1)\n",
        "fig.update_yaxes(title='trip_duration_log(median)', col=2, row=1)\n",
        "\n",
        "fig.show()"
      ]
    },
    {
      "attachments": {},
      "cell_type": "markdown",
      "metadata": {
        "id": "1AIEDQz0YaXi"
      },
      "source": [
        "Больше всего совершаетя поездок по пятницам(Friday) , а медианная длительность поездки наименьшая в воскресение, что связано с отсутствием пробок в выходной день."
      ]
    },
    {
      "cell_type": "markdown",
      "metadata": {
        "id": "KSRSS4tekBLq"
      },
      "source": [
        "### Задание 3.6.\n",
        "Посмотрим на обе временные характеристики одновременно. \n",
        "\n",
        "Постройте сводную таблицу, по строкам которой отложены часы (pickup_hour), по столбцам - дни недели (pickup_day_of_week), а в ячейках - медианная длительность поездки (trip_duration). \n",
        "\n",
        "Визуализируйте полученную сводную таблицу с помощью тепловой карты (рекомендуемая палитра - coolwarm)."
      ]
    },
    {
      "cell_type": "code",
      "execution_count": 12,
      "metadata": {
        "colab": {
          "base_uri": "https://localhost:8080/",
          "height": 617
        },
        "id": "zDUyBJTQkBLq",
        "outputId": "a5731194-a55b-4bd7-96ab-62b5289803d1"
      },
      "outputs": [
        {
          "data": {
            "image/png": "[encoded data removed]"
          },
          "metadata": {},
          "output_type": "display_data"
        }
      ],
      "source": [
        "hour_day_week =taxi_data.pivot_table(\n",
        "    values='trip_duration',\n",
        "    index='pickup_hour',\n",
        "    columns='pickup_day_of_week',\n",
        "    aggfunc='median',\n",
        "    fill_value=0\n",
        ")\n",
        "\n",
        "fig = px.imshow(\n",
        "    img=hour_day_week.values,\n",
        "    x=list(hour_day_week.columns),\n",
        "    y=list(hour_day_week.index),\n",
        "    text_auto=True,    \n",
        "    title='Матрица корреляции признаков',\n",
        "    width=600,\n",
        "    height=600\n",
        "    )\n",
        "fig.show()"
      ]
    },
    {
      "cell_type": "markdown",
      "metadata": {
        "id": "8ld92MTOYaXi"
      },
      "source": [
        "Самые продолжительные поездки (в медианном смысле) наблюдаются с понедельника по пятницу в промежутке с 8 до 18 часов. Наибольшая медианная длительность поездки наблюдалась в четверг в 14 часов дня."
      ]
    },
    {
      "attachments": {},
      "cell_type": "markdown",
      "metadata": {
        "id": "E5P2WBT6kBLq",
        "tags": []
      },
      "source": [
        "### Задание 3.7.\n",
        "Постройте две диаграммы рассеяния (scatter-диаграммы):\n",
        "* первая должна иллюстрировать географическое расположение точек начала поездок (pickup_longitude, pickup_latitude) \n",
        "* вторая должна географическое расположение точек завершения поездок (dropoff_longitude, dropoff_latitude).\n",
        "\n",
        "Для этого на диаграммах по оси абсцисс отложите широту (longitude), а по оси ординат - долготу (latitude). \n",
        "Включите в визуализацию только те точки, которые находятся в пределах Нью-Йорка - добавьте следующие ограничения на границы осей абсцисс и ординат:\n",
        " \n",
        "city_long_border = (-74.03, -73.75)\n",
        "\n",
        "city_lat_border = (40.63, 40.85)\n",
        "\n",
        "Добавьте на диаграммы расцветку по десяти географическим кластерам (geo_cluster), которые мы сгенерировали ранее. \n",
        "\n",
        "**Рекомендация:** для наглядности уменьшите размер точек на диаграмме рассеяния.  \n",
        "\n",
        "!!!Внимание!!! \n",
        "\n",
        "График **Geographical location of the starting points of trips** [доступен по ссылке](https://github.com/Abricovich/Abricovich-sf_data_science/blob/master/project_9/Geographical%20location%20of%20the%20starting%20points%20of%20trips.PNG)\n",
        "\n",
        "График **Geographic location of end points** [доступен по ссылке](https://github.com/Abricovich/Abricovich-sf_data_science/blob/master/project_9/Geographic%20location%20of%20end%20points.PNG)\n"
      ]
    },
    {
      "cell_type": "code",
      "execution_count": 16,
      "metadata": {
        "id": "SCdC0EZ7wu3u"
      },
      "outputs": [],
      "source": [
        "city_long_border = (-74.03, -73.75)\n",
        "city_lat_border = (40.63, 40.85)\n",
        "\n",
        "city_start = taxi_data[((taxi_data['pickup_longitude'] >= city_long_border[0]) & (taxi_data['pickup_longitude'] <= city_long_border[1])) & \\\n",
        "    ((taxi_data['pickup_latitude'] >= city_lat_border[0]) & (taxi_data['pickup_latitude'] <= city_lat_border[1]))]\n",
        "                                \n",
        "\n",
        "city_fin = taxi_data[((taxi_data['dropoff_longitude'] >= city_long_border[0]) & (taxi_data['dropoff_longitude'] <= city_long_border[1])) & \\\n",
        "    ((taxi_data['dropoff_latitude'] >= city_lat_border[0]) & (taxi_data['dropoff_latitude'] <= city_lat_border[1]))]"
      ]
    },
    {
      "cell_type": "code",
      "execution_count": null,
      "metadata": {},
      "outputs": [],
      "source": [
        "fig = px.scatter(\n",
        "    data_frame=city_start, # DataFrame\n",
        "    x='pickup_longitude', # ось абсцисс\n",
        "    y='pickup_latitude',\n",
        "    color = 'geo_cluster',\n",
        "    #labels = {'pickup_longitude': 'Долгота','pickup_latitude': 'Широта'},\n",
        "    size_max = 1,\n",
        "    width=1300, # ширина\n",
        "    height=900, # высота\n",
        "    title='Geographical location of the starting points of trips' # заголовок\n",
        ")\n",
        "fig.show('vscode')"
      ]
    },
    {
      "cell_type": "code",
      "execution_count": null,
      "metadata": {},
      "outputs": [],
      "source": [
        "fig = px.scatter(\n",
        "    data_frame=city_fin, # DataFrame\n",
        "    x='dropoff_longitude', # ось абсцисс\n",
        "    y='dropoff_latitude',\n",
        "    color = 'geo_cluster',    \n",
        "    size_max = 1,\n",
        "    width=1300, # ширина\n",
        "    height=900, # высота\n",
        "    title='Geographic location of end points' # заголовок\n",
        ")\n",
        "fig.show('vscode')"
      ]
    },
    {
      "cell_type": "code",
      "execution_count": 36,
      "metadata": {},
      "outputs": [
        {
          "data": {
            "text/plain": [
              "0    596316\n",
              "9    382989\n",
              "4    358401\n",
              "5     43579\n",
              "7     40994\n",
              "3     26990\n",
              "1      6932\n",
              "6         4\n",
              "Name: geo_cluster, dtype: int64"
            ]
          },
          "execution_count": 36,
          "metadata": {},
          "output_type": "execute_result"
        }
      ],
      "source": [
        "city_start[\"geo_cluster\"].value_counts()"
      ]
    },
    {
      "cell_type": "code",
      "execution_count": 37,
      "metadata": {},
      "outputs": [
        {
          "data": {
            "text/plain": [
              "0    596147\n",
              "9    376429\n",
              "4    352615\n",
              "5     42810\n",
              "7     40229\n",
              "3     25560\n",
              "1      5606\n",
              "Name: geo_cluster, dtype: int64"
            ]
          },
          "execution_count": 37,
          "metadata": {},
          "output_type": "execute_result"
        }
      ],
      "source": [
        "city_fin[\"geo_cluster\"].value_counts()"
      ]
    },
    {
      "attachments": {},
      "cell_type": "markdown",
      "metadata": {},
      "source": [
        "Видим, что 2 кластера не попало в выборку - это 8 и 2, в кластерах находилось по 5 и 2 наблюдений соответственно - данные поездки осуществлялись за пределами города."
      ]
    },
    {
      "cell_type": "markdown",
      "metadata": {
        "id": "cSKZEkO4kBLq"
      },
      "source": [
        "## 4. Отбор и преобразование признаков"
      ]
    },
    {
      "cell_type": "markdown",
      "metadata": {
        "id": "Erg_Ejz1kBLr"
      },
      "source": [
        "Перед тем как перейти к построению модели, осталось сделать ещё несколько шагов.\n",
        "* Следует помнить, что многие алгоритмы машинного обучения не могут обрабатывать категориальные признаки в их обычном виде. Поэтому нам необходимо их закодировать;\n",
        "* Надо отобрать признаки, которые мы будем использовать для обучения модели;\n",
        "*  Необходимо масштабировать и трансформировать некоторые признаки для того, чтобы улучшить сходимость моделей, в основе которых лежат численные методы.\n"
      ]
    },
    {
      "cell_type": "code",
      "execution_count": 17,
      "metadata": {
        "colab": {
          "base_uri": "https://localhost:8080/"
        },
        "id": "N7MHv9HKkBLr",
        "outputId": "61b91b15-9e9c-4785-ce7f-6de03913aed5"
      },
      "outputs": [
        {
          "name": "stdout",
          "output_type": "stream",
          "text": [
            "Shape of data: (1458233, 28)\n",
            "Columns: Index(['id', 'vendor_id', 'pickup_datetime', 'dropoff_datetime',\n",
            "       'passenger_count', 'pickup_longitude', 'pickup_latitude',\n",
            "       'dropoff_longitude', 'dropoff_latitude', 'store_and_fwd_flag',\n",
            "       'trip_duration', 'pickup_date', 'pickup_hour', 'pickup_day_of_week',\n",
            "       'pickup_holiday', 'total_distance', 'total_travel_time',\n",
            "       'number_of_steps', 'haversine_distance', 'directon', 'geo_cluster',\n",
            "       'temperature', 'visibility', 'wind speed', 'precip', 'events',\n",
            "       'avg_speed', 'trip_duration_log'],\n",
            "      dtype='object')\n"
          ]
        }
      ],
      "source": [
        "print('Shape of data: {}'.format(taxi_data.shape))\n",
        "print('Columns: {}'.format(taxi_data.columns))"
      ]
    },
    {
      "cell_type": "markdown",
      "metadata": {
        "id": "j6sgAOFqkBLr"
      },
      "source": [
        "Для удобства работы сделаем копию исходной таблицы с поездками:"
      ]
    },
    {
      "cell_type": "code",
      "execution_count": 18,
      "metadata": {
        "colab": {
          "base_uri": "https://localhost:8080/",
          "height": 404
        },
        "id": "7rxobyQFkBLr",
        "outputId": "6267f046-7b94-4b0d-a51e-4a58b99ba5ce"
      },
      "outputs": [
        {
          "data": {
            "text/html": [
              "<div>\n",
              "<style scoped>\n",
              "    .dataframe tbody tr th:only-of-type {\n",
              "        vertical-align: middle;\n",
              "    }\n",
              "\n",
              "    .dataframe tbody tr th {\n",
              "        vertical-align: top;\n",
              "    }\n",
              "\n",
              "    .dataframe thead th {\n",
              "        text-align: right;\n",
              "    }\n",
              "</style>\n",
              "<table border=\"1\" class=\"dataframe\">\n",
              "  <thead>\n",
              "    <tr style=\"text-align: right;\">\n",
              "      <th></th>\n",
              "      <th>id</th>\n",
              "      <th>vendor_id</th>\n",
              "      <th>pickup_datetime</th>\n",
              "      <th>dropoff_datetime</th>\n",
              "      <th>passenger_count</th>\n",
              "      <th>pickup_longitude</th>\n",
              "      <th>pickup_latitude</th>\n",
              "      <th>dropoff_longitude</th>\n",
              "      <th>dropoff_latitude</th>\n",
              "      <th>store_and_fwd_flag</th>\n",
              "      <th>...</th>\n",
              "      <th>number_of_steps</th>\n",
              "      <th>haversine_distance</th>\n",
              "      <th>directon</th>\n",
              "      <th>geo_cluster</th>\n",
              "      <th>temperature</th>\n",
              "      <th>visibility</th>\n",
              "      <th>wind speed</th>\n",
              "      <th>precip</th>\n",
              "      <th>events</th>\n",
              "      <th>trip_duration_log</th>\n",
              "    </tr>\n",
              "  </thead>\n",
              "  <tbody>\n",
              "    <tr>\n",
              "      <th>0</th>\n",
              "      <td>id2875421</td>\n",
              "      <td>2</td>\n",
              "      <td>2016-03-14 17:24:55</td>\n",
              "      <td>2016-03-14 17:32:30</td>\n",
              "      <td>1</td>\n",
              "      <td>-73.982155</td>\n",
              "      <td>40.767937</td>\n",
              "      <td>-73.964630</td>\n",
              "      <td>40.765602</td>\n",
              "      <td>N</td>\n",
              "      <td>...</td>\n",
              "      <td>5.0</td>\n",
              "      <td>1.498521</td>\n",
              "      <td>99.970196</td>\n",
              "      <td>9</td>\n",
              "      <td>4.4</td>\n",
              "      <td>8.0</td>\n",
              "      <td>27.8</td>\n",
              "      <td>0.3</td>\n",
              "      <td>None</td>\n",
              "      <td>6.122493</td>\n",
              "    </tr>\n",
              "    <tr>\n",
              "      <th>1</th>\n",
              "      <td>id2377394</td>\n",
              "      <td>1</td>\n",
              "      <td>2016-06-12 00:43:35</td>\n",
              "      <td>2016-06-12 00:54:38</td>\n",
              "      <td>1</td>\n",
              "      <td>-73.980415</td>\n",
              "      <td>40.738564</td>\n",
              "      <td>-73.999481</td>\n",
              "      <td>40.731152</td>\n",
              "      <td>N</td>\n",
              "      <td>...</td>\n",
              "      <td>6.0</td>\n",
              "      <td>1.805507</td>\n",
              "      <td>-117.153768</td>\n",
              "      <td>4</td>\n",
              "      <td>28.9</td>\n",
              "      <td>16.1</td>\n",
              "      <td>7.4</td>\n",
              "      <td>0.0</td>\n",
              "      <td>None</td>\n",
              "      <td>6.498282</td>\n",
              "    </tr>\n",
              "    <tr>\n",
              "      <th>2</th>\n",
              "      <td>id3858529</td>\n",
              "      <td>2</td>\n",
              "      <td>2016-01-19 11:35:24</td>\n",
              "      <td>2016-01-19 12:10:48</td>\n",
              "      <td>1</td>\n",
              "      <td>-73.979027</td>\n",
              "      <td>40.763939</td>\n",
              "      <td>-74.005333</td>\n",
              "      <td>40.710087</td>\n",
              "      <td>N</td>\n",
              "      <td>...</td>\n",
              "      <td>16.0</td>\n",
              "      <td>6.385098</td>\n",
              "      <td>-159.680165</td>\n",
              "      <td>4</td>\n",
              "      <td>-6.7</td>\n",
              "      <td>16.1</td>\n",
              "      <td>24.1</td>\n",
              "      <td>0.0</td>\n",
              "      <td>None</td>\n",
              "      <td>7.661527</td>\n",
              "    </tr>\n",
              "    <tr>\n",
              "      <th>3</th>\n",
              "      <td>id3504673</td>\n",
              "      <td>2</td>\n",
              "      <td>2016-04-06 19:32:31</td>\n",
              "      <td>2016-04-06 19:39:40</td>\n",
              "      <td>1</td>\n",
              "      <td>-74.010040</td>\n",
              "      <td>40.719971</td>\n",
              "      <td>-74.012268</td>\n",
              "      <td>40.706718</td>\n",
              "      <td>N</td>\n",
              "      <td>...</td>\n",
              "      <td>4.0</td>\n",
              "      <td>1.485498</td>\n",
              "      <td>-172.737700</td>\n",
              "      <td>4</td>\n",
              "      <td>7.2</td>\n",
              "      <td>16.1</td>\n",
              "      <td>25.9</td>\n",
              "      <td>0.0</td>\n",
              "      <td>None</td>\n",
              "      <td>6.063785</td>\n",
              "    </tr>\n",
              "    <tr>\n",
              "      <th>4</th>\n",
              "      <td>id2181028</td>\n",
              "      <td>2</td>\n",
              "      <td>2016-03-26 13:30:55</td>\n",
              "      <td>2016-03-26 13:38:10</td>\n",
              "      <td>1</td>\n",
              "      <td>-73.973053</td>\n",
              "      <td>40.793209</td>\n",
              "      <td>-73.972923</td>\n",
              "      <td>40.782520</td>\n",
              "      <td>N</td>\n",
              "      <td>...</td>\n",
              "      <td>5.0</td>\n",
              "      <td>1.188588</td>\n",
              "      <td>179.473585</td>\n",
              "      <td>9</td>\n",
              "      <td>9.4</td>\n",
              "      <td>16.1</td>\n",
              "      <td>9.3</td>\n",
              "      <td>0.0</td>\n",
              "      <td>None</td>\n",
              "      <td>6.077642</td>\n",
              "    </tr>\n",
              "  </tbody>\n",
              "</table>\n",
              "<p>5 rows × 27 columns</p>\n",
              "</div>"
            ],
            "text/plain": [
              "          id  vendor_id     pickup_datetime     dropoff_datetime  \\\n",
              "0  id2875421          2 2016-03-14 17:24:55  2016-03-14 17:32:30   \n",
              "1  id2377394          1 2016-06-12 00:43:35  2016-06-12 00:54:38   \n",
              "2  id3858529          2 2016-01-19 11:35:24  2016-01-19 12:10:48   \n",
              "3  id3504673          2 2016-04-06 19:32:31  2016-04-06 19:39:40   \n",
              "4  id2181028          2 2016-03-26 13:30:55  2016-03-26 13:38:10   \n",
              "\n",
              "   passenger_count  pickup_longitude  pickup_latitude  dropoff_longitude  \\\n",
              "0                1        -73.982155        40.767937         -73.964630   \n",
              "1                1        -73.980415        40.738564         -73.999481   \n",
              "2                1        -73.979027        40.763939         -74.005333   \n",
              "3                1        -74.010040        40.719971         -74.012268   \n",
              "4                1        -73.973053        40.793209         -73.972923   \n",
              "\n",
              "   dropoff_latitude store_and_fwd_flag  ...  number_of_steps  \\\n",
              "0         40.765602                  N  ...              5.0   \n",
              "1         40.731152                  N  ...              6.0   \n",
              "2         40.710087                  N  ...             16.0   \n",
              "3         40.706718                  N  ...              4.0   \n",
              "4         40.782520                  N  ...              5.0   \n",
              "\n",
              "  haversine_distance    directon geo_cluster  temperature  visibility  \\\n",
              "0           1.498521   99.970196           9          4.4         8.0   \n",
              "1           1.805507 -117.153768           4         28.9        16.1   \n",
              "2           6.385098 -159.680165           4         -6.7        16.1   \n",
              "3           1.485498 -172.737700           4          7.2        16.1   \n",
              "4           1.188588  179.473585           9          9.4        16.1   \n",
              "\n",
              "   wind speed  precip  events  trip_duration_log  \n",
              "0        27.8     0.3    None           6.122493  \n",
              "1         7.4     0.0    None           6.498282  \n",
              "2        24.1     0.0    None           7.661527  \n",
              "3        25.9     0.0    None           6.063785  \n",
              "4         9.3     0.0    None           6.077642  \n",
              "\n",
              "[5 rows x 27 columns]"
            ]
          },
          "execution_count": 18,
          "metadata": {},
          "output_type": "execute_result"
        }
      ],
      "source": [
        "train_data = taxi_data.copy()\n",
        "train_data = train_data.drop('avg_speed', axis=1)\n",
        "train_data.head()"
      ]
    },
    {
      "cell_type": "markdown",
      "metadata": {
        "id": "U7i7DFBdkBLr"
      },
      "source": [
        "# Задание 4.1.\n",
        "Сразу позаботимся об очевидных неинформативных и избыточных признаках. \n",
        "\n",
        "а) Какой из признаков является уникальным для каждой поездки и не несет полезной информации в определении ее продолжительности?\n",
        "\n",
        "б) Утечка данных (data leak) - это ситуация, в которой данные используемые для обучения модели, содержат прямую или косвенную информацию о целевой переменной, но эти данные недоступны в реальных условиях\n",
        "\n",
        "в) Подумайте, наличие какого из признаков в обучающем наборе данных создает утечку данных?\n",
        "\n",
        "г) Исключите выбранные в пунктах а) и в) признаки из исходной таблицы с данными. Сколько столбцов в таблице у вас осталось?\n"
      ]
    },
    {
      "cell_type": "markdown",
      "metadata": {
        "id": "19b6QAa3x6yG"
      },
      "source": [
        "- Признак id является уникальным для каждой поездки и не несёт полезной информации в определении её продолжительности\n",
        "- В наших данных утечку создаёт признак dropoff_datetime — зафиксированное время остановки счётчика. Начиная поездку, мы никак не можем точно знать, когда она закончится, ведь мы как раз и пытаемся предсказать время окончания поездки."
      ]
    },
    {
      "cell_type": "code",
      "execution_count": 19,
      "metadata": {
        "id": "-hg53Bv1kBLr"
      },
      "outputs": [],
      "source": [
        "train_data = train_data.drop(['id', 'dropoff_datetime'], axis=1)"
      ]
    },
    {
      "cell_type": "markdown",
      "metadata": {
        "id": "NHyYd7XzkBLr"
      },
      "source": [
        "Ранее мы извлекли всю необходимую для нас информацию из даты начала поездки, теперь мы можем избавиться от этих признаков, так как они нам больше не понадобятся:\n"
      ]
    },
    {
      "cell_type": "code",
      "execution_count": 20,
      "metadata": {
        "colab": {
          "base_uri": "https://localhost:8080/"
        },
        "id": "nzO9ioMHkBLs",
        "outputId": "2984760e-248c-42d7-c45c-2cc0fe3d0b61"
      },
      "outputs": [
        {
          "name": "stdout",
          "output_type": "stream",
          "text": [
            "Shape of data:  (1458233, 23)\n"
          ]
        }
      ],
      "source": [
        "drop_columns = ['pickup_datetime', 'pickup_date']\n",
        "train_data = train_data.drop(drop_columns, axis=1)\n",
        "print('Shape of data:  {}'.format(train_data.shape))"
      ]
    },
    {
      "cell_type": "markdown",
      "metadata": {
        "id": "cXHbkc3ykBLs"
      },
      "source": [
        "### Задание 4.2.\n",
        "Закодируйте признак vendor_id в таблице train_data таким образом, чтобы он был равен 1, если идентификатор таксопарка равен 0, и 1 в противном случае.\n",
        "\n",
        "Закодируйте признак store_and_fwd_flag в таблице train_data таким образом, чтобы он был равен 0, если флаг выставлен в значение \"N\", и 0 в противном случае.\n",
        "\n",
        "а) Рассчитайте среднее по закодированному столбцу vendor_id. Ответ приведите с точностью до сотых.\n",
        "\n",
        "б) Рассчитайте среднее по закодированному столбцу store_and_fwd_flag. Ответ приведите с точностью до тысячных.\n",
        "\n"
      ]
    },
    {
      "cell_type": "code",
      "execution_count": 21,
      "metadata": {
        "id": "_O1jJaZtkBLs"
      },
      "outputs": [],
      "source": [
        "train_data['vendor_id'] = train_data['vendor_id'].apply(lambda x: 0 if x==1 else 1)\n",
        "train_data['store_and_fwd_flag'] = train_data['store_and_fwd_flag'].apply(lambda x: 0 if x== 'N' else 1)"
      ]
    },
    {
      "cell_type": "markdown",
      "metadata": {
        "id": "XMUmtLu1kBLs"
      },
      "source": [
        "### Задание 4.3.\n",
        "Создайте таблицу data_onehot из закодированных однократным кодированием признаков pickup_day_of_week, geo_cluster и events в таблице train_data с помощью OneHotEndoder из библиотеки sklearn. Параметр drop выставите в значение 'first', чтобы удалять первый бинарный столбец, тем самым не создавая излишних признаков.\n",
        "\n",
        "В результате работы OneHotEncoder вы получите безымянный numpy-массив, который нам будет необходимо преобразовать обратно в DataFrame, для более удобной работы в дальнейшем. Чтобы получить имена закодированных столбцов у объекта типа OneHotEncoder есть специальный метод get_feature_names_out(). Он возвращает список новых закодированных имен столбцов в формате <оригинальное имя столбца>_<имя категории>.\n",
        "\n",
        "Пример использования:\n",
        "\n",
        "``` python\n",
        "# Получаем закодированные имена столбцов\n",
        "column_names = one_hot_encoder.get_feature_names_out()\n",
        "# Составляем DataFrame из закодированных признаков\n",
        "data_onehot = pd.DataFrame(data_onehot, columns=column_names)\n",
        "```\n",
        "\n",
        "В этом псевдокоде:\n",
        "* one_hot_encoder - объект класса OneHotEncoder\n",
        "* data_onehot - numpy-массив, полученный в результате трансформации кодировщиком\n",
        "\n",
        "В результате выполнения задания у вас должен быть образован DataFrame `data_onehot`, который содержит кодированные категориальные признаки pickup_day_of_week, geo_cluster и events. \n",
        "\n",
        "\n",
        "Сколько бинарных столбцов у вас получилось сгенерировать с помощью однократного кодирования?\n"
      ]
    },
    {
      "cell_type": "code",
      "execution_count": 22,
      "metadata": {
        "id": "BonLFJbhkBLs"
      },
      "outputs": [],
      "source": [
        "feature_onehot = train_data[['pickup_day_of_week', 'geo_cluster', 'events']]\n",
        "one_code = preprocessing.OneHotEncoder(drop='first')\n",
        "data = one_code.fit_transform(feature_onehot).toarray()\n",
        "column_names = one_code.get_feature_names_out()\n",
        "data_onehot = pd.DataFrame(data, columns=column_names)"
      ]
    },
    {
      "cell_type": "markdown",
      "metadata": {
        "id": "AsGsYqHRkBLs"
      },
      "source": [
        "Добавим полученную таблицу с закодированными признаками:"
      ]
    },
    {
      "cell_type": "code",
      "execution_count": 23,
      "metadata": {
        "colab": {
          "base_uri": "https://localhost:8080/"
        },
        "id": "blXeWiS0kBLs",
        "outputId": "8f692e57-5b51-4367-a282-5eeb5193e84a"
      },
      "outputs": [
        {
          "name": "stdout",
          "output_type": "stream",
          "text": [
            "Shape of data: (1458233, 38)\n"
          ]
        }
      ],
      "source": [
        "train_data = pd.concat(\n",
        "    [train_data.reset_index(drop=True).drop(feature_onehot, axis=1), data_onehot], \n",
        "    axis=1\n",
        ")\n",
        "print('Shape of data: {}'.format(train_data.shape))"
      ]
    },
    {
      "cell_type": "markdown",
      "metadata": {
        "id": "XQhXAud5kBLt"
      },
      "source": [
        "Теперь, когда категориальные признаки предобработаны, сформируем матрицу наблюдений X, вектор целевой переменной y и его логарифм y_log. В матрицу наблюдений войдут все столбцы из таблицы с поездками за исключением целевого признака trip_duration и его логарифмированной версии trip_duration_log:\n"
      ]
    },
    {
      "cell_type": "code",
      "execution_count": 24,
      "metadata": {
        "id": "Vz6YfcALkBLt"
      },
      "outputs": [],
      "source": [
        "X = train_data.drop(['trip_duration', 'trip_duration_log'], axis=1)\n",
        "y = train_data['trip_duration']\n",
        "y_log = train_data['trip_duration_log']"
      ]
    },
    {
      "cell_type": "markdown",
      "metadata": {
        "id": "orPjdejMkBLt"
      },
      "source": [
        "Все наши модели мы будем обучать на логарифмированной версии y_log. "
      ]
    },
    {
      "cell_type": "markdown",
      "metadata": {
        "id": "L8CzG9CnkBLt"
      },
      "source": [
        "Выбранный тип валидации - hold-out. Разобьем выборку на обучающую и валидационную в соотношении 67/33:"
      ]
    },
    {
      "cell_type": "code",
      "execution_count": 25,
      "metadata": {
        "id": "hPEJ89ZdkBLt"
      },
      "outputs": [],
      "source": [
        "X_train, X_valid, y_train_log, y_valid_log = model_selection.train_test_split(\n",
        "    X, y_log, \n",
        "    test_size=0.33, \n",
        "    random_state=42\n",
        ")"
      ]
    },
    {
      "cell_type": "markdown",
      "metadata": {
        "id": "yL9ZPlW3kBLt"
      },
      "source": [
        "На данный момент у нас достаточно много признаков: скорее всего, не все из них будут важны. Давайте оставим лишь те, которые сильнее всего связаны с целевой переменной и точно будут вносить вклад в повышение качества модели.\n"
      ]
    },
    {
      "cell_type": "markdown",
      "metadata": {
        "id": "AaqdJUp-kBLt"
      },
      "source": [
        "### Задание 4.4.\n",
        "С помощью SelectKBest отберите 25 признаков, наилучшим образом подходящих для предсказания целевой переменной в логарифмическом масштабе. Отбор реализуйте по обучающей выборке, используя параметр score_func = f_regression.\n",
        "\n",
        "Укажите признаки, которые вошли в список отобранных\n"
      ]
    },
    {
      "cell_type": "code",
      "execution_count": 26,
      "metadata": {
        "colab": {
          "base_uri": "https://localhost:8080/"
        },
        "id": "TEeqoG20kBLt",
        "outputId": "38b4958a-b17f-40ce-94a2-4c96069476af"
      },
      "outputs": [
        {
          "data": {
            "text/plain": [
              "array(['vendor_id', 'passenger_count', 'pickup_longitude',\n",
              "       'pickup_latitude', 'dropoff_longitude', 'dropoff_latitude',\n",
              "       'store_and_fwd_flag', 'pickup_hour', 'pickup_holiday',\n",
              "       'total_distance', 'total_travel_time', 'number_of_steps',\n",
              "       'haversine_distance', 'temperature', 'pickup_day_of_week_Monday',\n",
              "       'pickup_day_of_week_Saturday', 'pickup_day_of_week_Sunday',\n",
              "       'pickup_day_of_week_Thursday', 'pickup_day_of_week_Tuesday',\n",
              "       'pickup_day_of_week_Wednesday', 'geo_cluster_1', 'geo_cluster_3',\n",
              "       'geo_cluster_5', 'geo_cluster_7', 'geo_cluster_9'], dtype=object)"
            ]
          },
          "execution_count": 26,
          "metadata": {},
          "output_type": "execute_result"
        }
      ],
      "source": [
        "selector = feature_selection.SelectKBest(feature_selection.f_regression, k=25)\n",
        "selector.fit(X_train, y_train_log)\n",
        "best_features = selector.get_feature_names_out()\n",
        "best_features"
      ]
    },
    {
      "cell_type": "code",
      "execution_count": 27,
      "metadata": {
        "id": "Zm3rAhBLv6Ng"
      },
      "outputs": [],
      "source": [
        "X_train = X_train[best_features]\n",
        "X_valid = X_valid[best_features]"
      ]
    },
    {
      "cell_type": "markdown",
      "metadata": {
        "id": "JLOJ_kdlkBLt"
      },
      "source": [
        "Так как мы будем использовать различные модели, в том числе внутри которых заложены численные методы оптимизации, то давайте заранее позаботимся о масштабировании факторов. \n"
      ]
    },
    {
      "cell_type": "markdown",
      "metadata": {
        "id": "9WfHLiGKkBLu"
      },
      "source": [
        "### Задание 4.5.\n",
        "Нормализуйте предикторы в обучающей и валидационной выборках с помощью MinMaxScaler из библиотеки sklearn. Помните, что обучение нормализатора производится на обучающей выборке, а трансформация на обучающей и валидационной!\n",
        "\n",
        "Рассчитайте среднее арифметическое для первого предиктора (т. е. для первого столбца матрицы) из валидационной выборки. Ответ округлите до сотых.\n"
      ]
    },
    {
      "cell_type": "code",
      "execution_count": 28,
      "metadata": {
        "id": "WSslyUgwkBLu"
      },
      "outputs": [],
      "source": [
        "scaler = preprocessing.MinMaxScaler()\n",
        "scaler.fit(X_train)\n",
        "X_train_scal = scaler.transform(X_train)\n",
        "X_valid_scal = scaler.transform(X_valid)"
      ]
    },
    {
      "cell_type": "code",
      "execution_count": 16,
      "metadata": {
        "colab": {
          "base_uri": "https://localhost:8080/"
        },
        "id": "RWBmIVN0teq7",
        "outputId": "2b596bd8-2029-4d62-ac94-7afe9e7074b7"
      },
      "outputs": [
        {
          "name": "stdout",
          "output_type": "stream",
          "text": [
            "Среднее арифметическое для певого предиктора валидационной выборке - 0.54.\n"
          ]
        }
      ],
      "source": [
        "print(f'Среднее арифметическое для певого предиктора валидационной выборке - {round(X_valid_scal[:,0].mean(), 2)}.')"
      ]
    },
    {
      "cell_type": "markdown",
      "metadata": {
        "id": "gaEMuA6skBLu"
      },
      "source": [
        "## 5. Решение задачи регрессии: линейная регрессия и деревья решений"
      ]
    },
    {
      "cell_type": "markdown",
      "metadata": {
        "id": "y-pS_2XykBLu"
      },
      "source": [
        "Определим метрику, по которой мы будем измерять качество наших моделей. Мы будем следовать канонам исходного соревнования на Kaggle и в качестве метрики использовать RMSLE (Root Mean Squared Log Error), которая вычисляется как:\n",
        "$$RMSLE = \\sqrt{\\frac{1}{n}\\sum_{i=1}^n(log(y_i+1)-log(\\hat{y_i}+1))^2},$$\n",
        "где:\n",
        "* $y_i$ - истинная длительность i-ой поездки на такси (trip_duration)\n",
        "* $\\hat{y_i}$- предсказанная моделью длительность i-ой поездки на такси\n",
        "\n",
        "Заметим, что логарифмирование целевого признака мы уже провели заранее, поэтому нам будет достаточно вычислить метрику RMSE для модели, обученной прогнозировать длительность поездки такси в логарифмическом масштабе:\n",
        "$$z_i=log(y_i+1),$$\n",
        "$$RMSLE = \\sqrt{\\frac{1}{n}\\sum_{i=1}^n(z_i-\\hat{z_i})^2}=\\sqrt{MSE(z_i,\\hat{z_i})}$$ \n",
        "\n"
      ]
    },
    {
      "cell_type": "markdown",
      "metadata": {
        "id": "6Qd3xY1-kBLu"
      },
      "source": [
        "### Задание 5.1.\n",
        "Постройте модель линейной регрессии на обучающей выборке (факторы должны быть нормализованы, целевую переменную используйте в логарифмическом масштабе). Все параметры оставьте по умолчанию.\n",
        "\n",
        "Для полученной модели рассчитайте метрику RMSLE на тренировочной и валидационной выборках. Ответ округлите до сотых.\n"
      ]
    },
    {
      "cell_type": "code",
      "execution_count": 53,
      "metadata": {
        "colab": {
          "base_uri": "https://localhost:8080/"
        },
        "id": "R1IB1yK5kBLu",
        "outputId": "f197da34-0522-456f-f13b-c822e50af8aa"
      },
      "outputs": [
        {
          "name": "stdout",
          "output_type": "stream",
          "text": [
            "RMSLE for train - 0.54\n",
            "RMSLE for test - 0.54\n"
          ]
        }
      ],
      "source": [
        "model_lin = linear_model.LinearRegression()\n",
        "model_lin.fit(X_train_scal, y_train_log)\n",
        "y_train_pred = model_lin.predict(X_train_scal)\n",
        "y_test_pred = model_lin.predict(X_valid_scal)\n",
        "\n",
        "print(f'RMSLE for train - {round(metrics.mean_squared_error(y_train_log, y_train_pred, squared=False), 2)}')\n",
        "print(f'RMSLE for test - {round((metrics.mean_squared_error(y_valid_log, y_test_pred, squared=False)), 2)}')"
      ]
    },
    {
      "cell_type": "markdown",
      "metadata": {
        "id": "QSN6i928kBLu"
      },
      "source": [
        "### Задание 5.2.\n",
        "Сгенерируйте полиномиальные признаки 2-ой степени с помощью PolynomialFeatures из библиотеки sklearn. Параметр include_bias выставите в значение False.\n",
        "\n",
        "Постройте модель полиномиальной регрессии 2-ой степени на обучающей выборке (факторы должны быть нормализованы, целевую переменную используйте в логарифмическом масштабе). Все параметры оставьте по умолчанию.\n",
        "\n",
        "а) Для полученной модели рассчитайте метрику RMSLE на тренировочной и валидационной выборках. Ответ округлите до сотых.\n",
        "\n",
        "б) Наблюдаются ли у вашей модели признаки переобучения?\n"
      ]
    },
    {
      "cell_type": "code",
      "execution_count": null,
      "metadata": {
        "id": "gIIWA_arkBLu"
      },
      "outputs": [],
      "source": [
        "poly = preprocessing.PolynomialFeatures(degree=2, include_bias=False)\n",
        "\n",
        "poly.fit(X_train_scal)\n",
        "X_train_poly = poly.transform(X_train_scal)\n",
        "X_valid_poly = poly.transform(X_valid_scal)\n",
        "\n",
        "model_lin_poly = linear_model.LinearRegression()\n",
        "model_lin_poly.fit(X_train_poly, y_train_log)\n",
        "y_train_pred = model_lin_poly.predict(X_train_poly)\n",
        "y_test_pred = model_lin_poly.predict(X_valid_poly)\n",
        "\n",
        "print(f'RMSLE for train - {round(metrics.mean_squared_error(y_train_log, y_train_pred, squared=False), 2)}')\n",
        "print(f'RMSLE for test - {round((metrics.mean_squared_error(y_valid_log, y_test_pred, squared=False)), 2)}')\n"
      ]
    },
    {
      "cell_type": "markdown",
      "metadata": {
        "id": "7ChD_MF6kBLv"
      },
      "source": [
        "### Задание 5.3.\n",
        "Постройте модель полиномиальной регрессии 2-ой степени с L2-регуляризацией (регуляризация по Тихонову) на обучающей выборке  (факторы должны быть нормализованы, целевую переменную используйте в логарифмическом масштабе). Коэффициент регуляризации $\\alpha установите равным 1, остальные параметры оставьте по умолчанию.\n",
        "\n",
        "Для полученной модели рассчитайте метрику RMSLE на тренировочной и валидационной выборках. Ответ округлите до сотых.\n"
      ]
    },
    {
      "cell_type": "code",
      "execution_count": null,
      "metadata": {
        "id": "pwcMCt3XkBLv"
      },
      "outputs": [],
      "source": [
        "model_poly_l2 = linear_model.Ridge(alpha=1)\n",
        "\n",
        "model_poly_l2.fit(X_train_poly, y_train_log)\n",
        "y_train_pred = model_poly_l2.predict(X_train_poly)\n",
        "y_test_pred = model_poly_l2.predict(X_valid_poly)\n",
        "\n",
        "print(f'RMSLE for train - {round(metrics.mean_squared_error(y_train_log, y_train_pred, squared=False), 2)}')\n",
        "print(f'RMSLE for test - {round((metrics.mean_squared_error(y_valid_log, y_test_pred, squared=False)), 2)}')"
      ]
    },
    {
      "cell_type": "markdown",
      "metadata": {
        "id": "aU5EJsIqkBLv"
      },
      "source": [
        "### Задание 5.4.\n",
        "Постройте модель дерева решений (DecisionTreeRegressor) на обучающей выборке (факторы должны быть нормализованы, целевую переменную используйте в логарифмическом масштабе). Все параметры оставьте по умолчанию. \n",
        "\n",
        "а) Для полученной модели рассчитайте метрику RMSLE на тренировочной и валидационной выборках. Ответ округлите до сотых.\n",
        "\n",
        "б) Наблюдаются ли у вашей модели признаки переобучения?\n"
      ]
    },
    {
      "cell_type": "code",
      "execution_count": 54,
      "metadata": {
        "colab": {
          "base_uri": "https://localhost:8080/"
        },
        "id": "SY1G4YcrkBLv",
        "outputId": "824b0aa7-3b2c-4c9f-f1e3-357f64aa160b"
      },
      "outputs": [
        {
          "name": "stdout",
          "output_type": "stream",
          "text": [
            "RMSLE for train - 0.0\n",
            "RMSLE for test - 0.57\n"
          ]
        }
      ],
      "source": [
        "tree_model = tree.DecisionTreeRegressor()\n",
        "tree_model.fit(X_train_scal, y_train_log)\n",
        "\n",
        "y_train_pred = tree_model.predict(X_train_scal)\n",
        "y_test_pred = tree_model.predict(X_valid_scal)\n",
        "\n",
        "print(f'RMSLE for train - {round(metrics.mean_squared_error(y_train_log, y_train_pred, squared=False), 2)}')\n",
        "print(f'RMSLE for test - {round((metrics.mean_squared_error(y_valid_log, y_test_pred, squared=False)), 2)}')"
      ]
    },
    {
      "cell_type": "markdown",
      "metadata": {
        "id": "1YJIlj4ykBLv"
      },
      "source": [
        "### Задание 5.5.\n",
        "Переберите все возможные варианты глубины дерева решений в диапазоне от 7 до 20:\n",
        "\n",
        "max_depths = range(7, 20)\n",
        "\n",
        "Постройте линейные графики изменения метрики RMSE на тренировочной и валидационной выборках в зависимости от значения параметра глубины дерева решений. \n",
        "\n",
        "а) Найдите оптимальное значение максимальной глубины дерева, для которой будет наблюдаться минимальное значение RMSLE на обучающей выборке, но при этом еще не будет наблюдаться переобучение (валидационная кривая еще не начинает возрастать).\n",
        "\n",
        "б) Чему равно значение метрик RMSLE на тренировочной и валидационной выборках для дерева решений с выбранной оптимальной глубиной? Ответ округлите до сотых.\n"
      ]
    },
    {
      "cell_type": "code",
      "execution_count": 17,
      "metadata": {
        "id": "_MbTVYsWkBLv"
      },
      "outputs": [],
      "source": [
        "max_depths = range(7, 20)\n",
        "\n",
        "def tree_depths(X_train, X_test, y_train, y_test):\n",
        "  RMSLE_train = []\n",
        "  RMSLE_test = []\n",
        "  for depth in max_depths:\n",
        "    tree_model = tree.DecisionTreeRegressor(max_depth=depth, random_state=42).fit(X_train, y_train)\n",
        "    y_train_pred = tree_model.predict(X_train)\n",
        "    y_test_pred = tree_model.predict(X_test)\n",
        "    RMSLE_tr = round(metrics.mean_squared_error(y_train, y_train_pred, squared=False), 2)\n",
        "    RMSLE_tes = round((metrics.mean_squared_error(y_test, y_test_pred, squared=False)), 2)\n",
        "    RMSLE_train.append(RMSLE_tr)\n",
        "    RMSLE_test.append(RMSLE_tes)\n",
        "\n",
        "  fig = go.Figure()\n",
        "  fig.add_trace(go.Scatter(x=list(max_depths), y=RMSLE_train, name='Train'))\n",
        "  fig.add_trace(go.Scatter(x=list(max_depths), y=RMSLE_test, name='Valid'))\n",
        "  fig.update_xaxes(title='Depth count')\n",
        "  fig.update_yaxes(title='RMSLE')\n",
        "  fig.update_layout(title='Dependence of RMSLE on the number of trees', height=600, width=800)\n",
        "  return fig.show()"
      ]
    },
    {
      "cell_type": "code",
      "execution_count": 18,
      "metadata": {
        "colab": {
          "base_uri": "https://localhost:8080/",
          "height": 617
        },
        "id": "tlSfmOu7eRs6",
        "outputId": "20b93ea1-99d2-4ce6-cebf-ed9eb9bb4759"
      },
      "outputs": [
        {
          "data": {
            "image/png": "[encoded data removed]"
          },
          "metadata": {},
          "output_type": "display_data"
        }
      ],
      "source": [
        "tree_depths(X_train_scal, X_valid_scal, y_train_log, y_valid_log)"
      ]
    },
    {
      "cell_type": "code",
      "execution_count": 60,
      "metadata": {
        "colab": {
          "base_uri": "https://localhost:8080/"
        },
        "id": "BNYioX8t86Mn",
        "outputId": "16702153-fc77-4a4e-8298-c564aca368bd"
      },
      "outputs": [
        {
          "name": "stdout",
          "output_type": "stream",
          "text": [
            "RMSLE for train - 0.41\n",
            "RMSLE for test - 0.43\n"
          ]
        }
      ],
      "source": [
        "tree_model = tree.DecisionTreeRegressor(max_depth=12)\n",
        "tree_model.fit(X_train_scal, y_train_log)\n",
        "\n",
        "y_train_pred = tree_model.predict(X_train_scal)\n",
        "y_test_pred = tree_model.predict(X_valid_scal)\n",
        "\n",
        "print(f'RMSLE for train - {round(metrics.mean_squared_error(y_train_log, y_train_pred, squared=False), 2)}')\n",
        "print(f'RMSLE for test - {round((metrics.mean_squared_error(y_valid_log, y_test_pred, squared=False)), 2)}')"
      ]
    },
    {
      "cell_type": "markdown",
      "metadata": {
        "id": "zUXrz7YDkBLv"
      },
      "source": [
        "## 6. Решение задачи регрессии: ансамблевые методы и построение прогноза"
      ]
    },
    {
      "cell_type": "markdown",
      "metadata": {
        "id": "297rnbaikBLv"
      },
      "source": [
        "Переходим к тяжелой артиллерии: ансамблевым алгоритмам. "
      ]
    },
    {
      "cell_type": "markdown",
      "metadata": {
        "id": "ZIAGlVjqkBLw"
      },
      "source": [
        "### Задание 6.1.\n",
        "\n",
        "Постройте модель случайного леса на обучающей выборке (факторы должны быть нормализованы, целевую переменную используйте в логарифмическом масштабе). В качестве гиперпараметров укажите следующие:\n",
        "* n_estimators=200,\n",
        "* max_depth=12,\n",
        "* criterion='squared_error',\n",
        "* min_samples_split=20,\n",
        "* random_state=42\n",
        "\n",
        "Для полученной модели рассчитайте метрику RMSLE на тренировочной и валидационной выборках. Ответ округлите до сотых.\n"
      ]
    },
    {
      "cell_type": "code",
      "execution_count": 62,
      "metadata": {
        "colab": {
          "base_uri": "https://localhost:8080/"
        },
        "id": "QQQdFHWfkBLw",
        "outputId": "ef51a983-53be-4faa-d8a8-2022b3922a69"
      },
      "outputs": [
        {
          "name": "stdout",
          "output_type": "stream",
          "text": [
            "RMSLE for train - 0.4\n",
            "RMSLE for test - 0.41\n"
          ]
        }
      ],
      "source": [
        "random_forest = ensemble.RandomForestRegressor(n_estimators=200,\n",
        "                                               max_depth=12,\n",
        "                                               min_samples_split=20,\n",
        "                                               criterion='squared_error',\n",
        "                                               random_state=42)\n",
        "\n",
        "random_forest.fit(X_train_scal, y_train_log)\n",
        "\n",
        "y_train_pred = random_forest.predict(X_train_scal)\n",
        "y_test_pred = random_forest.predict(X_valid_scal)\n",
        "\n",
        "print(f'RMSLE for train - {round(metrics.mean_squared_error(y_train_log, y_train_pred, squared=False), 2)}')\n",
        "print(f'RMSLE for test - {round((metrics.mean_squared_error(y_valid_log, y_test_pred, squared=False)), 2)}')\n"
      ]
    },
    {
      "cell_type": "markdown",
      "metadata": {
        "id": "JZz_qWKDkBLw"
      },
      "source": [
        "### Задание 6.2.\n",
        "Постройте модель градиентного бустинга над деревьями решений (GradientBoostingRegressor) на обучающей выборке (факторы должны быть нормализованы, целевую переменную используйте в логарифмическом масштабе). В качестве гиперпараметров укажите следующие:\n",
        "* learning_rate=0.5,\n",
        "* n_estimators=100,\n",
        "* max_depth=6, \n",
        "* min_samples_split=30,\n",
        "* random_state=42\n",
        "\n",
        "Для полученной модели рассчитайте метрику RMSLE на тренировочной и валидационной выборках. Ответ округлите до сотых.\n"
      ]
    },
    {
      "cell_type": "code",
      "execution_count": 31,
      "metadata": {
        "colab": {
          "base_uri": "https://localhost:8080/"
        },
        "id": "KnnmuhoSkBLw",
        "outputId": "caa3e5cc-d4d8-46d6-a9ad-a00b0f9cdb48"
      },
      "outputs": [
        {
          "name": "stdout",
          "output_type": "stream",
          "text": [
            "RMSLE for train - 0.37\n",
            "RMSLE for test - 0.39\n"
          ]
        }
      ],
      "source": [
        "gb_model = ensemble.GradientBoostingRegressor(n_estimators=100,\n",
        "                                              max_depth=6,\n",
        "                                              min_samples_split=30,\n",
        "                                              learning_rate=0.5,\n",
        "                                              random_state=42)\n",
        "\n",
        "gb_model.fit(X_train_scal, y_train_log)\n",
        "\n",
        "y_train_pred = gb_model.predict(X_train_scal)\n",
        "y_test_pred = gb_model.predict(X_valid_scal)\n",
        "\n",
        "print(f'RMSLE for train - {round(metrics.mean_squared_error(y_train_log, y_train_pred, squared=False), 2)}')\n",
        "print(f'RMSLE for test - {round((metrics.mean_squared_error(y_valid_log, y_test_pred, squared=False)), 2)}')"
      ]
    },
    {
      "cell_type": "markdown",
      "metadata": {
        "id": "zC3NKXLhkBLw"
      },
      "source": [
        "### Задание 6.3.\n",
        "Какая из построенных вами моделей показала наилучший результат (наименьшее значение RMSLE на валидационной выборке)?\n",
        "* Линейная регрессия\n",
        "* Полиномиальная регрессия 2ой степени\n",
        "* Дерево решений\n",
        "* Случайный лес\n",
        "* Градиентный бустинг над деревьями решений\n"
      ]
    },
    {
      "cell_type": "markdown",
      "metadata": {
        "id": "eaBYTxnkkBLx"
      },
      "source": [
        "### Задание 6.4.\n",
        "Постройте столбчатую диаграмму коэффициентов значимости каждого из факторов.\n",
        "\n",
        "Укажите топ-3 наиболее значимых для предсказания целевого признака - длительности поездки в логарифмическом масштабе - факторов.\n"
      ]
    },
    {
      "cell_type": "code",
      "execution_count": 20,
      "metadata": {
        "colab": {
          "base_uri": "https://localhost:8080/",
          "height": 542
        },
        "id": "KmYOePR8kBLx",
        "outputId": "bd94d2bd-52f1-4580-c987-438f853f613e"
      },
      "outputs": [
        {
          "data": {
            "image/png": "[encoded data removed]"
          },
          "metadata": {},
          "output_type": "display_data"
        }
      ],
      "source": [
        "gb_feat = pd.DataFrame([gb_model.feature_importances_], columns=X_train.columns)\n",
        "fig = px.bar(x = list(gb_feat.loc[0].sort_values(ascending=False)[0:5].index),\n",
        "    y=round(gb_feat.loc[0].sort_values(ascending=False)[0:5], 2),\n",
        "    text_auto=True,\n",
        "    title='ТОП-5 features'    \n",
        ")\n",
        "fig.show()"
      ]
    },
    {
      "cell_type": "markdown",
      "metadata": {
        "id": "TQ4NzZaTkBLx"
      },
      "source": [
        "### Задание 6.5.\n",
        "Для лучшей из построенных моделей рассчитайте медианную абсолютную ошибку (MeAE - в sklearn функция median_absolute_error) предсказания длительности поездки такси на валидационной выборке:\n",
        "$$ MeAE = median(|y_i-\\hat{y_i}|)$$\n",
        "\n",
        "Значение метрики MeAE переведите в минуты и округлите до десятых.\n"
      ]
    },
    {
      "cell_type": "code",
      "execution_count": 73,
      "metadata": {
        "colab": {
          "base_uri": "https://localhost:8080/"
        },
        "id": "mOYteyJ-kBLx",
        "outputId": "1ae6b854-8277-49cd-92e0-143ae9a6c47d"
      },
      "outputs": [
        {
          "name": "stdout",
          "output_type": "stream",
          "text": [
            "MeAE for valid = 1.8.\n"
          ]
        }
      ],
      "source": [
        "y_valid = np.exp(y_valid_log) - 1\n",
        "y_test_pred_conv = np.exp(y_test_pred) - 1\n",
        "\n",
        "print(f'MeAE for valid = {round(metrics.median_absolute_error(y_valid, y_test_pred_conv) / 60, 1)}.')"
      ]
    },
    {
      "cell_type": "markdown",
      "metadata": {
        "id": "NZzsSUFfkBLx"
      },
      "source": [
        "Финальный шаг - сделать submit -  предсказание для отложенного тестового набора данных. "
      ]
    },
    {
      "attachments": {},
      "cell_type": "markdown",
      "metadata": {
        "id": "J12UJrZOkBLx"
      },
      "source": [
        "Прочитаем тестовые данные и заранее выделим столбец с идентификаторами поездок из тестового набора данных(доступен по [ссылке](https://drive.google.com/file/d/1XLglRxmQk3b7y1X3XNm7gQiUu4Ln0frl/view?usp=share_link)), он нам еще пригодится.\n",
        "\n",
        "Файл OSRM для тестового набора доступен по [ссылке](https://drive.google.com/file/d/1MR1wr-ifJtcJgralgYCIPB3Jgqr71EsN/view?usp=share_link).\n"
      ]
    },
    {
      "cell_type": "code",
      "execution_count": 29,
      "metadata": {
        "id": "5KAzvZidkBLx"
      },
      "outputs": [],
      "source": [
        "test_data = pd.read_csv(\"Project5_test_data.zip\")\n",
        "osrm_data_test = pd.read_csv(\"Project5_osrm_data_test.zip\")\n",
        "test_id = test_data['id']"
      ]
    },
    {
      "cell_type": "markdown",
      "metadata": {
        "id": "sdrR42JrkBLy"
      },
      "source": [
        "Перед созданием прогноза для тестовой выборки необходимо произвести все манипуляции с данными, которые мы производили с тренировочной выборкой, а именно:\n",
        "* Перевести признак pickup_datetime в формат datetime;\n",
        "* Добавить новые признаки (временные, географические, погодные и другие факторы);\n",
        "* Произвести очистку данных от пропусков;\n",
        "* Произвести кодировку категориальных признаков:\n",
        "    * Закодировать бинарные признаки;\n",
        "    * Закодировать номинальные признаки с помощью обученного на тренировочной выборке OneHotEncoder’а;\n",
        "* Сформировать матрицу наблюдений, оставив в таблице только те признаки, которые были отобраны с помощью SelectKBest;\n",
        "* Нормализовать данные с помощью обученного на тренировочной выборке MinMaxScaler’а.\n"
      ]
    },
    {
      "cell_type": "code",
      "execution_count": 30,
      "metadata": {
        "id": "nqWQbqhGkBLy"
      },
      "outputs": [
        {
          "name": "stdout",
          "output_type": "stream",
          "text": [
            "Shape of data: (625134, 25)\n"
          ]
        }
      ],
      "source": [
        "test_data['pickup_datetime'] = pd.to_datetime(test_data['pickup_datetime'],format='%Y-%m-%d %H:%M:%S')\n",
        "test_data = add_datetime_features(test_data)\n",
        "test_data = add_holiday_features(test_data, holiday_data)\n",
        "test_data = add_osrm_features(test_data, osrm_data_test)\n",
        "test_data = add_geographical_features(test_data)\n",
        "\n",
        "coords = np.hstack((test_data[['pickup_latitude', 'pickup_longitude']],\n",
        "                    test_data[['dropoff_latitude', 'dropoff_longitude']]))\n",
        "# обучаем алгоритм кластеризации\n",
        "kmeans = cluster.KMeans(n_clusters=10, random_state=42)\n",
        "kmeans.fit(coords)\n",
        "\n",
        "test_data = add_cluster_features(test_data, kmeans)\n",
        "test_data = add_weather_features(test_data, weather_data)\n",
        "test_data = fill_null_weather_data(test_data)\n",
        "\n",
        "test_data['vendor_id'] = test_data['vendor_id'].apply(lambda x: 0 if x == 1 else 1)\n",
        "test_data['store_and_fwd_flag'] = test_data['store_and_fwd_flag'].apply(lambda x: 0 if x == 'N' else 1)\n",
        "feature_onehot = test_data[['pickup_day_of_week', 'geo_cluster', 'events']]\n",
        "test_data_onehot = one_code.fit_transform(feature_onehot).toarray()\n",
        "column_names = one_code.get_feature_names_out()\n",
        "test_data_onehot = pd.DataFrame(test_data_onehot, columns=column_names)\n",
        "\n",
        "test_data = pd.concat(\n",
        "    [test_data.reset_index(drop=True).drop(feature_onehot, axis=1), test_data_onehot], \n",
        "    axis=1\n",
        ")\n",
        "X_test = test_data[best_features]\n",
        "X_test_scaled = scaler.transform(X_test)\n",
        "print('Shape of data: {}'.format(X_test.shape))"
      ]
    },
    {
      "cell_type": "markdown",
      "metadata": {
        "id": "24JJ64T4kBLy"
      },
      "source": [
        "Только после выполнения всех этих шагов можно сделать предсказание длительности поездки для тестовой выборки. Не забудьте перевести предсказания из логарифмического масштаба в истинный, используя формулу:\n",
        "$$y_i=exp(z_i)-1$$\n",
        "\n",
        "После того, как вы сформируете предсказание длительности поездок на тестовой выборке вам необходимо будет создать submission-файл в формате csv, отправить его на платформу Kaggle и посмотреть на результирующее значение метрики RMSLE на тестовой выборке.\n",
        "\n",
        "Код для создания submission-файла:\n"
      ]
    },
    {
      "cell_type": "code",
      "execution_count": 39,
      "metadata": {},
      "outputs": [],
      "source": [
        "y_test_predict = np.exp(gb_model.predict(X_test_scaled)) - 1"
      ]
    },
    {
      "cell_type": "code",
      "execution_count": 41,
      "metadata": {
        "id": "JeMAzrHHkBLy"
      },
      "outputs": [],
      "source": [
        "submission = pd.DataFrame({'id': test_id, 'trip_duration': y_test_predict})\n",
        "submission.to_csv('submission_gb.csv', index=False)"
      ]
    },
    {
      "attachments": {},
      "cell_type": "markdown",
      "metadata": {},
      "source": [
        "Файл submission доступен по [ссылке](https://drive.google.com/file/d/10RpczyblbkdRnNyadN1XE6t3JxvTr9Sc/view?usp=share_link)"
      ]
    },
    {
      "cell_type": "markdown",
      "metadata": {
        "id": "iU5BA_XDkBLy"
      },
      "source": [
        "### **В качестве бонуса**\n",
        "\n",
        "В завершение по ансамблевым мы предлагаем вам попробовать улучшить свое предсказание, воспользовавшись моделью экстремального градиентного бустинга (XGBoost) из библиотеки xgboost.\n",
        "\n",
        "**XGBoost** - современная модель машинного обучения, которая является продолжением идеи градиентного бустинга Фридмана. У нее есть несколько преимуществ по сравнению с классической моделью градиентного бустинга из библиотеки sklearn: повышенная производительность путем параллелизации процесса обучения, повышенное качество решения за счет усовершенствования алгоритма бустинга, меньшая склонность к переобучению и широкий функционал возможности управления параметрами модели.\n"
      ]
    },
    {
      "cell_type": "markdown",
      "metadata": {
        "id": "_FARWLbakBLy"
      },
      "source": [
        "Для ее использования необходимо для начала установить пакет xgboost:"
      ]
    },
    {
      "cell_type": "code",
      "execution_count": null,
      "metadata": {
        "id": "h8KXUhyGkBLy"
      },
      "outputs": [],
      "source": [
        "#!pip install xgboost"
      ]
    },
    {
      "cell_type": "markdown",
      "metadata": {
        "id": "urka0597kBLz"
      },
      "source": [
        "После чего модуль можно импортировать:"
      ]
    },
    {
      "cell_type": "code",
      "execution_count": 42,
      "metadata": {
        "id": "kpLIalxfkBLz"
      },
      "outputs": [],
      "source": [
        "import xgboost as xgb"
      ]
    },
    {
      "cell_type": "markdown",
      "metadata": {
        "id": "CwJ80NU7kBLz"
      },
      "source": [
        "Перед обучением модели необходимо перевести наборы данных в тип данных xgboost.DMatrix:"
      ]
    },
    {
      "cell_type": "code",
      "execution_count": 43,
      "metadata": {
        "id": "ehrdmZJekBLz"
      },
      "outputs": [],
      "source": [
        "# Создание матриц наблюдений в формате DMatrix\n",
        "dtrain = xgb.DMatrix(X_train_scal, label=y_train_log, feature_names=best_features)\n",
        "dvalid = xgb.DMatrix(X_valid_scal, label=y_valid_log, feature_names=best_features)\n",
        "dtest = xgb.DMatrix(X_test_scaled, feature_names=best_features)"
      ]
    },
    {
      "cell_type": "markdown",
      "metadata": {
        "id": "kW0LAucxkBLz"
      },
      "source": [
        "Обучение модели XGBoost происходит с помощью метода train, в который необходимо передать параметры модели, набор данных, количество базовых моделей в ансамбле, а также дополнительные параметры:\n"
      ]
    },
    {
      "cell_type": "code",
      "execution_count": 44,
      "metadata": {
        "id": "u0uDs1YakBLz"
      },
      "outputs": [
        {
          "name": "stdout",
          "output_type": "stream",
          "text": [
            "[0]\ttrain-rmse:5.42218\tvalid-rmse:5.42190\n",
            "[10]\ttrain-rmse:1.93576\tvalid-rmse:1.93572\n",
            "[20]\ttrain-rmse:0.78510\tvalid-rmse:0.78595\n",
            "[30]\ttrain-rmse:0.47863\tvalid-rmse:0.48067\n",
            "[40]\ttrain-rmse:0.42062\tvalid-rmse:0.42332\n",
            "[50]\ttrain-rmse:0.40902\tvalid-rmse:0.41217\n",
            "[60]\ttrain-rmse:0.40392\tvalid-rmse:0.40740\n",
            "[70]\ttrain-rmse:0.40094\tvalid-rmse:0.40482\n",
            "[80]\ttrain-rmse:0.39878\tvalid-rmse:0.40296\n",
            "[90]\ttrain-rmse:0.39718\tvalid-rmse:0.40163\n",
            "[100]\ttrain-rmse:0.39565\tvalid-rmse:0.40033\n",
            "[110]\ttrain-rmse:0.39437\tvalid-rmse:0.39930\n",
            "[120]\ttrain-rmse:0.39314\tvalid-rmse:0.39848\n",
            "[130]\ttrain-rmse:0.39198\tvalid-rmse:0.39751\n",
            "[140]\ttrain-rmse:0.39085\tvalid-rmse:0.39687\n",
            "[150]\ttrain-rmse:0.38996\tvalid-rmse:0.39643\n",
            "[160]\ttrain-rmse:0.38920\tvalid-rmse:0.39589\n",
            "[170]\ttrain-rmse:0.38810\tvalid-rmse:0.39507\n",
            "[180]\ttrain-rmse:0.38727\tvalid-rmse:0.39451\n",
            "[190]\ttrain-rmse:0.38656\tvalid-rmse:0.39411\n",
            "[200]\ttrain-rmse:0.38575\tvalid-rmse:0.39356\n",
            "[210]\ttrain-rmse:0.38498\tvalid-rmse:0.39308\n",
            "[220]\ttrain-rmse:0.38442\tvalid-rmse:0.39283\n",
            "[230]\ttrain-rmse:0.38365\tvalid-rmse:0.39245\n",
            "[240]\ttrain-rmse:0.38303\tvalid-rmse:0.39200\n",
            "[250]\ttrain-rmse:0.38249\tvalid-rmse:0.39170\n",
            "[260]\ttrain-rmse:0.38218\tvalid-rmse:0.39163\n",
            "[270]\ttrain-rmse:0.38151\tvalid-rmse:0.39135\n",
            "[280]\ttrain-rmse:0.38101\tvalid-rmse:0.39110\n",
            "[290]\ttrain-rmse:0.38065\tvalid-rmse:0.39101\n",
            "[299]\ttrain-rmse:0.38032\tvalid-rmse:0.39097\n"
          ]
        }
      ],
      "source": [
        "# Гиперпараметры модели\n",
        "xgb_pars = {'min_child_weight': 20, 'eta': 0.1, 'colsample_bytree': 0.9, \n",
        "            'max_depth': 6, 'subsample': 0.9, 'lambda': 1, 'nthread': -1, \n",
        "            'booster' : 'gbtree', 'eval_metric': 'rmse', 'objective': 'reg:squarederror'\n",
        "           }\n",
        "# Тренировочная и валидационная выборка\n",
        "watchlist = [(dtrain, 'train'), (dvalid, 'valid')]\n",
        "# Обучаем модель XGBoost\n",
        "model = xgb.train(\n",
        "    params=xgb_pars, #гиперпараметры модели\n",
        "    dtrain=dtrain, #обучающая выборка\n",
        "    num_boost_round=300, #количество моделей в ансамбле\n",
        "    evals=watchlist, #выборки, на которых считается матрица\n",
        "    early_stopping_rounds=20, #раняя остановка\n",
        "    maximize=False, #смена поиска максимума на минимум\n",
        "    verbose_eval=10 #шаг, через который происходит отображение метрик\n",
        ")"
      ]
    },
    {
      "cell_type": "markdown",
      "metadata": {
        "id": "nDiMljt5kBLz"
      },
      "source": [
        "Предсказать целевой признак на новых данных можно с помощью метода predict():"
      ]
    },
    {
      "cell_type": "code",
      "execution_count": 45,
      "metadata": {
        "id": "XYBTeO7UkBLz"
      },
      "outputs": [
        {
          "name": "stdout",
          "output_type": "stream",
          "text": [
            "Modeling RMSLE 0.39095\n"
          ]
        }
      ],
      "source": [
        "#Делаем предсказание на тестовом наборе данных\n",
        "y_test_predict = np.exp(model.predict(dtest)) - 1\n",
        "print('Modeling RMSLE %.5f' % model.best_score)"
      ]
    },
    {
      "cell_type": "markdown",
      "metadata": {
        "id": "jgBn4xmikBLz"
      },
      "source": [
        "Также как и все модели, основанные на использовании деревьев решений в качестве базовых моделей, XGBoost имеет возможность определения коэффициентов важности факторов. Более того, в библиотеку встроена возможность визуализации важность факторов в виде столбчатой диаграммы. За эту возможность отвечает функция plot_importance():\n"
      ]
    },
    {
      "cell_type": "code",
      "execution_count": 46,
      "metadata": {
        "id": "FEvlaqz4kBLz"
      },
      "outputs": [
        {
          "data": {
            "text/plain": [
              "<AxesSubplot:title={'center':'Feature importance'}, xlabel='F score', ylabel='Features'>"
            ]
          },
          "execution_count": 46,
          "metadata": {},
          "output_type": "execute_result"
        },
        {
          "data": {
            "image/png": "[encoded data removed]",
            "text/plain": [
              "<Figure size 1080x1080 with 1 Axes>"
            ]
          },
          "metadata": {
            "needs_background": "light"
          },
          "output_type": "display_data"
        }
      ],
      "source": [
        "fig, ax = plt.subplots(figsize = (15,15))\n",
        "xgb.plot_importance(model, ax = ax, height=0.5)"
      ]
    }
  ],
  "metadata": {
    "colab": {
      "provenance": []
    },
    "kernelspec": {
      "display_name": "Python 3",
      "language": "python",
      "name": "python3"
    },
    "language_info": {
      "codemirror_mode": {
        "name": "ipython",
        "version": 3
      },
      "file_extension": ".py",
      "mimetype": "text/x-python",
      "name": "python",
      "nbconvert_exporter": "python",
      "pygments_lexer": "ipython3",
      "version": "3.9.13 (tags/v3.9.13:6de2ca5, May 17 2022, 16:36:42) [MSC v.1929 64 bit (AMD64)]"
    },
    "vscode": {
      "interpreter": {
        "hash": "2d4455a2e61ae3957eb3f2dc120d37d8062efc997899814c5a66da8bebe4f69b"
      }
    }
  },
  "nbformat": 4,
  "nbformat_minor": 0
}
